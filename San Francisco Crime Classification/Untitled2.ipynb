{
 "cells": [
  {
   "cell_type": "code",
   "execution_count": 1,
   "id": "56349767",
   "metadata": {},
   "outputs": [],
   "source": [
    "import pandas as pd\n",
    "import numpy as np\n",
    "\n",
    "from sklearn.pipeline import Pipeline\n",
    "from sklearn.preprocessing import OneHotEncoder, LabelEncoder\n",
    "from sklearn.compose import ColumnTransformer\n",
    "from sklearn.model_selection import train_test_split\n",
    "from sklearn.metrics import log_loss\n",
    "\n",
    "from catboost import CatBoostClassifier\n",
    "\n",
    "import matplotlib.pyplot as plt\n",
    "import seaborn as sns"
   ]
  },
  {
   "cell_type": "code",
   "execution_count": 2,
   "id": "facd3c83",
   "metadata": {},
   "outputs": [],
   "source": [
    "df = pd.read_csv(\"../data/San Francisco Crime Classification/train.csv\", parse_dates=[\"Dates\"], nrows=20000)\n",
    "df_test = pd.read_csv(\"../data/San Francisco Crime Classification/test.csv\", parse_dates=[\"Dates\"],nrows=20000)"
   ]
  },
  {
   "cell_type": "code",
   "execution_count": 3,
   "id": "7aa96df8",
   "metadata": {},
   "outputs": [
    {
     "data": {
      "text/plain": [
       "{'Category', 'Descript', 'Resolution'}"
      ]
     },
     "execution_count": 3,
     "metadata": {},
     "output_type": "execute_result"
    }
   ],
   "source": [
    "set(df) - set(df_test)"
   ]
  },
  {
   "cell_type": "code",
   "execution_count": 4,
   "id": "0549126a",
   "metadata": {},
   "outputs": [
    {
     "data": {
      "text/plain": [
       "(20000, 9)"
      ]
     },
     "execution_count": 4,
     "metadata": {},
     "output_type": "execute_result"
    }
   ],
   "source": [
    "df.shape"
   ]
  },
  {
   "cell_type": "code",
   "execution_count": 5,
   "id": "4dcb9057",
   "metadata": {},
   "outputs": [],
   "source": [
    "def add_dates(df):\n",
    "    df[\"Day\"] = df[\"Dates\"].dt.day\n",
    "    df[\"Month\"] = df[\"Dates\"].dt.month    \n",
    "    df[\"Year\"] = df[\"Dates\"].dt.year\n",
    "    \n",
    "    df.drop(\"Dates\", axis=1, inplace=True)\n",
    "    return df"
   ]
  },
  {
   "cell_type": "code",
   "execution_count": 6,
   "id": "8ff8f623",
   "metadata": {},
   "outputs": [],
   "source": [
    "df = add_dates(df)\n",
    "df_test = add_dates(df_test)"
   ]
  },
  {
   "cell_type": "code",
   "execution_count": 7,
   "id": "2ef20f4a",
   "metadata": {},
   "outputs": [],
   "source": [
    "enc = LabelEncoder()"
   ]
  },
  {
   "cell_type": "code",
   "execution_count": 8,
   "id": "4930ed23",
   "metadata": {},
   "outputs": [],
   "source": [
    "df.drop([\"Category\", \"Descript\"], axis=1, inplace=True)"
   ]
  },
  {
   "cell_type": "code",
   "execution_count": 9,
   "id": "88983c41",
   "metadata": {},
   "outputs": [],
   "source": [
    "cat_labels = [c for c in df if not pd.api.types.is_numeric_dtype(df[c]) and c != \"Resolution\"]"
   ]
  },
  {
   "cell_type": "code",
   "execution_count": 10,
   "id": "88d90969",
   "metadata": {},
   "outputs": [
    {
     "data": {
      "text/plain": [
       "['DayOfWeek', 'PdDistrict', 'Address']"
      ]
     },
     "execution_count": 10,
     "metadata": {},
     "output_type": "execute_result"
    }
   ],
   "source": [
    "cat_labels"
   ]
  },
  {
   "cell_type": "code",
   "execution_count": 13,
   "id": "28578c10",
   "metadata": {},
   "outputs": [],
   "source": [
    "cat_encoder = Pipeline([\n",
    "    (\"ohe\", OneHotEncoder(handle_unknown=\"ignore\", sparse_output=False))\n",
    "])"
   ]
  },
  {
   "cell_type": "code",
   "execution_count": 14,
   "id": "6c9eca0c",
   "metadata": {},
   "outputs": [],
   "source": [
    "preprocessor = ColumnTransformer([\n",
    "    (\"cat_encoder\", cat_encoder, cat_labels)\n",
    "], remainder=\"passthrough\")"
   ]
  },
  {
   "cell_type": "code",
   "execution_count": 15,
   "id": "95106c04",
   "metadata": {},
   "outputs": [],
   "source": [
    "X = df.drop(\"Resolution\", axis=1)\n",
    "y = df[\"Resolution\"]"
   ]
  },
  {
   "cell_type": "code",
   "execution_count": 16,
   "id": "d29d0e78",
   "metadata": {},
   "outputs": [],
   "source": [
    "X_train, X_valid, y_train, y_valid = train_test_split(X, y, test_size=0.3)"
   ]
  },
  {
   "cell_type": "code",
   "execution_count": 17,
   "id": "076db586",
   "metadata": {},
   "outputs": [],
   "source": [
    "X_train_encoded = preprocessor.fit_transform(X_train)\n",
    "X_valid_encoded = preprocessor.transform(X_valid)"
   ]
  },
  {
   "cell_type": "code",
   "execution_count": 18,
   "id": "5c481e73",
   "metadata": {},
   "outputs": [],
   "source": [
    "y_train_encoded = enc.fit_transform(y_train)\n",
    "y_valid_encoded = enc.transform(y_valid)"
   ]
  },
  {
   "cell_type": "code",
   "execution_count": 19,
   "id": "31efe748",
   "metadata": {},
   "outputs": [],
   "source": [
    "model = CatBoostClassifier()"
   ]
  },
  {
   "cell_type": "code",
   "execution_count": null,
   "id": "22da8cdf",
   "metadata": {},
   "outputs": [],
   "source": [
    "model.fit(X_train_encoded, y_train_encoded, plot=True, verbose=False);"
   ]
  },
  {
   "cell_type": "code",
   "execution_count": null,
   "id": "054221b3",
   "metadata": {},
   "outputs": [],
   "source": [
    "preprocessor.set_output(transform=\"pandas\");"
   ]
  },
  {
   "cell_type": "code",
   "execution_count": null,
   "id": "505d19b9",
   "metadata": {},
   "outputs": [],
   "source": [
    "df_test_encoded = preprocessor.transform(df_test)"
   ]
  },
  {
   "cell_type": "code",
   "execution_count": null,
   "id": "9cd9ec94",
   "metadata": {},
   "outputs": [],
   "source": []
  }
 ],
 "metadata": {
  "kernelspec": {
   "display_name": "Python 3 (ipykernel)",
   "language": "python",
   "name": "python3"
  },
  "language_info": {
   "codemirror_mode": {
    "name": "ipython",
    "version": 3
   },
   "file_extension": ".py",
   "mimetype": "text/x-python",
   "name": "python",
   "nbconvert_exporter": "python",
   "pygments_lexer": "ipython3",
   "version": "3.9.19"
  }
 },
 "nbformat": 4,
 "nbformat_minor": 5
}
