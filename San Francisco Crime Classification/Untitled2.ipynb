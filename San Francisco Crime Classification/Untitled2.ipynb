{
 "cells": [
  {
   "cell_type": "code",
   "execution_count": 42,
   "id": "dce1873a",
   "metadata": {},
   "outputs": [],
   "source": [
    "import pandas as pd\n",
    "import numpy as np\n",
    "\n",
    "from sklearn.pipeline import Pipeline\n",
    "from sklearn.preprocessing import OneHotEncoder, LabelEncoder\n",
    "from sklearn.compose import ColumnTransformer\n",
    "from sklearn.model_selection import train_test_split\n",
    "from sklearn.metrics import log_loss, accuracy_score\n",
    "\n",
    "from catboost import CatBoostClassifier\n",
    "\n",
    "import matplotlib.pyplot as plt\n",
    "import seaborn as sns"
   ]
  },
  {
   "cell_type": "code",
   "execution_count": 2,
   "id": "978fb3dc",
   "metadata": {},
   "outputs": [],
   "source": [
    "df = pd.read_csv(\"../data/San Francisco Crime Classification/train.csv\", parse_dates=[\"Dates\"], nrows=20000)\n",
    "df_test = pd.read_csv(\"../data/San Francisco Crime Classification/test.csv\", parse_dates=[\"Dates\"], nrows=2000)"
   ]
  },
  {
   "cell_type": "code",
   "execution_count": 3,
   "id": "49005d97",
   "metadata": {},
   "outputs": [
    {
     "data": {
      "text/plain": [
       "{'Category', 'Descript', 'Resolution'}"
      ]
     },
     "execution_count": 3,
     "metadata": {},
     "output_type": "execute_result"
    }
   ],
   "source": [
    "set(df) - set(df_test)"
   ]
  },
  {
   "cell_type": "code",
   "execution_count": 4,
   "id": "aa1c41cf",
   "metadata": {},
   "outputs": [
    {
     "data": {
      "text/plain": [
       "(20000, 9)"
      ]
     },
     "execution_count": 4,
     "metadata": {},
     "output_type": "execute_result"
    }
   ],
   "source": [
    "df.shape"
   ]
  },
  {
   "cell_type": "code",
   "execution_count": 5,
   "id": "25328e07",
   "metadata": {},
   "outputs": [],
   "source": [
    "def add_dates(df):\n",
    "    df[\"Day\"] = df[\"Dates\"].dt.day\n",
    "    df[\"Month\"] = df[\"Dates\"].dt.month    \n",
    "    df[\"Year\"] = df[\"Dates\"].dt.year\n",
    "    \n",
    "    df.drop(\"Dates\", axis=1, inplace=True)\n",
    "    return df"
   ]
  },
  {
   "cell_type": "code",
   "execution_count": 6,
   "id": "b60c31e4",
   "metadata": {},
   "outputs": [],
   "source": [
    "df = add_dates(df)\n",
    "df_test = add_dates(df_test)"
   ]
  },
  {
   "cell_type": "code",
   "execution_count": 7,
   "id": "c6134e79",
   "metadata": {},
   "outputs": [],
   "source": [
    "enc = LabelEncoder()"
   ]
  },
  {
   "cell_type": "code",
   "execution_count": 8,
   "id": "e320b06b",
   "metadata": {},
   "outputs": [],
   "source": [
    "df.drop([\"Category\", \"Descript\"], axis=1, inplace=True)"
   ]
  },
  {
   "cell_type": "code",
   "execution_count": 9,
   "id": "c1364adb",
   "metadata": {},
   "outputs": [],
   "source": [
    "cat_labels = [c for c in df if not pd.api.types.is_numeric_dtype(df[c]) and c != \"Resolution\"]"
   ]
  },
  {
   "cell_type": "code",
   "execution_count": 10,
   "id": "ec4e3636",
   "metadata": {},
   "outputs": [
    {
     "data": {
      "text/plain": [
       "['DayOfWeek', 'PdDistrict', 'Address']"
      ]
     },
     "execution_count": 10,
     "metadata": {},
     "output_type": "execute_result"
    }
   ],
   "source": [
    "cat_labels"
   ]
  },
  {
   "cell_type": "code",
   "execution_count": 11,
   "id": "94193b04",
   "metadata": {},
   "outputs": [],
   "source": [
    "cat_encoder = Pipeline([\n",
    "    (\"ohe\", OneHotEncoder(handle_unknown=\"ignore\", sparse_output=False))\n",
    "])"
   ]
  },
  {
   "cell_type": "code",
   "execution_count": 12,
   "id": "74fe5690",
   "metadata": {},
   "outputs": [],
   "source": [
    "preprocessor = ColumnTransformer([\n",
    "    (\"cat_encoder\", cat_encoder, cat_labels)\n",
    "], remainder=\"passthrough\")"
   ]
  },
  {
   "cell_type": "code",
   "execution_count": 13,
   "id": "0b504670",
   "metadata": {},
   "outputs": [],
   "source": [
    "X = df.drop(\"Resolution\", axis=1)\n",
    "y = df[\"Resolution\"]"
   ]
  },
  {
   "cell_type": "code",
   "execution_count": 14,
   "id": "f2edcca1",
   "metadata": {},
   "outputs": [],
   "source": [
    "X_train, X_valid, y_train, y_valid = train_test_split(X, y, test_size=0.3)"
   ]
  },
  {
   "cell_type": "code",
   "execution_count": 15,
   "id": "94465bd4",
   "metadata": {},
   "outputs": [],
   "source": [
    "X_train_encoded = preprocessor.fit_transform(X_train)\n",
    "X_valid_encoded = preprocessor.transform(X_valid)"
   ]
  },
  {
   "cell_type": "code",
   "execution_count": 16,
   "id": "4d6988cb",
   "metadata": {},
   "outputs": [],
   "source": [
    "y_train_encoded = enc.fit_transform(y_train)\n",
    "y_valid_encoded = enc.transform(y_valid)"
   ]
  },
  {
   "cell_type": "code",
   "execution_count": null,
   "id": "deeb2d72",
   "metadata": {},
   "outputs": [],
   "source": []
  }
 ],
 "metadata": {
  "kernelspec": {
   "display_name": "Python 3 (ipykernel)",
   "language": "python",
   "name": "python3"
  },
  "language_info": {
   "codemirror_mode": {
    "name": "ipython",
    "version": 3
   },
   "file_extension": ".py",
   "mimetype": "text/x-python",
   "name": "python",
   "nbconvert_exporter": "python",
   "pygments_lexer": "ipython3",
   "version": "3.9.19"
  }
 },
 "nbformat": 4,
 "nbformat_minor": 5
}
