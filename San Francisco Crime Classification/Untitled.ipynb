{
 "cells": [
  {
   "cell_type": "markdown",
   "id": "9dedbf85-c3be-4dcb-a0b8-a619a611f0ef",
   "metadata": {},
   "source": [
    "### Jupyter Notebook Description\n",
    "\n",
    "#### Overview\n",
    "This Jupyter Notebook addresses a predictive modeling competition involving crime data from San Francisco spanning nearly 12 years. The dataset encompasses various neighborhoods, and the goal is to predict the category of crimes based on time and location information.\n",
    "\n",
    "#### Context\n",
    "From 1934 to 1963, San Francisco was notorious for housing some of the world's most infamous criminals on Alcatraz Island. Today, the city is recognized more for its technology industry than its historical criminal associations. However, despite its modern identity, issues such as wealth inequality, housing shortages, and a notable crime rate persist, making this predictive modeling challenge relevant and significant.\n",
    "\n",
    "#### Dataset\n",
    "The dataset used in this competition comprises comprehensive crime reports spanning different neighborhoods of San Francisco. It covers a wide range of crime categories and includes temporal and spatial attributes crucial for predictive analysis.\n",
    "\n",
    "#### Objective\n",
    "The primary objective of this notebook is to develop machine learning models that accurately predict the category of crimes based on the provided dataset. Evaluation of model performance is based on the multi-class logarithmic loss metric, emphasizing the importance of both precision and reliability in predictions.\n",
    "\n",
    "#### Methodology\n",
    "1. **Data Exploration**: \n",
    "   - Exploring the structure and attributes of the dataset.\n",
    "   - Analyzing trends and patterns in crime occurrences across different neighborhoods and time periods.\n",
    "\n",
    "2. **Feature Engineering**:\n",
    "   - Preparing the data for modeling by selecting relevant features.\n",
    "   - Encoding categorical variables and handling missing data if necessary.\n",
    "\n",
    "3. **Model Development**:\n",
    "   - Implementing various machine learning algorithms suitable for multi-class classification tasks.\n",
    "   - Fine-tuning models and optimizing hyperparameters to enhance predictive accuracy.\n",
    "\n",
    "4. **Evaluation**:\n",
    "   - Assessing model performance using cross-validation techniques.\n",
    "   - Optimizing models based on the multi-class logarithmic loss metric to ensure robustness and reliability.\n",
    "\n",
    "#### Conclusion\n",
    "By leveraging machine learning techniques on the San Francisco crime dataset, this notebook aims to contribute insights into crime patterns and improve predictive capabilities. The ultimate goal is to develop models that can assist in allocating resources effectively and enhancing public safety measures across the city's diverse neighborhoods."
   ]
  },
  {
   "cell_type": "code",
   "execution_count": 1,
   "id": "459aad1c-20da-4ac9-8350-b0aabfd522ea",
   "metadata": {},
   "outputs": [],
   "source": [
    "import pandas as pd\n",
    "import numpy as np\n",
    "\n",
    "from sklearn.pipeline import Pipeline\n",
    "from sklearn.preprocessing import OneHotEncoder, LabelEncoder\n",
    "from sklearn.compose import ColumnTransformer\n",
    "from sklearn.model_selection import train_test_split\n",
    "from sklearn.metrics import log_loss\n",
    "\n",
    "from catboost import CatBoostClassifier\n",
    "\n",
    "import matplotlib.pyplot as plt\n",
    "import seaborn as sns"
   ]
  },
  {
   "cell_type": "code",
   "execution_count": 76,
   "id": "26cb3c62-db36-4913-bfb5-1e1266bb9366",
   "metadata": {},
   "outputs": [],
   "source": [
    "plt.rcParams[\"figure.figsize\"] = (14, 8)"
   ]
  },
  {
   "cell_type": "code",
   "execution_count": 97,
   "id": "9e3cf340-6b53-40e4-9ccd-80f3d8623933",
   "metadata": {},
   "outputs": [],
   "source": [
    "sns.set_palette(sns.color_palette(\"bright\", 10))"
   ]
  },
  {
   "cell_type": "code",
   "execution_count": 131,
   "id": "d8d9b85d-cf94-46a5-9af9-6087be9f4934",
   "metadata": {},
   "outputs": [],
   "source": [
    "df = pd.read_csv(\"../data/San Francisco Crime Classification/train.csv\", parse_dates=[\"Dates\"])[50000:]"
   ]
  },
  {
   "cell_type": "code",
   "execution_count": 132,
   "id": "f8e78d6e-b596-4aea-932f-b323b2492e20",
   "metadata": {},
   "outputs": [],
   "source": [
    "def add_dates(df):\n",
    "    df[\"Year\"] = df[\"Dates\"].dt.year\n",
    "    df[\"Month\"] = df[\"Dates\"].dt.month\n",
    "    df[\"Day\"] = df[\"Dates\"].dt.day\n",
    "\n",
    "    df.drop(\"Dates\", axis=1, inplace=True)\n",
    "    return df"
   ]
  },
  {
   "cell_type": "code",
   "execution_count": 133,
   "id": "b30ecd05-2bea-404f-a2c8-a2f0e7ebee6b",
   "metadata": {},
   "outputs": [],
   "source": [
    "df = add_dates(df)"
   ]
  },
  {
   "cell_type": "code",
   "execution_count": 134,
   "id": "15e2aa7d-3b5d-476e-b2e7-06c4a940f533",
   "metadata": {},
   "outputs": [
    {
     "data": {
      "text/html": [
       "<div>\n",
       "<style scoped>\n",
       "    .dataframe tbody tr th:only-of-type {\n",
       "        vertical-align: middle;\n",
       "    }\n",
       "\n",
       "    .dataframe tbody tr th {\n",
       "        vertical-align: top;\n",
       "    }\n",
       "\n",
       "    .dataframe thead th {\n",
       "        text-align: right;\n",
       "    }\n",
       "</style>\n",
       "<table border=\"1\" class=\"dataframe\">\n",
       "  <thead>\n",
       "    <tr style=\"text-align: right;\">\n",
       "      <th></th>\n",
       "      <th>Category</th>\n",
       "      <th>Descript</th>\n",
       "      <th>DayOfWeek</th>\n",
       "      <th>PdDistrict</th>\n",
       "      <th>Resolution</th>\n",
       "      <th>Address</th>\n",
       "      <th>X</th>\n",
       "      <th>Y</th>\n",
       "      <th>Year</th>\n",
       "      <th>Month</th>\n",
       "      <th>Day</th>\n",
       "    </tr>\n",
       "  </thead>\n",
       "  <tbody>\n",
       "    <tr>\n",
       "      <th>50000</th>\n",
       "      <td>NON-CRIMINAL</td>\n",
       "      <td>AIDED CASE</td>\n",
       "      <td>Tuesday</td>\n",
       "      <td>TARAVAL</td>\n",
       "      <td>NONE</td>\n",
       "      <td>1700 Block of OCEAN AV</td>\n",
       "      <td>-122.460758</td>\n",
       "      <td>37.724771</td>\n",
       "      <td>2014</td>\n",
       "      <td>9</td>\n",
       "      <td>16</td>\n",
       "    </tr>\n",
       "    <tr>\n",
       "      <th>50001</th>\n",
       "      <td>VEHICLE THEFT</td>\n",
       "      <td>STOLEN TRUCK</td>\n",
       "      <td>Tuesday</td>\n",
       "      <td>MISSION</td>\n",
       "      <td>NONE</td>\n",
       "      <td>300 Block of UTAH ST</td>\n",
       "      <td>-122.406559</td>\n",
       "      <td>37.765178</td>\n",
       "      <td>2014</td>\n",
       "      <td>9</td>\n",
       "      <td>16</td>\n",
       "    </tr>\n",
       "    <tr>\n",
       "      <th>50002</th>\n",
       "      <td>NON-CRIMINAL</td>\n",
       "      <td>CASE CLOSURE</td>\n",
       "      <td>Tuesday</td>\n",
       "      <td>CENTRAL</td>\n",
       "      <td>ARREST, BOOKED</td>\n",
       "      <td>100 Block of SUTTER ST</td>\n",
       "      <td>-122.403366</td>\n",
       "      <td>37.789945</td>\n",
       "      <td>2014</td>\n",
       "      <td>9</td>\n",
       "      <td>16</td>\n",
       "    </tr>\n",
       "    <tr>\n",
       "      <th>50003</th>\n",
       "      <td>LARCENY/THEFT</td>\n",
       "      <td>GRAND THEFT FROM PERSON</td>\n",
       "      <td>Tuesday</td>\n",
       "      <td>SOUTHERN</td>\n",
       "      <td>ARREST, BOOKED</td>\n",
       "      <td>1100 Block of MARKET ST</td>\n",
       "      <td>-122.413711</td>\n",
       "      <td>37.779666</td>\n",
       "      <td>2014</td>\n",
       "      <td>9</td>\n",
       "      <td>16</td>\n",
       "    </tr>\n",
       "    <tr>\n",
       "      <th>50004</th>\n",
       "      <td>OTHER OFFENSES</td>\n",
       "      <td>PROBATION VIOLATION</td>\n",
       "      <td>Tuesday</td>\n",
       "      <td>SOUTHERN</td>\n",
       "      <td>ARREST, BOOKED</td>\n",
       "      <td>1100 Block of MARKET ST</td>\n",
       "      <td>-122.413711</td>\n",
       "      <td>37.779666</td>\n",
       "      <td>2014</td>\n",
       "      <td>9</td>\n",
       "      <td>16</td>\n",
       "    </tr>\n",
       "  </tbody>\n",
       "</table>\n",
       "</div>"
      ],
      "text/plain": [
       "             Category                 Descript DayOfWeek PdDistrict  \\\n",
       "50000    NON-CRIMINAL               AIDED CASE   Tuesday    TARAVAL   \n",
       "50001   VEHICLE THEFT             STOLEN TRUCK   Tuesday    MISSION   \n",
       "50002    NON-CRIMINAL             CASE CLOSURE   Tuesday    CENTRAL   \n",
       "50003   LARCENY/THEFT  GRAND THEFT FROM PERSON   Tuesday   SOUTHERN   \n",
       "50004  OTHER OFFENSES      PROBATION VIOLATION   Tuesday   SOUTHERN   \n",
       "\n",
       "           Resolution                  Address           X          Y  Year  \\\n",
       "50000            NONE   1700 Block of OCEAN AV -122.460758  37.724771  2014   \n",
       "50001            NONE     300 Block of UTAH ST -122.406559  37.765178  2014   \n",
       "50002  ARREST, BOOKED   100 Block of SUTTER ST -122.403366  37.789945  2014   \n",
       "50003  ARREST, BOOKED  1100 Block of MARKET ST -122.413711  37.779666  2014   \n",
       "50004  ARREST, BOOKED  1100 Block of MARKET ST -122.413711  37.779666  2014   \n",
       "\n",
       "       Month  Day  \n",
       "50000      9   16  \n",
       "50001      9   16  \n",
       "50002      9   16  \n",
       "50003      9   16  \n",
       "50004      9   16  "
      ]
     },
     "execution_count": 134,
     "metadata": {},
     "output_type": "execute_result"
    }
   ],
   "source": [
    "df.head()"
   ]
  },
  {
   "cell_type": "code",
   "execution_count": 83,
   "id": "879d1897-12fa-4f2a-ab1c-55e73b5fa6b6",
   "metadata": {},
   "outputs": [
    {
     "data": {
      "text/plain": [
       "Category      0\n",
       "Descript      0\n",
       "DayOfWeek     0\n",
       "PdDistrict    0\n",
       "Resolution    0\n",
       "Address       0\n",
       "X             0\n",
       "Y             0\n",
       "Year          0\n",
       "Month         0\n",
       "Day           0\n",
       "dtype: int64"
      ]
     },
     "execution_count": 83,
     "metadata": {},
     "output_type": "execute_result"
    }
   ],
   "source": [
    "df.isna().sum()"
   ]
  },
  {
   "cell_type": "code",
   "execution_count": 84,
   "id": "b0a11201-993c-4997-9388-419cc9d60b66",
   "metadata": {},
   "outputs": [
    {
     "data": {
      "text/plain": [
       "Category       object\n",
       "Descript       object\n",
       "DayOfWeek      object\n",
       "PdDistrict     object\n",
       "Resolution     object\n",
       "Address        object\n",
       "X             float64\n",
       "Y             float64\n",
       "Year            int32\n",
       "Month           int32\n",
       "Day             int32\n",
       "dtype: object"
      ]
     },
     "execution_count": 84,
     "metadata": {},
     "output_type": "execute_result"
    }
   ],
   "source": [
    "df.dtypes"
   ]
  },
  {
   "cell_type": "code",
   "execution_count": 33,
   "id": "970cbb69-05d4-41d7-93b7-7f968ee36e13",
   "metadata": {},
   "outputs": [],
   "source": [
    "cat_labels = [c for c in df if not pd.api.types.is_numeric_dtype(df[c]) and c != \"Category\"]"
   ]
  },
  {
   "cell_type": "code",
   "execution_count": 34,
   "id": "0576eb89-743e-4ce6-9959-78916997e6a7",
   "metadata": {},
   "outputs": [],
   "source": [
    "X = df.drop(\"Category\", axis=1)\n",
    "y = df[\"Category\"]"
   ]
  },
  {
   "cell_type": "code",
   "execution_count": 35,
   "id": "82b85345-95ce-4e1a-bf6d-cbfd3f907a09",
   "metadata": {},
   "outputs": [],
   "source": [
    "X_train, X_valid, y_train, y_valid = train_test_split(X, y, test_size=0.4)"
   ]
  },
  {
   "cell_type": "code",
   "execution_count": 36,
   "id": "1f591c32-86b3-43a5-b2d4-e3d278d99244",
   "metadata": {},
   "outputs": [],
   "source": [
    "preprocessor = ColumnTransformer([\n",
    "    (\"ohe\", OneHotEncoder(handle_unknown=\"ignore\"), cat_labels)\n",
    "], remainder=\"passthrough\")"
   ]
  },
  {
   "cell_type": "code",
   "execution_count": 37,
   "id": "fe9dd906-695d-4914-a33f-5c03d73746ea",
   "metadata": {},
   "outputs": [],
   "source": [
    "X_train_prep = preprocessor.fit_transform(X_train)\n",
    "X_valid_prep = preprocessor.transform(X_valid)"
   ]
  },
  {
   "cell_type": "code",
   "execution_count": 38,
   "id": "642551db-82fb-4533-8872-5e0f59385ad3",
   "metadata": {},
   "outputs": [],
   "source": [
    "enc = LabelEncoder()\n",
    "\n",
    "y_train_encoded = enc.fit_transform(y_train)\n",
    "y_valid_encoded = enc.transform(y_valid)"
   ]
  },
  {
   "cell_type": "code",
   "execution_count": 39,
   "id": "1f7a7323-f29f-422c-a37a-4b8a01a7fff5",
   "metadata": {},
   "outputs": [],
   "source": [
    "model = CatBoostClassifier(verbose=False)"
   ]
  },
  {
   "cell_type": "code",
   "execution_count": 40,
   "id": "de507a18-f6a2-40a6-be5f-e6113358c667",
   "metadata": {},
   "outputs": [
    {
     "data": {
      "application/vnd.jupyter.widget-view+json": {
       "model_id": "de23ba3eba9a483e949a4a82cbc3bf01",
       "version_major": 2,
       "version_minor": 0
      },
      "text/plain": [
       "MetricVisualizer(layout=Layout(align_self='stretch', height='500px'))"
      ]
     },
     "metadata": {},
     "output_type": "display_data"
    },
    {
     "name": "stdout",
     "output_type": "stream",
     "text": [
      "CPU times: total: 25min 22s\n",
      "Wall time: 7min 19s\n"
     ]
    }
   ],
   "source": [
    "%%time\n",
    "model.fit(X_train_prep, y_train_encoded, plot=True, eval_set=(X_valid_prep, y_valid_encoded), early_stopping_rounds=5);"
   ]
  },
  {
   "cell_type": "code",
   "execution_count": 41,
   "id": "9e924549-f528-4efa-9ea6-5c1be167ef6c",
   "metadata": {},
   "outputs": [
    {
     "data": {
      "text/plain": [
       "0.9854"
      ]
     },
     "execution_count": 41,
     "metadata": {},
     "output_type": "execute_result"
    }
   ],
   "source": [
    "model.score(X_valid_prep, y_valid_encoded)"
   ]
  },
  {
   "cell_type": "code",
   "execution_count": 120,
   "id": "5ecb1f21-118d-498a-bcf6-6a49db823e13",
   "metadata": {},
   "outputs": [
    {
     "data": {
      "image/png": "[encoded data removed]",
      "text/plain": [
       "<Figure size 1400x800 with 1 Axes>"
      ]
     },
     "metadata": {},
     "output_type": "display_data"
    }
   ],
   "source": [
    "sns.countplot(data=df, x=\"Descript\", order=df[\"Descript\"].value_counts().iloc[:7].index, hue=\"Year\")\n",
    "plt.xticks(rotation=90);"
   ]
  },
  {
   "cell_type": "code",
   "execution_count": null,
   "id": "e079b03c-723a-4799-aba9-2c2d812698ea",
   "metadata": {},
   "outputs": [],
   "source": []
  }
 ],
 "metadata": {
  "kernelspec": {
   "display_name": "Python 3 (ipykernel)",
   "language": "python",
   "name": "python3"
  },
  "language_info": {
   "codemirror_mode": {
    "name": "ipython",
    "version": 3
   },
   "file_extension": ".py",
   "mimetype": "text/x-python",
   "name": "python",
   "nbconvert_exporter": "python",
   "pygments_lexer": "ipython3",
   "version": "3.9.18"
  }
 },
 "nbformat": 4,
 "nbformat_minor": 5
}
