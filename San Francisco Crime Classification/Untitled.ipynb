{
 "cells": [
  {
   "cell_type": "markdown",
   "id": "9dedbf85-c3be-4dcb-a0b8-a619a611f0ef",
   "metadata": {},
   "source": [
    "### Jupyter Notebook Description\n",
    "\n",
    "#### Overview\n",
    "This Jupyter Notebook addresses a predictive modeling competition involving crime data from San Francisco spanning nearly 12 years. The dataset encompasses various neighborhoods, and the goal is to predict the category of crimes based on time and location information.\n",
    "\n",
    "#### Context\n",
    "From 1934 to 1963, San Francisco was notorious for housing some of the world's most infamous criminals on Alcatraz Island. Today, the city is recognized more for its technology industry than its historical criminal associations. However, despite its modern identity, issues such as wealth inequality, housing shortages, and a notable crime rate persist, making this predictive modeling challenge relevant and significant.\n",
    "\n",
    "#### Dataset\n",
    "The dataset used in this competition comprises comprehensive crime reports spanning different neighborhoods of San Francisco. It covers a wide range of crime categories and includes temporal and spatial attributes crucial for predictive analysis.\n",
    "\n",
    "#### Objective\n",
    "The primary objective of this notebook is to develop machine learning models that accurately predict the category of crimes based on the provided dataset. Evaluation of model performance is based on the multi-class logarithmic loss metric, emphasizing the importance of both precision and reliability in predictions.\n",
    "\n",
    "#### Methodology\n",
    "1. **Data Exploration**: \n",
    "   - Exploring the structure and attributes of the dataset.\n",
    "   - Analyzing trends and patterns in crime occurrences across different neighborhoods and time periods.\n",
    "\n",
    "2. **Feature Engineering**:\n",
    "   - Preparing the data for modeling by selecting relevant features.\n",
    "   - Encoding categorical variables and handling missing data if necessary.\n",
    "\n",
    "3. **Model Development**:\n",
    "   - Implementing various machine learning algorithms suitable for multi-class classification tasks.\n",
    "   - Fine-tuning models and optimizing hyperparameters to enhance predictive accuracy.\n",
    "\n",
    "4. **Evaluation**:\n",
    "   - Assessing model performance using cross-validation techniques.\n",
    "   - Optimizing models based on the multi-class logarithmic loss metric to ensure robustness and reliability.\n",
    "\n",
    "#### Conclusion\n",
    "By leveraging machine learning techniques on the San Francisco crime dataset, this notebook aims to contribute insights into crime patterns and improve predictive capabilities. The ultimate goal is to develop models that can assist in allocating resources effectively and enhancing public safety measures across the city's diverse neighborhoods."
   ]
  },
  {
   "cell_type": "code",
   "execution_count": 1,
   "id": "459aad1c-20da-4ac9-8350-b0aabfd522ea",
   "metadata": {},
   "outputs": [],
   "source": [
    "import pandas as pd\n",
    "import numpy as np\n",
    "\n",
    "from sklearn.pipeline import Pipeline\n",
    "from sklearn.preprocessing import OneHotEncoder, LabelEncoder\n",
    "from sklearn.compose import ColumnTransformer\n",
    "from sklearn.model_selection import train_test_split\n",
    "from sklearn.metrics import log_loss\n",
    "\n",
    "from catboost import CatBoostClassifier\n",
    "\n",
    "import matplotlib.pyplot as plt\n",
    "import seaborn as sns"
   ]
  },
  {
   "cell_type": "code",
   "execution_count": 2,
   "id": "9e3cf340-6b53-40e4-9ccd-80f3d8623933",
   "metadata": {},
   "outputs": [],
   "source": [
    "sns.set_palette(sns.color_palette(\"pastel\"))"
   ]
  },
  {
   "cell_type": "code",
   "execution_count": 3,
   "id": "d8d9b85d-cf94-46a5-9af9-6087be9f4934",
   "metadata": {},
   "outputs": [],
   "source": [
    "df = pd.read_csv(\"../data/San Francisco Crime Classification/train.csv\", parse_dates=[\"Dates\"])"
   ]
  },
  {
   "cell_type": "code",
   "execution_count": 4,
   "id": "f8e78d6e-b596-4aea-932f-b323b2492e20",
   "metadata": {},
   "outputs": [],
   "source": [
    "def add_dates(df):\n",
    "    df[\"Year\"] = df[\"Dates\"].dt.year\n",
    "    df[\"Month\"] = df[\"Dates\"].dt.month\n",
    "    df[\"Day\"] = df[\"Dates\"].dt.day\n",
    "\n",
    "    df.drop(\"Dates\", axis=1, inplace=True)\n",
    "    return df"
   ]
  },
  {
   "cell_type": "code",
   "execution_count": 5,
   "id": "b30ecd05-2bea-404f-a2c8-a2f0e7ebee6b",
   "metadata": {},
   "outputs": [],
   "source": [
    "df = add_dates(df)"
   ]
  },
  {
   "cell_type": "code",
   "execution_count": 6,
   "id": "15e2aa7d-3b5d-476e-b2e7-06c4a940f533",
   "metadata": {},
   "outputs": [
    {
     "data": {
      "text/html": [
       "<div>\n",
       "<style scoped>\n",
       "    .dataframe tbody tr th:only-of-type {\n",
       "        vertical-align: middle;\n",
       "    }\n",
       "\n",
       "    .dataframe tbody tr th {\n",
       "        vertical-align: top;\n",
       "    }\n",
       "\n",
       "    .dataframe thead th {\n",
       "        text-align: right;\n",
       "    }\n",
       "</style>\n",
       "<table border=\"1\" class=\"dataframe\">\n",
       "  <thead>\n",
       "    <tr style=\"text-align: right;\">\n",
       "      <th></th>\n",
       "      <th>Category</th>\n",
       "      <th>Descript</th>\n",
       "      <th>DayOfWeek</th>\n",
       "      <th>PdDistrict</th>\n",
       "      <th>Resolution</th>\n",
       "      <th>Address</th>\n",
       "      <th>X</th>\n",
       "      <th>Y</th>\n",
       "      <th>Year</th>\n",
       "      <th>Month</th>\n",
       "      <th>Day</th>\n",
       "    </tr>\n",
       "  </thead>\n",
       "  <tbody>\n",
       "    <tr>\n",
       "      <th>0</th>\n",
       "      <td>WARRANTS</td>\n",
       "      <td>WARRANT ARREST</td>\n",
       "      <td>Wednesday</td>\n",
       "      <td>NORTHERN</td>\n",
       "      <td>ARREST, BOOKED</td>\n",
       "      <td>OAK ST / LAGUNA ST</td>\n",
       "      <td>-122.425892</td>\n",
       "      <td>37.774599</td>\n",
       "      <td>2015</td>\n",
       "      <td>5</td>\n",
       "      <td>13</td>\n",
       "    </tr>\n",
       "    <tr>\n",
       "      <th>1</th>\n",
       "      <td>OTHER OFFENSES</td>\n",
       "      <td>TRAFFIC VIOLATION ARREST</td>\n",
       "      <td>Wednesday</td>\n",
       "      <td>NORTHERN</td>\n",
       "      <td>ARREST, BOOKED</td>\n",
       "      <td>OAK ST / LAGUNA ST</td>\n",
       "      <td>-122.425892</td>\n",
       "      <td>37.774599</td>\n",
       "      <td>2015</td>\n",
       "      <td>5</td>\n",
       "      <td>13</td>\n",
       "    </tr>\n",
       "    <tr>\n",
       "      <th>2</th>\n",
       "      <td>OTHER OFFENSES</td>\n",
       "      <td>TRAFFIC VIOLATION ARREST</td>\n",
       "      <td>Wednesday</td>\n",
       "      <td>NORTHERN</td>\n",
       "      <td>ARREST, BOOKED</td>\n",
       "      <td>VANNESS AV / GREENWICH ST</td>\n",
       "      <td>-122.424363</td>\n",
       "      <td>37.800414</td>\n",
       "      <td>2015</td>\n",
       "      <td>5</td>\n",
       "      <td>13</td>\n",
       "    </tr>\n",
       "    <tr>\n",
       "      <th>3</th>\n",
       "      <td>LARCENY/THEFT</td>\n",
       "      <td>GRAND THEFT FROM LOCKED AUTO</td>\n",
       "      <td>Wednesday</td>\n",
       "      <td>NORTHERN</td>\n",
       "      <td>NONE</td>\n",
       "      <td>1500 Block of LOMBARD ST</td>\n",
       "      <td>-122.426995</td>\n",
       "      <td>37.800873</td>\n",
       "      <td>2015</td>\n",
       "      <td>5</td>\n",
       "      <td>13</td>\n",
       "    </tr>\n",
       "    <tr>\n",
       "      <th>4</th>\n",
       "      <td>LARCENY/THEFT</td>\n",
       "      <td>GRAND THEFT FROM LOCKED AUTO</td>\n",
       "      <td>Wednesday</td>\n",
       "      <td>PARK</td>\n",
       "      <td>NONE</td>\n",
       "      <td>100 Block of BRODERICK ST</td>\n",
       "      <td>-122.438738</td>\n",
       "      <td>37.771541</td>\n",
       "      <td>2015</td>\n",
       "      <td>5</td>\n",
       "      <td>13</td>\n",
       "    </tr>\n",
       "  </tbody>\n",
       "</table>\n",
       "</div>"
      ],
      "text/plain": [
       "         Category                      Descript  DayOfWeek PdDistrict  \\\n",
       "0        WARRANTS                WARRANT ARREST  Wednesday   NORTHERN   \n",
       "1  OTHER OFFENSES      TRAFFIC VIOLATION ARREST  Wednesday   NORTHERN   \n",
       "2  OTHER OFFENSES      TRAFFIC VIOLATION ARREST  Wednesday   NORTHERN   \n",
       "3   LARCENY/THEFT  GRAND THEFT FROM LOCKED AUTO  Wednesday   NORTHERN   \n",
       "4   LARCENY/THEFT  GRAND THEFT FROM LOCKED AUTO  Wednesday       PARK   \n",
       "\n",
       "       Resolution                    Address           X          Y  Year  \\\n",
       "0  ARREST, BOOKED         OAK ST / LAGUNA ST -122.425892  37.774599  2015   \n",
       "1  ARREST, BOOKED         OAK ST / LAGUNA ST -122.425892  37.774599  2015   \n",
       "2  ARREST, BOOKED  VANNESS AV / GREENWICH ST -122.424363  37.800414  2015   \n",
       "3            NONE   1500 Block of LOMBARD ST -122.426995  37.800873  2015   \n",
       "4            NONE  100 Block of BRODERICK ST -122.438738  37.771541  2015   \n",
       "\n",
       "   Month  Day  \n",
       "0      5   13  \n",
       "1      5   13  \n",
       "2      5   13  \n",
       "3      5   13  \n",
       "4      5   13  "
      ]
     },
     "execution_count": 6,
     "metadata": {},
     "output_type": "execute_result"
    }
   ],
   "source": [
    "df.head()"
   ]
  },
  {
   "cell_type": "code",
   "execution_count": 7,
   "id": "879d1897-12fa-4f2a-ab1c-55e73b5fa6b6",
   "metadata": {},
   "outputs": [
    {
     "data": {
      "text/plain": [
       "Category      0\n",
       "Descript      0\n",
       "DayOfWeek     0\n",
       "PdDistrict    0\n",
       "Resolution    0\n",
       "Address       0\n",
       "X             0\n",
       "Y             0\n",
       "Year          0\n",
       "Month         0\n",
       "Day           0\n",
       "dtype: int64"
      ]
     },
     "execution_count": 7,
     "metadata": {},
     "output_type": "execute_result"
    }
   ],
   "source": [
    "df.isna().sum()"
   ]
  },
  {
   "cell_type": "code",
   "execution_count": 8,
   "id": "b0a11201-993c-4997-9388-419cc9d60b66",
   "metadata": {},
   "outputs": [
    {
     "data": {
      "text/plain": [
       "Category       object\n",
       "Descript       object\n",
       "DayOfWeek      object\n",
       "PdDistrict     object\n",
       "Resolution     object\n",
       "Address        object\n",
       "X             float64\n",
       "Y             float64\n",
       "Year            int32\n",
       "Month           int32\n",
       "Day             int32\n",
       "dtype: object"
      ]
     },
     "execution_count": 8,
     "metadata": {},
     "output_type": "execute_result"
    }
   ],
   "source": [
    "df.dtypes"
   ]
  },
  {
   "cell_type": "code",
   "execution_count": 9,
   "id": "970cbb69-05d4-41d7-93b7-7f968ee36e13",
   "metadata": {},
   "outputs": [],
   "source": [
    "cat_labels = [c for c in df if not pd.api.types.is_numeric_dtype(df[c]) and c != \"Category\"]"
   ]
  },
  {
   "cell_type": "code",
   "execution_count": 10,
   "id": "0576eb89-743e-4ce6-9959-78916997e6a7",
   "metadata": {},
   "outputs": [],
   "source": [
    "X = df.drop(\"Category\", axis=1)\n",
    "y = df[\"Category\"]"
   ]
  },
  {
   "cell_type": "code",
   "execution_count": 11,
   "id": "82b85345-95ce-4e1a-bf6d-cbfd3f907a09",
   "metadata": {},
   "outputs": [],
   "source": [
    "X_train, X_valid, y_train, y_valid = train_test_split(X, y, test_size=0.4)"
   ]
  },
  {
   "cell_type": "code",
   "execution_count": 12,
   "id": "1f591c32-86b3-43a5-b2d4-e3d278d99244",
   "metadata": {},
   "outputs": [],
   "source": [
    "preprocessor = ColumnTransformer([\n",
    "    (\"ohe\", OneHotEncoder(handle_unknown=\"ignore\"), cat_labels)\n",
    "], remainder=\"passthrough\")"
   ]
  },
  {
   "cell_type": "code",
   "execution_count": 13,
   "id": "fe9dd906-695d-4914-a33f-5c03d73746ea",
   "metadata": {},
   "outputs": [],
   "source": [
    "X_train_prep = preprocessor.fit_transform(X_train)\n",
    "X_valid_prep = preprocessor.transform(X_valid)"
   ]
  },
  {
   "cell_type": "code",
   "execution_count": 75,
   "id": "ff569ef3-00ca-46ea-85d4-ec737b8caac7",
   "metadata": {},
   "outputs": [],
   "source": [
    "enc = LabelEncoder()\n",
    "\n",
    "y_train_encoded = enc.fit_transform(y_train)\n",
    "y_valid_encoded = enc.transform(y_valid)"
   ]
  },
  {
   "cell_type": "code",
   "execution_count": 76,
   "id": "1f7a7323-f29f-422c-a37a-4b8a01a7fff5",
   "metadata": {},
   "outputs": [],
   "source": [
    "model = CatBoostClassifier(verbose=False)"
   ]
  },
  {
   "cell_type": "code",
   "execution_count": 77,
   "id": "de507a18-f6a2-40a6-be5f-e6113358c667",
   "metadata": {},
   "outputs": [
    {
     "data": {
      "application/vnd.jupyter.widget-view+json": {
       "model_id": "39b8731c14294cb1b48191f077afd4ad",
       "version_major": 2,
       "version_minor": 0
      },
      "text/plain": [
       "MetricVisualizer(layout=Layout(align_self='stretch', height='500px'))"
      ]
     },
     "metadata": {},
     "output_type": "display_data"
    },
    {
     "name": "stdout",
     "output_type": "stream",
     "text": [
      "CPU times: total: 3h 48min 53s\n",
      "Wall time: 1h 3min\n"
     ]
    }
   ],
   "source": [
    "%%time\n",
    "model.fit(X_train_prep, y_train, plot=True, early_stopping_rounds=10, eval_set=(X_valid_prep, y_valid));"
   ]
  },
  {
   "cell_type": "code",
   "execution_count": 78,
   "id": "050c04ae-9778-429e-99a1-7f514cb3fb92",
   "metadata": {},
   "outputs": [
    {
     "data": {
      "text/plain": [
       "0.9977193781675303"
      ]
     },
     "execution_count": 78,
     "metadata": {},
     "output_type": "execute_result"
    }
   ],
   "source": [
    "model.score(X_valid_prep, y_valid)"
   ]
  },
  {
   "cell_type": "code",
   "execution_count": 90,
   "id": "18d44005-e38c-46b8-97e6-df5c3cc8be2b",
   "metadata": {},
   "outputs": [],
   "source": [
    "y_preds = model.predict(X_valid_prep)"
   ]
  },
  {
   "cell_type": "code",
   "execution_count": 92,
   "id": "0d4d7a18-fda9-4be3-9429-3517995e5f17",
   "metadata": {},
   "outputs": [],
   "source": [
    "y_preds = y_preds.reshape((-1, ))"
   ]
  },
  {
   "cell_type": "code",
   "execution_count": 93,
   "id": "308ef3bf-404f-4f19-8480-e77cdebe1308",
   "metadata": {},
   "outputs": [],
   "source": [
    "y_preds = enc.transform(y_preds)"
   ]
  },
  {
   "cell_type": "code",
   "execution_count": null,
   "id": "03b63bda-a418-4338-ab35-4dbf75c6b7c4",
   "metadata": {},
   "outputs": [],
   "source": []
  }
 ],
 "metadata": {
  "kernelspec": {
   "display_name": "Python 3 (ipykernel)",
   "language": "python",
   "name": "python3"
  },
  "language_info": {
   "codemirror_mode": {
    "name": "ipython",
    "version": 3
   },
   "file_extension": ".py",
   "mimetype": "text/x-python",
   "name": "python",
   "nbconvert_exporter": "python",
   "pygments_lexer": "ipython3",
   "version": "3.9.18"
  }
 },
 "nbformat": 4,
 "nbformat_minor": 5
}
