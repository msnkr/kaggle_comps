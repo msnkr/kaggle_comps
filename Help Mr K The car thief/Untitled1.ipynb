{
 "cells": [
  {
   "cell_type": "markdown",
   "id": "4369832c-c71e-4ee7-866e-944f10d14b02",
   "metadata": {},
   "source": [
    "Let me retry this job and see if I can get a better MAE score than 6946.85"
   ]
  },
  {
   "cell_type": "code",
   "execution_count": 66,
   "id": "7edb299d-ec79-4a6a-82e0-b5dc856cc275",
   "metadata": {},
   "outputs": [],
   "source": [
    "import pandas as pd\n",
    "import numpy as np\n",
    "\n",
    "import optuna\n",
    "from sklearn.model_selection import train_test_split, GridSearchCV\n",
    "from sklearn.compose import ColumnTransformer\n",
    "from sklearn.impute import SimpleImputer\n",
    "from sklearn.pipeline import Pipeline\n",
    "from sklearn.preprocessing import StandardScaler, OneHotEncoder\n",
    "from sklearn.metrics import mean_absolute_error\n",
    "from sklearn.ensemble import RandomForestRegressor\n",
    "\n",
    "from catboost import CatBoostRegressor\n",
    "\n",
    "import matplotlib.pyplot as plt\n",
    "import seaborn as sns"
   ]
  },
  {
   "cell_type": "code",
   "execution_count": 2,
   "id": "2115459f-a1bb-4889-814c-e1c3bc52e2a4",
   "metadata": {},
   "outputs": [],
   "source": [
    "df = pd.read_csv(\"../data/Help Mr K The car thief/car_prices_train.csv\")"
   ]
  },
  {
   "cell_type": "code",
   "execution_count": 5,
   "id": "f3ab6524-c28b-4e0a-a9c4-f10866a516f3",
   "metadata": {},
   "outputs": [
    {
     "data": {
      "text/html": [
       "<div>\n",
       "<style scoped>\n",
       "    .dataframe tbody tr th:only-of-type {\n",
       "        vertical-align: middle;\n",
       "    }\n",
       "\n",
       "    .dataframe tbody tr th {\n",
       "        vertical-align: top;\n",
       "    }\n",
       "\n",
       "    .dataframe thead th {\n",
       "        text-align: right;\n",
       "    }\n",
       "</style>\n",
       "<table border=\"1\" class=\"dataframe\">\n",
       "  <thead>\n",
       "    <tr style=\"text-align: right;\">\n",
       "      <th></th>\n",
       "      <th>Brand</th>\n",
       "      <th>Model</th>\n",
       "      <th>Model Year</th>\n",
       "      <th>Mileage</th>\n",
       "      <th>Fuel Type</th>\n",
       "      <th>Engine</th>\n",
       "      <th>Liter</th>\n",
       "      <th>Transmission</th>\n",
       "      <th>Speed</th>\n",
       "      <th>Exterior Color</th>\n",
       "      <th>Interior Color</th>\n",
       "      <th>Accident</th>\n",
       "      <th>Clean Title</th>\n",
       "      <th>Price</th>\n",
       "    </tr>\n",
       "  </thead>\n",
       "  <tbody>\n",
       "    <tr>\n",
       "      <th>0</th>\n",
       "      <td>Ford</td>\n",
       "      <td>Utility Police Interceptor Base</td>\n",
       "      <td>2013</td>\n",
       "      <td>51000</td>\n",
       "      <td>E85 Flex Fuel</td>\n",
       "      <td>300.0HP 3.7L V6 Cylinder Engine Flex Fuel Capa...</td>\n",
       "      <td>3.7</td>\n",
       "      <td>6-Speed A/T</td>\n",
       "      <td>6.0</td>\n",
       "      <td>Black</td>\n",
       "      <td>Black</td>\n",
       "      <td>At least 1 accident or damage reported</td>\n",
       "      <td>Yes</td>\n",
       "      <td>10300</td>\n",
       "    </tr>\n",
       "    <tr>\n",
       "      <th>1</th>\n",
       "      <td>Hyundai</td>\n",
       "      <td>Palisade SEL</td>\n",
       "      <td>2021</td>\n",
       "      <td>34742</td>\n",
       "      <td>Gasoline</td>\n",
       "      <td>3.8L V6 24V GDI DOHC</td>\n",
       "      <td>3.8</td>\n",
       "      <td>8-Speed Automatic</td>\n",
       "      <td>8.0</td>\n",
       "      <td>Moonlight Cloud</td>\n",
       "      <td>Gray</td>\n",
       "      <td>At least 1 accident or damage reported</td>\n",
       "      <td>Yes</td>\n",
       "      <td>38005</td>\n",
       "    </tr>\n",
       "    <tr>\n",
       "      <th>2</th>\n",
       "      <td>Lexus</td>\n",
       "      <td>RX 350 RX 350</td>\n",
       "      <td>2022</td>\n",
       "      <td>22372</td>\n",
       "      <td>Gasoline</td>\n",
       "      <td>3.5 Liter DOHC</td>\n",
       "      <td>3.5</td>\n",
       "      <td>Automatic</td>\n",
       "      <td>NaN</td>\n",
       "      <td>Blue</td>\n",
       "      <td>Black</td>\n",
       "      <td>None reported</td>\n",
       "      <td>NaN</td>\n",
       "      <td>54598</td>\n",
       "    </tr>\n",
       "    <tr>\n",
       "      <th>3</th>\n",
       "      <td>INFINITI</td>\n",
       "      <td>Q50 Hybrid Sport</td>\n",
       "      <td>2015</td>\n",
       "      <td>88900</td>\n",
       "      <td>Hybrid</td>\n",
       "      <td>354.0HP 3.5L V6 Cylinder Engine Gas/Electric H...</td>\n",
       "      <td>3.5</td>\n",
       "      <td>7-Speed A/T</td>\n",
       "      <td>7.0</td>\n",
       "      <td>Black</td>\n",
       "      <td>Black</td>\n",
       "      <td>None reported</td>\n",
       "      <td>Yes</td>\n",
       "      <td>15500</td>\n",
       "    </tr>\n",
       "    <tr>\n",
       "      <th>4</th>\n",
       "      <td>Audi</td>\n",
       "      <td>Q3 45 S line Premium Plus</td>\n",
       "      <td>2021</td>\n",
       "      <td>9835</td>\n",
       "      <td>Gasoline</td>\n",
       "      <td>2.0L I4 16V GDI DOHC Turbo</td>\n",
       "      <td>2.0</td>\n",
       "      <td>8-Speed Automatic</td>\n",
       "      <td>8.0</td>\n",
       "      <td>Glacier White Metallic</td>\n",
       "      <td>Black</td>\n",
       "      <td>None reported</td>\n",
       "      <td>NaN</td>\n",
       "      <td>34999</td>\n",
       "    </tr>\n",
       "  </tbody>\n",
       "</table>\n",
       "</div>"
      ],
      "text/plain": [
       "      Brand                            Model  Model Year  ...                                Accident Clean Title  Price\n",
       "0      Ford  Utility Police Interceptor Base        2013  ...  At least 1 accident or damage reported         Yes  10300\n",
       "1   Hyundai                     Palisade SEL        2021  ...  At least 1 accident or damage reported         Yes  38005\n",
       "2     Lexus                    RX 350 RX 350        2022  ...                           None reported         NaN  54598\n",
       "3  INFINITI                 Q50 Hybrid Sport        2015  ...                           None reported         Yes  15500\n",
       "4      Audi        Q3 45 S line Premium Plus        2021  ...                           None reported         NaN  34999\n",
       "\n",
       "[5 rows x 14 columns]"
      ]
     },
     "execution_count": 5,
     "metadata": {},
     "output_type": "execute_result"
    }
   ],
   "source": [
    "df.head()"
   ]
  },
  {
   "cell_type": "markdown",
   "id": "5394196f-37b2-4799-a524-d0be76a6b278",
   "metadata": {},
   "source": [
    "Model and Engine have a lot of unique values. I don't think it should matter if they're removed because we can work by brand, year and liter"
   ]
  },
  {
   "cell_type": "code",
   "execution_count": 15,
   "id": "47431720-57ea-4237-bb55-eacb69e34ced",
   "metadata": {},
   "outputs": [
    {
     "data": {
      "image/png": "[encoded data removed]",
      "text/plain": [
       "<Figure size 640x480 with 1 Axes>"
      ]
     },
     "metadata": {},
     "output_type": "display_data"
    }
   ],
   "source": [
    "sns.histplot(data=df, x=\"Speed\", bins=5);"
   ]
  },
  {
   "cell_type": "code",
   "execution_count": 16,
   "id": "c1b58ced-6a5e-4a37-ab93-5cc1630f50d8",
   "metadata": {},
   "outputs": [
    {
     "data": {
      "text/html": [
       "<div>\n",
       "<style scoped>\n",
       "    .dataframe tbody tr th:only-of-type {\n",
       "        vertical-align: middle;\n",
       "    }\n",
       "\n",
       "    .dataframe tbody tr th {\n",
       "        vertical-align: top;\n",
       "    }\n",
       "\n",
       "    .dataframe thead th {\n",
       "        text-align: right;\n",
       "    }\n",
       "</style>\n",
       "<table border=\"1\" class=\"dataframe\">\n",
       "  <thead>\n",
       "    <tr style=\"text-align: right;\">\n",
       "      <th></th>\n",
       "      <th>Brand</th>\n",
       "      <th>Model Year</th>\n",
       "      <th>Mileage</th>\n",
       "      <th>Fuel Type</th>\n",
       "      <th>Liter</th>\n",
       "      <th>Transmission</th>\n",
       "      <th>Speed</th>\n",
       "      <th>Exterior Color</th>\n",
       "      <th>Interior Color</th>\n",
       "      <th>Accident</th>\n",
       "      <th>Clean Title</th>\n",
       "      <th>Price</th>\n",
       "    </tr>\n",
       "  </thead>\n",
       "  <tbody>\n",
       "    <tr>\n",
       "      <th>0</th>\n",
       "      <td>Ford</td>\n",
       "      <td>2013</td>\n",
       "      <td>51000</td>\n",
       "      <td>E85 Flex Fuel</td>\n",
       "      <td>3.7</td>\n",
       "      <td>6-Speed A/T</td>\n",
       "      <td>6.0</td>\n",
       "      <td>Black</td>\n",
       "      <td>Black</td>\n",
       "      <td>At least 1 accident or damage reported</td>\n",
       "      <td>Yes</td>\n",
       "      <td>10300</td>\n",
       "    </tr>\n",
       "    <tr>\n",
       "      <th>1</th>\n",
       "      <td>Hyundai</td>\n",
       "      <td>2021</td>\n",
       "      <td>34742</td>\n",
       "      <td>Gasoline</td>\n",
       "      <td>3.8</td>\n",
       "      <td>8-Speed Automatic</td>\n",
       "      <td>8.0</td>\n",
       "      <td>Moonlight Cloud</td>\n",
       "      <td>Gray</td>\n",
       "      <td>At least 1 accident or damage reported</td>\n",
       "      <td>Yes</td>\n",
       "      <td>38005</td>\n",
       "    </tr>\n",
       "    <tr>\n",
       "      <th>2</th>\n",
       "      <td>Lexus</td>\n",
       "      <td>2022</td>\n",
       "      <td>22372</td>\n",
       "      <td>Gasoline</td>\n",
       "      <td>3.5</td>\n",
       "      <td>Automatic</td>\n",
       "      <td>NaN</td>\n",
       "      <td>Blue</td>\n",
       "      <td>Black</td>\n",
       "      <td>None reported</td>\n",
       "      <td>NaN</td>\n",
       "      <td>54598</td>\n",
       "    </tr>\n",
       "    <tr>\n",
       "      <th>3</th>\n",
       "      <td>INFINITI</td>\n",
       "      <td>2015</td>\n",
       "      <td>88900</td>\n",
       "      <td>Hybrid</td>\n",
       "      <td>3.5</td>\n",
       "      <td>7-Speed A/T</td>\n",
       "      <td>7.0</td>\n",
       "      <td>Black</td>\n",
       "      <td>Black</td>\n",
       "      <td>None reported</td>\n",
       "      <td>Yes</td>\n",
       "      <td>15500</td>\n",
       "    </tr>\n",
       "    <tr>\n",
       "      <th>4</th>\n",
       "      <td>Audi</td>\n",
       "      <td>2021</td>\n",
       "      <td>9835</td>\n",
       "      <td>Gasoline</td>\n",
       "      <td>2.0</td>\n",
       "      <td>8-Speed Automatic</td>\n",
       "      <td>8.0</td>\n",
       "      <td>Glacier White Metallic</td>\n",
       "      <td>Black</td>\n",
       "      <td>None reported</td>\n",
       "      <td>NaN</td>\n",
       "      <td>34999</td>\n",
       "    </tr>\n",
       "  </tbody>\n",
       "</table>\n",
       "</div>"
      ],
      "text/plain": [
       "      Brand  Model Year  Mileage  ...                                Accident  Clean Title  Price\n",
       "0      Ford        2013    51000  ...  At least 1 accident or damage reported          Yes  10300\n",
       "1   Hyundai        2021    34742  ...  At least 1 accident or damage reported          Yes  38005\n",
       "2     Lexus        2022    22372  ...                           None reported          NaN  54598\n",
       "3  INFINITI        2015    88900  ...                           None reported          Yes  15500\n",
       "4      Audi        2021     9835  ...                           None reported          NaN  34999\n",
       "\n",
       "[5 rows x 12 columns]"
      ]
     },
     "execution_count": 16,
     "metadata": {},
     "output_type": "execute_result"
    }
   ],
   "source": [
    "df.drop([\"Model\", \"Engine\"], axis=1, inplace=True)\n",
    "df.head()"
   ]
  },
  {
   "cell_type": "code",
   "execution_count": 17,
   "id": "1470adf5-ab65-4914-8580-6dff34e205ed",
   "metadata": {},
   "outputs": [
    {
     "data": {
      "text/plain": [
       "Brand             0.000000\n",
       "Model Year        0.000000\n",
       "Mileage           0.000000\n",
       "Fuel Type         0.042405\n",
       "Liter             0.059366\n",
       "Transmission      0.000000\n",
       "Speed             0.457221\n",
       "Exterior Color    0.000000\n",
       "Interior Color    0.000000\n",
       "Accident          0.028187\n",
       "Clean Title       0.148666\n",
       "Price             0.000000\n",
       "dtype: float64"
      ]
     },
     "execution_count": 17,
     "metadata": {},
     "output_type": "execute_result"
    }
   ],
   "source": [
    "df.isna().mean()"
   ]
  },
  {
   "cell_type": "code",
   "execution_count": 24,
   "id": "557e24d5-2d9d-4f22-adf8-3c77e2a80a18",
   "metadata": {},
   "outputs": [
    {
     "name": "stdout",
     "output_type": "stream",
     "text": [
      "Fuel Type: object\n",
      "Liter: float64\n",
      "Speed: float64\n",
      "Accident: object\n",
      "Clean Title: object\n"
     ]
    }
   ],
   "source": [
    "for label, content in df.items():\n",
    "    if content.isna().mean() > 0.01:\n",
    "        print(f\"{label}: {content.dtype}\")"
   ]
  },
  {
   "cell_type": "markdown",
   "id": "765f7a37-bc80-4739-b49e-8438f584bf52",
   "metadata": {},
   "source": [
    "These are the missing values and their dtype. Lets just start with a base Pipeline and use GridSearchCv to change values"
   ]
  },
  {
   "cell_type": "code",
   "execution_count": 27,
   "id": "1d5bbe85-1e32-42ab-8b17-5b18147e8611",
   "metadata": {},
   "outputs": [
    {
     "data": {
      "image/png": "[encoded data removed]",
      "text/plain": [
       "<Figure size 640x480 with 1 Axes>"
      ]
     },
     "metadata": {},
     "output_type": "display_data"
    }
   ],
   "source": [
    "sns.histplot(data=df, x=\"Liter\", bins=10);"
   ]
  },
  {
   "cell_type": "code",
   "execution_count": 28,
   "id": "ad8b6ac7-194c-4fd2-a955-49dbb4960941",
   "metadata": {},
   "outputs": [],
   "source": [
    "cat_labels = [c for c in df if not pd.api.types.is_numeric_dtype(df[c])]\n",
    "num_labels = [c for c in df if pd.api.types.is_numeric_dtype(df[c]) and c != \"Price\"]"
   ]
  },
  {
   "cell_type": "code",
   "execution_count": 56,
   "id": "eb4dd465-d978-41ea-825d-d247202ea036",
   "metadata": {},
   "outputs": [],
   "source": [
    "num_pipeline = Pipeline([\n",
    "    (\"imputer\", SimpleImputer(strategy=\"median\")),\n",
    "])"
   ]
  },
  {
   "cell_type": "code",
   "execution_count": 57,
   "id": "0c500183-fef4-4355-b37c-e162011f9f09",
   "metadata": {},
   "outputs": [],
   "source": [
    "cat_pipeline = Pipeline([\n",
    "    (\"imputer\", SimpleImputer(strategy=\"constant\", fill_value=\"missing\")),\n",
    "    (\"ohe\", OneHotEncoder(handle_unknown=\"ignore\"))\n",
    "])"
   ]
  },
  {
   "cell_type": "code",
   "execution_count": 58,
   "id": "757a894f-bf77-428b-97e4-8466b2133d1a",
   "metadata": {},
   "outputs": [],
   "source": [
    "preprocessor = ColumnTransformer([\n",
    "    (\"num_pipeline\", num_pipeline, num_labels),\n",
    "    (\"cat_pipeline\", cat_pipeline, cat_labels)\n",
    "], remainder=\"passthrough\")"
   ]
  },
  {
   "cell_type": "code",
   "execution_count": 59,
   "id": "f023f04f-3250-4917-b06e-159b44220923",
   "metadata": {},
   "outputs": [],
   "source": [
    "X = df.drop(\"Price\", axis=1)\n",
    "y = df[\"Price\"]"
   ]
  },
  {
   "cell_type": "code",
   "execution_count": 60,
   "id": "5b4b3b4d-7081-40ab-a781-b62676f522d7",
   "metadata": {},
   "outputs": [
    {
     "data": {
      "text/plain": [
       "((2806, 11), (2806,), (1203, 11), (1203,))"
      ]
     },
     "execution_count": 60,
     "metadata": {},
     "output_type": "execute_result"
    }
   ],
   "source": [
    "X_train, X_valid, y_train, y_valid = train_test_split(X, y, test_size=0.3)\n",
    "X_train.shape, y_train.shape, X_valid.shape, y_valid.shape"
   ]
  },
  {
   "cell_type": "code",
   "execution_count": 61,
   "id": "3995dd0b-5be3-4e1e-87e0-0c795c30c900",
   "metadata": {},
   "outputs": [],
   "source": [
    "X_train_pre = preprocessor.fit_transform(X_train)\n",
    "X_valid_pre = preprocessor.transform(X_valid)"
   ]
  },
  {
   "cell_type": "code",
   "execution_count": 62,
   "id": "ff996602-37e8-4171-8e89-56f84b00e018",
   "metadata": {},
   "outputs": [],
   "source": [
    "regr = CatBoostRegressor(verbose=False)"
   ]
  },
  {
   "cell_type": "code",
   "execution_count": 63,
   "id": "6d099498-068f-4d7f-8bec-e1e6ca99d49b",
   "metadata": {},
   "outputs": [
    {
     "data": {
      "application/vnd.jupyter.widget-view+json": {
       "model_id": "505cb509e45b4abe821a8087302e0029",
       "version_major": 2,
       "version_minor": 0
      },
      "text/plain": [
       "MetricVisualizer(layout=Layout(align_self='stretch', height='500px'))"
      ]
     },
     "metadata": {},
     "output_type": "display_data"
    }
   ],
   "source": [
    "regr.fit(X_train_pre, y_train, plot=True, verbose=False);"
   ]
  },
  {
   "cell_type": "code",
   "execution_count": 64,
   "id": "8f415dd7-930c-4a2f-b160-0b72811b3168",
   "metadata": {},
   "outputs": [],
   "source": [
    "y_preds = regr.predict(X_valid_pre)"
   ]
  },
  {
   "cell_type": "code",
   "execution_count": 65,
   "id": "d842add8-8277-4712-99a3-2da1327c3125",
   "metadata": {},
   "outputs": [
    {
     "data": {
      "text/plain": [
       "10977.135995379249"
      ]
     },
     "execution_count": 65,
     "metadata": {},
     "output_type": "execute_result"
    }
   ],
   "source": [
    "mean_absolute_error(y_valid, y_preds)"
   ]
  },
  {
   "cell_type": "code",
   "execution_count": 80,
   "id": "2e4a9080-db16-48c0-9fd2-1c16ea221dc3",
   "metadata": {},
   "outputs": [],
   "source": [
    "gs_param = {\n",
    "    \"preprocessor__num_pipeline__imputer__strategy\": [\"mean\", \"median\", \"most_frequent\"],\n",
    "    \"preprocessor__cat_pipeline__imputer__strategy\": [\"constant\", \"most_frequent\"]\n",
    "}"
   ]
  },
  {
   "cell_type": "code",
   "execution_count": 81,
   "id": "b001c9e6-8967-4359-9617-6f20840bfb92",
   "metadata": {},
   "outputs": [],
   "source": [
    "gs_regr = GridSearchCV(regr, gs_param, cv=5, n_jobs=-1)"
   ]
  },
  {
   "cell_type": "code",
   "execution_count": 82,
   "id": "dde95208-9e01-4121-a09f-d12402a6f0ae",
   "metadata": {},
   "outputs": [
    {
     "ename": "ValueError",
     "evalue": "\nAll the 20 fits failed.\nIt is very likely that your model is misconfigured.\nYou can try to debug the error by setting error_score='raise'.\n\nBelow are more details about the failures:\n--------------------------------------------------------------------------------\n10 fits failed with the following error:\nTraceback (most recent call last):\n  File \"C:\\Users\\Panache Branding\\miniconda3\\envs\\catboost_env\\lib\\site-packages\\sklearn\\model_selection\\_validation.py\", line 732, in _fit_and_score\n    estimator.fit(X_train, y_train, **fit_params)\n  File \"C:\\Users\\Panache Branding\\miniconda3\\envs\\catboost_env\\lib\\site-packages\\catboost\\core.py\", line 5827, in fit\n    return self._fit(X, y, cat_features, text_features, embedding_features, None, sample_weight, None, None, None, None, baseline,\n  File \"C:\\Users\\Panache Branding\\miniconda3\\envs\\catboost_env\\lib\\site-packages\\catboost\\core.py\", line 2385, in _fit\n    train_params = self._prepare_train_params(\n  File \"C:\\Users\\Panache Branding\\miniconda3\\envs\\catboost_env\\lib\\site-packages\\catboost\\core.py\", line 2311, in _prepare_train_params\n    _check_train_params(params)\n  File \"_catboost.pyx\", line 6393, in _catboost._check_train_params\n  File \"_catboost.pyx\", line 6415, in _catboost._check_train_params\n_catboost.CatBoostError: C:/Go_Agent/pipelines/BuildMaster/catboost.git/catboost/private/libs/options/plain_options_helper.cpp:512: Unknown option {preprocessor__num_pipeline__imputer__strategy} with value \"mean\"\n\n--------------------------------------------------------------------------------\n10 fits failed with the following error:\nTraceback (most recent call last):\n  File \"C:\\Users\\Panache Branding\\miniconda3\\envs\\catboost_env\\lib\\site-packages\\sklearn\\model_selection\\_validation.py\", line 732, in _fit_and_score\n    estimator.fit(X_train, y_train, **fit_params)\n  File \"C:\\Users\\Panache Branding\\miniconda3\\envs\\catboost_env\\lib\\site-packages\\catboost\\core.py\", line 5827, in fit\n    return self._fit(X, y, cat_features, text_features, embedding_features, None, sample_weight, None, None, None, None, baseline,\n  File \"C:\\Users\\Panache Branding\\miniconda3\\envs\\catboost_env\\lib\\site-packages\\catboost\\core.py\", line 2385, in _fit\n    train_params = self._prepare_train_params(\n  File \"C:\\Users\\Panache Branding\\miniconda3\\envs\\catboost_env\\lib\\site-packages\\catboost\\core.py\", line 2311, in _prepare_train_params\n    _check_train_params(params)\n  File \"_catboost.pyx\", line 6393, in _catboost._check_train_params\n  File \"_catboost.pyx\", line 6415, in _catboost._check_train_params\n_catboost.CatBoostError: C:/Go_Agent/pipelines/BuildMaster/catboost.git/catboost/private/libs/options/plain_options_helper.cpp:512: Unknown option {preprocessor__num_pipeline__imputer__strategy} with value \"median\"\n",
     "output_type": "error",
     "traceback": [
      "\u001b[1;31m---------------------------------------------------------------------------\u001b[0m",
      "\u001b[1;31mValueError\u001b[0m                                Traceback (most recent call last)",
      "Cell \u001b[1;32mIn[82], line 1\u001b[0m\n\u001b[1;32m----> 1\u001b[0m \u001b[43mgs_regr\u001b[49m\u001b[38;5;241;43m.\u001b[39;49m\u001b[43mfit\u001b[49m\u001b[43m(\u001b[49m\u001b[43mX_train_pre\u001b[49m\u001b[43m,\u001b[49m\u001b[43m \u001b[49m\u001b[43my_train\u001b[49m\u001b[43m)\u001b[49m\n",
      "File \u001b[1;32m~\\miniconda3\\envs\\catboost_env\\lib\\site-packages\\sklearn\\base.py:1151\u001b[0m, in \u001b[0;36m_fit_context.<locals>.decorator.<locals>.wrapper\u001b[1;34m(estimator, *args, **kwargs)\u001b[0m\n\u001b[0;32m   1144\u001b[0m     estimator\u001b[38;5;241m.\u001b[39m_validate_params()\n\u001b[0;32m   1146\u001b[0m \u001b[38;5;28;01mwith\u001b[39;00m config_context(\n\u001b[0;32m   1147\u001b[0m     skip_parameter_validation\u001b[38;5;241m=\u001b[39m(\n\u001b[0;32m   1148\u001b[0m         prefer_skip_nested_validation \u001b[38;5;129;01mor\u001b[39;00m global_skip_validation\n\u001b[0;32m   1149\u001b[0m     )\n\u001b[0;32m   1150\u001b[0m ):\n\u001b[1;32m-> 1151\u001b[0m     \u001b[38;5;28;01mreturn\u001b[39;00m fit_method(estimator, \u001b[38;5;241m*\u001b[39margs, \u001b[38;5;241m*\u001b[39m\u001b[38;5;241m*\u001b[39mkwargs)\n",
      "File \u001b[1;32m~\\miniconda3\\envs\\catboost_env\\lib\\site-packages\\sklearn\\model_selection\\_search.py:898\u001b[0m, in \u001b[0;36mBaseSearchCV.fit\u001b[1;34m(self, X, y, groups, **fit_params)\u001b[0m\n\u001b[0;32m    892\u001b[0m     results \u001b[38;5;241m=\u001b[39m \u001b[38;5;28mself\u001b[39m\u001b[38;5;241m.\u001b[39m_format_results(\n\u001b[0;32m    893\u001b[0m         all_candidate_params, n_splits, all_out, all_more_results\n\u001b[0;32m    894\u001b[0m     )\n\u001b[0;32m    896\u001b[0m     \u001b[38;5;28;01mreturn\u001b[39;00m results\n\u001b[1;32m--> 898\u001b[0m \u001b[38;5;28;43mself\u001b[39;49m\u001b[38;5;241;43m.\u001b[39;49m\u001b[43m_run_search\u001b[49m\u001b[43m(\u001b[49m\u001b[43mevaluate_candidates\u001b[49m\u001b[43m)\u001b[49m\n\u001b[0;32m    900\u001b[0m \u001b[38;5;66;03m# multimetric is determined here because in the case of a callable\u001b[39;00m\n\u001b[0;32m    901\u001b[0m \u001b[38;5;66;03m# self.scoring the return type is only known after calling\u001b[39;00m\n\u001b[0;32m    902\u001b[0m first_test_score \u001b[38;5;241m=\u001b[39m all_out[\u001b[38;5;241m0\u001b[39m][\u001b[38;5;124m\"\u001b[39m\u001b[38;5;124mtest_scores\u001b[39m\u001b[38;5;124m\"\u001b[39m]\n",
      "File \u001b[1;32m~\\miniconda3\\envs\\catboost_env\\lib\\site-packages\\sklearn\\model_selection\\_search.py:1419\u001b[0m, in \u001b[0;36mGridSearchCV._run_search\u001b[1;34m(self, evaluate_candidates)\u001b[0m\n\u001b[0;32m   1417\u001b[0m \u001b[38;5;28;01mdef\u001b[39;00m \u001b[38;5;21m_run_search\u001b[39m(\u001b[38;5;28mself\u001b[39m, evaluate_candidates):\n\u001b[0;32m   1418\u001b[0m \u001b[38;5;250m    \u001b[39m\u001b[38;5;124;03m\"\"\"Search all candidates in param_grid\"\"\"\u001b[39;00m\n\u001b[1;32m-> 1419\u001b[0m     \u001b[43mevaluate_candidates\u001b[49m\u001b[43m(\u001b[49m\u001b[43mParameterGrid\u001b[49m\u001b[43m(\u001b[49m\u001b[38;5;28;43mself\u001b[39;49m\u001b[38;5;241;43m.\u001b[39;49m\u001b[43mparam_grid\u001b[49m\u001b[43m)\u001b[49m\u001b[43m)\u001b[49m\n",
      "File \u001b[1;32m~\\miniconda3\\envs\\catboost_env\\lib\\site-packages\\sklearn\\model_selection\\_search.py:875\u001b[0m, in \u001b[0;36mBaseSearchCV.fit.<locals>.evaluate_candidates\u001b[1;34m(candidate_params, cv, more_results)\u001b[0m\n\u001b[0;32m    868\u001b[0m \u001b[38;5;28;01melif\u001b[39;00m \u001b[38;5;28mlen\u001b[39m(out) \u001b[38;5;241m!=\u001b[39m n_candidates \u001b[38;5;241m*\u001b[39m n_splits:\n\u001b[0;32m    869\u001b[0m     \u001b[38;5;28;01mraise\u001b[39;00m \u001b[38;5;167;01mValueError\u001b[39;00m(\n\u001b[0;32m    870\u001b[0m         \u001b[38;5;124m\"\u001b[39m\u001b[38;5;124mcv.split and cv.get_n_splits returned \u001b[39m\u001b[38;5;124m\"\u001b[39m\n\u001b[0;32m    871\u001b[0m         \u001b[38;5;124m\"\u001b[39m\u001b[38;5;124minconsistent results. Expected \u001b[39m\u001b[38;5;132;01m{}\u001b[39;00m\u001b[38;5;124m \u001b[39m\u001b[38;5;124m\"\u001b[39m\n\u001b[0;32m    872\u001b[0m         \u001b[38;5;124m\"\u001b[39m\u001b[38;5;124msplits, got \u001b[39m\u001b[38;5;132;01m{}\u001b[39;00m\u001b[38;5;124m\"\u001b[39m\u001b[38;5;241m.\u001b[39mformat(n_splits, \u001b[38;5;28mlen\u001b[39m(out) \u001b[38;5;241m/\u001b[39m\u001b[38;5;241m/\u001b[39m n_candidates)\n\u001b[0;32m    873\u001b[0m     )\n\u001b[1;32m--> 875\u001b[0m \u001b[43m_warn_or_raise_about_fit_failures\u001b[49m\u001b[43m(\u001b[49m\u001b[43mout\u001b[49m\u001b[43m,\u001b[49m\u001b[43m \u001b[49m\u001b[38;5;28;43mself\u001b[39;49m\u001b[38;5;241;43m.\u001b[39;49m\u001b[43merror_score\u001b[49m\u001b[43m)\u001b[49m\n\u001b[0;32m    877\u001b[0m \u001b[38;5;66;03m# For callable self.scoring, the return type is only know after\u001b[39;00m\n\u001b[0;32m    878\u001b[0m \u001b[38;5;66;03m# calling. If the return type is a dictionary, the error scores\u001b[39;00m\n\u001b[0;32m    879\u001b[0m \u001b[38;5;66;03m# can now be inserted with the correct key. The type checking\u001b[39;00m\n\u001b[0;32m    880\u001b[0m \u001b[38;5;66;03m# of out will be done in `_insert_error_scores`.\u001b[39;00m\n\u001b[0;32m    881\u001b[0m \u001b[38;5;28;01mif\u001b[39;00m \u001b[38;5;28mcallable\u001b[39m(\u001b[38;5;28mself\u001b[39m\u001b[38;5;241m.\u001b[39mscoring):\n",
      "File \u001b[1;32m~\\miniconda3\\envs\\catboost_env\\lib\\site-packages\\sklearn\\model_selection\\_validation.py:414\u001b[0m, in \u001b[0;36m_warn_or_raise_about_fit_failures\u001b[1;34m(results, error_score)\u001b[0m\n\u001b[0;32m    407\u001b[0m \u001b[38;5;28;01mif\u001b[39;00m num_failed_fits \u001b[38;5;241m==\u001b[39m num_fits:\n\u001b[0;32m    408\u001b[0m     all_fits_failed_message \u001b[38;5;241m=\u001b[39m (\n\u001b[0;32m    409\u001b[0m         \u001b[38;5;124mf\u001b[39m\u001b[38;5;124m\"\u001b[39m\u001b[38;5;130;01m\\n\u001b[39;00m\u001b[38;5;124mAll the \u001b[39m\u001b[38;5;132;01m{\u001b[39;00mnum_fits\u001b[38;5;132;01m}\u001b[39;00m\u001b[38;5;124m fits failed.\u001b[39m\u001b[38;5;130;01m\\n\u001b[39;00m\u001b[38;5;124m\"\u001b[39m\n\u001b[0;32m    410\u001b[0m         \u001b[38;5;124m\"\u001b[39m\u001b[38;5;124mIt is very likely that your model is misconfigured.\u001b[39m\u001b[38;5;130;01m\\n\u001b[39;00m\u001b[38;5;124m\"\u001b[39m\n\u001b[0;32m    411\u001b[0m         \u001b[38;5;124m\"\u001b[39m\u001b[38;5;124mYou can try to debug the error by setting error_score=\u001b[39m\u001b[38;5;124m'\u001b[39m\u001b[38;5;124mraise\u001b[39m\u001b[38;5;124m'\u001b[39m\u001b[38;5;124m.\u001b[39m\u001b[38;5;130;01m\\n\u001b[39;00m\u001b[38;5;130;01m\\n\u001b[39;00m\u001b[38;5;124m\"\u001b[39m\n\u001b[0;32m    412\u001b[0m         \u001b[38;5;124mf\u001b[39m\u001b[38;5;124m\"\u001b[39m\u001b[38;5;124mBelow are more details about the failures:\u001b[39m\u001b[38;5;130;01m\\n\u001b[39;00m\u001b[38;5;132;01m{\u001b[39;00mfit_errors_summary\u001b[38;5;132;01m}\u001b[39;00m\u001b[38;5;124m\"\u001b[39m\n\u001b[0;32m    413\u001b[0m     )\n\u001b[1;32m--> 414\u001b[0m     \u001b[38;5;28;01mraise\u001b[39;00m \u001b[38;5;167;01mValueError\u001b[39;00m(all_fits_failed_message)\n\u001b[0;32m    416\u001b[0m \u001b[38;5;28;01melse\u001b[39;00m:\n\u001b[0;32m    417\u001b[0m     some_fits_failed_message \u001b[38;5;241m=\u001b[39m (\n\u001b[0;32m    418\u001b[0m         \u001b[38;5;124mf\u001b[39m\u001b[38;5;124m\"\u001b[39m\u001b[38;5;130;01m\\n\u001b[39;00m\u001b[38;5;132;01m{\u001b[39;00mnum_failed_fits\u001b[38;5;132;01m}\u001b[39;00m\u001b[38;5;124m fits failed out of a total of \u001b[39m\u001b[38;5;132;01m{\u001b[39;00mnum_fits\u001b[38;5;132;01m}\u001b[39;00m\u001b[38;5;124m.\u001b[39m\u001b[38;5;130;01m\\n\u001b[39;00m\u001b[38;5;124m\"\u001b[39m\n\u001b[0;32m    419\u001b[0m         \u001b[38;5;124m\"\u001b[39m\u001b[38;5;124mThe score on these train-test partitions for these parameters\u001b[39m\u001b[38;5;124m\"\u001b[39m\n\u001b[1;32m   (...)\u001b[0m\n\u001b[0;32m    423\u001b[0m         \u001b[38;5;124mf\u001b[39m\u001b[38;5;124m\"\u001b[39m\u001b[38;5;124mBelow are more details about the failures:\u001b[39m\u001b[38;5;130;01m\\n\u001b[39;00m\u001b[38;5;132;01m{\u001b[39;00mfit_errors_summary\u001b[38;5;132;01m}\u001b[39;00m\u001b[38;5;124m\"\u001b[39m\n\u001b[0;32m    424\u001b[0m     )\n",
      "\u001b[1;31mValueError\u001b[0m: \nAll the 20 fits failed.\nIt is very likely that your model is misconfigured.\nYou can try to debug the error by setting error_score='raise'.\n\nBelow are more details about the failures:\n--------------------------------------------------------------------------------\n10 fits failed with the following error:\nTraceback (most recent call last):\n  File \"C:\\Users\\Panache Branding\\miniconda3\\envs\\catboost_env\\lib\\site-packages\\sklearn\\model_selection\\_validation.py\", line 732, in _fit_and_score\n    estimator.fit(X_train, y_train, **fit_params)\n  File \"C:\\Users\\Panache Branding\\miniconda3\\envs\\catboost_env\\lib\\site-packages\\catboost\\core.py\", line 5827, in fit\n    return self._fit(X, y, cat_features, text_features, embedding_features, None, sample_weight, None, None, None, None, baseline,\n  File \"C:\\Users\\Panache Branding\\miniconda3\\envs\\catboost_env\\lib\\site-packages\\catboost\\core.py\", line 2385, in _fit\n    train_params = self._prepare_train_params(\n  File \"C:\\Users\\Panache Branding\\miniconda3\\envs\\catboost_env\\lib\\site-packages\\catboost\\core.py\", line 2311, in _prepare_train_params\n    _check_train_params(params)\n  File \"_catboost.pyx\", line 6393, in _catboost._check_train_params\n  File \"_catboost.pyx\", line 6415, in _catboost._check_train_params\n_catboost.CatBoostError: C:/Go_Agent/pipelines/BuildMaster/catboost.git/catboost/private/libs/options/plain_options_helper.cpp:512: Unknown option {preprocessor__num_pipeline__imputer__strategy} with value \"mean\"\n\n--------------------------------------------------------------------------------\n10 fits failed with the following error:\nTraceback (most recent call last):\n  File \"C:\\Users\\Panache Branding\\miniconda3\\envs\\catboost_env\\lib\\site-packages\\sklearn\\model_selection\\_validation.py\", line 732, in _fit_and_score\n    estimator.fit(X_train, y_train, **fit_params)\n  File \"C:\\Users\\Panache Branding\\miniconda3\\envs\\catboost_env\\lib\\site-packages\\catboost\\core.py\", line 5827, in fit\n    return self._fit(X, y, cat_features, text_features, embedding_features, None, sample_weight, None, None, None, None, baseline,\n  File \"C:\\Users\\Panache Branding\\miniconda3\\envs\\catboost_env\\lib\\site-packages\\catboost\\core.py\", line 2385, in _fit\n    train_params = self._prepare_train_params(\n  File \"C:\\Users\\Panache Branding\\miniconda3\\envs\\catboost_env\\lib\\site-packages\\catboost\\core.py\", line 2311, in _prepare_train_params\n    _check_train_params(params)\n  File \"_catboost.pyx\", line 6393, in _catboost._check_train_params\n  File \"_catboost.pyx\", line 6415, in _catboost._check_train_params\n_catboost.CatBoostError: C:/Go_Agent/pipelines/BuildMaster/catboost.git/catboost/private/libs/options/plain_options_helper.cpp:512: Unknown option {preprocessor__num_pipeline__imputer__strategy} with value \"median\"\n"
     ]
    }
   ],
   "source": [
    "gs_regr.fit(X_train_pre, y_train)"
   ]
  },
  {
   "cell_type": "code",
   "execution_count": null,
   "id": "4e9bdce9-6a8e-4242-887a-164f8787cb5e",
   "metadata": {},
   "outputs": [],
   "source": []
  }
 ],
 "metadata": {
  "kernelspec": {
   "display_name": "Python 3 (ipykernel)",
   "language": "python",
   "name": "python3"
  },
  "language_info": {
   "codemirror_mode": {
    "name": "ipython",
    "version": 3
   },
   "file_extension": ".py",
   "mimetype": "text/x-python",
   "name": "python",
   "nbconvert_exporter": "python",
   "pygments_lexer": "ipython3",
   "version": "3.9.18"
  }
 },
 "nbformat": 4,
 "nbformat_minor": 5
}
