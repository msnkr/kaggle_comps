{
 "cells": [
  {
   "cell_type": "markdown",
   "id": "9fd4717f",
   "metadata": {},
   "source": [
    "## Overview\n",
    "\n",
    "Mr. K is a man that knows no bounds to achieve his goals. One of these goals has been to upload an immensely famous mobile game to the App Store. After working for months on end on his new, original game \"Clash of Royales\", Mr. K was shocked to learn that Apple had rejected his game due to supposed \"unoriginality\".\n",
    "\n",
    "Enraged, Mr. K went to the Apple Campus and attempted to bribe an Apple employee to accept his game. However, the employee stated he would only accept the bribe if Mr. K gave him 1,000 cars, each with their exact price tags, that he could resell. So, Mr. K, not understanding sarcasm, obtained his 1,000 cars through various illegal means, but didn't know the prices for any of them.\n",
    "\n",
    "So, he has now decided to go to the place with the world's brightest minds, Tinovation, to get the prices for his cars. This is where you come in. Give Mr. K an accurate estimation of the prices for each car, and get his mobile game to the App Store!\n",
    "\n",
    "\n",
    "#### Description\n",
    "\n",
    "You have been provided a dataset in the form of a csv file of over 4,000 cars and their prices, along with various features of each car. This will be your training set, where you will create a Machine Learning model to predict \"Price\" from the rest of the features.\n",
    "\n",
    "You will use your model on the testing set, which has all the same features except for the \"Price\" column. Collect the predictions your model makes for each of the cars here, and submit it to the competition.\n",
    "\n",
    "#### Evaluation\n",
    "Submissions are evaluated through the \"Mean Absolute Error\" metric, a common metric for Regression Machine Learning problems. Learn more here: https://deepchecks.com/glossary/mean-absolute-error/\n",
    "\n",
    "#### Submission File\n",
    "See the sample submission file for what yours should look like. It should look the same as the sample, but hopefully with more accurate values for the \"Price\" column. "
   ]
  },
  {
   "cell_type": "code",
   "execution_count": 2,
   "id": "6fc4e206",
   "metadata": {},
   "outputs": [],
   "source": [
    "import pandas as pd\n",
    "import numpy as np\n",
    "from sklearn.pipeline import make_pipeline\n",
    "from sklearn.impute import SimpleImputer\n",
    "from sklearn.compose import make_column_transformer\n",
    "from sklearn.preprocessing import OneHotEncoder\n",
    "from sklearn.model_selection import train_test_split, RandomizedSearchCV\n",
    "from sklearn.linear_model import Ridge\n",
    "from sklearn.ensemble import RandomForestRegressor\n",
    "from joblib import load, dump\n",
    "from sklearn.metrics import mean_absolute_error"
   ]
  },
  {
   "cell_type": "code",
   "execution_count": 3,
   "id": "064a43c9",
   "metadata": {},
   "outputs": [
    {
     "data": {
      "text/html": [
       "<div>\n",
       "<style scoped>\n",
       "    .dataframe tbody tr th:only-of-type {\n",
       "        vertical-align: middle;\n",
       "    }\n",
       "\n",
       "    .dataframe tbody tr th {\n",
       "        vertical-align: top;\n",
       "    }\n",
       "\n",
       "    .dataframe thead th {\n",
       "        text-align: right;\n",
       "    }\n",
       "</style>\n",
       "<table border=\"1\" class=\"dataframe\">\n",
       "  <thead>\n",
       "    <tr style=\"text-align: right;\">\n",
       "      <th></th>\n",
       "      <th>Brand</th>\n",
       "      <th>Model</th>\n",
       "      <th>Model Year</th>\n",
       "      <th>Mileage</th>\n",
       "      <th>Fuel Type</th>\n",
       "      <th>Engine</th>\n",
       "      <th>Liter</th>\n",
       "      <th>Transmission</th>\n",
       "      <th>Speed</th>\n",
       "      <th>Exterior Color</th>\n",
       "      <th>Interior Color</th>\n",
       "      <th>Accident</th>\n",
       "      <th>Clean Title</th>\n",
       "      <th>Price</th>\n",
       "    </tr>\n",
       "  </thead>\n",
       "  <tbody>\n",
       "    <tr>\n",
       "      <th>0</th>\n",
       "      <td>Ford</td>\n",
       "      <td>Utility Police Interceptor Base</td>\n",
       "      <td>2013</td>\n",
       "      <td>51000</td>\n",
       "      <td>E85 Flex Fuel</td>\n",
       "      <td>300.0HP 3.7L V6 Cylinder Engine Flex Fuel Capa...</td>\n",
       "      <td>3.7</td>\n",
       "      <td>6-Speed A/T</td>\n",
       "      <td>6.0</td>\n",
       "      <td>Black</td>\n",
       "      <td>Black</td>\n",
       "      <td>At least 1 accident or damage reported</td>\n",
       "      <td>Yes</td>\n",
       "      <td>10300</td>\n",
       "    </tr>\n",
       "    <tr>\n",
       "      <th>1</th>\n",
       "      <td>Hyundai</td>\n",
       "      <td>Palisade SEL</td>\n",
       "      <td>2021</td>\n",
       "      <td>34742</td>\n",
       "      <td>Gasoline</td>\n",
       "      <td>3.8L V6 24V GDI DOHC</td>\n",
       "      <td>3.8</td>\n",
       "      <td>8-Speed Automatic</td>\n",
       "      <td>8.0</td>\n",
       "      <td>Moonlight Cloud</td>\n",
       "      <td>Gray</td>\n",
       "      <td>At least 1 accident or damage reported</td>\n",
       "      <td>Yes</td>\n",
       "      <td>38005</td>\n",
       "    </tr>\n",
       "    <tr>\n",
       "      <th>2</th>\n",
       "      <td>Lexus</td>\n",
       "      <td>RX 350 RX 350</td>\n",
       "      <td>2022</td>\n",
       "      <td>22372</td>\n",
       "      <td>Gasoline</td>\n",
       "      <td>3.5 Liter DOHC</td>\n",
       "      <td>3.5</td>\n",
       "      <td>Automatic</td>\n",
       "      <td>NaN</td>\n",
       "      <td>Blue</td>\n",
       "      <td>Black</td>\n",
       "      <td>None reported</td>\n",
       "      <td>NaN</td>\n",
       "      <td>54598</td>\n",
       "    </tr>\n",
       "    <tr>\n",
       "      <th>3</th>\n",
       "      <td>INFINITI</td>\n",
       "      <td>Q50 Hybrid Sport</td>\n",
       "      <td>2015</td>\n",
       "      <td>88900</td>\n",
       "      <td>Hybrid</td>\n",
       "      <td>354.0HP 3.5L V6 Cylinder Engine Gas/Electric H...</td>\n",
       "      <td>3.5</td>\n",
       "      <td>7-Speed A/T</td>\n",
       "      <td>7.0</td>\n",
       "      <td>Black</td>\n",
       "      <td>Black</td>\n",
       "      <td>None reported</td>\n",
       "      <td>Yes</td>\n",
       "      <td>15500</td>\n",
       "    </tr>\n",
       "    <tr>\n",
       "      <th>4</th>\n",
       "      <td>Audi</td>\n",
       "      <td>Q3 45 S line Premium Plus</td>\n",
       "      <td>2021</td>\n",
       "      <td>9835</td>\n",
       "      <td>Gasoline</td>\n",
       "      <td>2.0L I4 16V GDI DOHC Turbo</td>\n",
       "      <td>2.0</td>\n",
       "      <td>8-Speed Automatic</td>\n",
       "      <td>8.0</td>\n",
       "      <td>Glacier White Metallic</td>\n",
       "      <td>Black</td>\n",
       "      <td>None reported</td>\n",
       "      <td>NaN</td>\n",
       "      <td>34999</td>\n",
       "    </tr>\n",
       "  </tbody>\n",
       "</table>\n",
       "</div>"
      ],
      "text/plain": [
       "      Brand                            Model  Model Year  Mileage  \\\n",
       "0      Ford  Utility Police Interceptor Base        2013    51000   \n",
       "1   Hyundai                     Palisade SEL        2021    34742   \n",
       "2     Lexus                    RX 350 RX 350        2022    22372   \n",
       "3  INFINITI                 Q50 Hybrid Sport        2015    88900   \n",
       "4      Audi        Q3 45 S line Premium Plus        2021     9835   \n",
       "\n",
       "       Fuel Type                                             Engine  Liter  \\\n",
       "0  E85 Flex Fuel  300.0HP 3.7L V6 Cylinder Engine Flex Fuel Capa...    3.7   \n",
       "1       Gasoline                               3.8L V6 24V GDI DOHC    3.8   \n",
       "2       Gasoline                                     3.5 Liter DOHC    3.5   \n",
       "3         Hybrid  354.0HP 3.5L V6 Cylinder Engine Gas/Electric H...    3.5   \n",
       "4       Gasoline                         2.0L I4 16V GDI DOHC Turbo    2.0   \n",
       "\n",
       "        Transmission  Speed          Exterior Color Interior Color  \\\n",
       "0        6-Speed A/T    6.0                   Black          Black   \n",
       "1  8-Speed Automatic    8.0         Moonlight Cloud           Gray   \n",
       "2          Automatic    NaN                    Blue          Black   \n",
       "3        7-Speed A/T    7.0                   Black          Black   \n",
       "4  8-Speed Automatic    8.0  Glacier White Metallic          Black   \n",
       "\n",
       "                                 Accident Clean Title  Price  \n",
       "0  At least 1 accident or damage reported         Yes  10300  \n",
       "1  At least 1 accident or damage reported         Yes  38005  \n",
       "2                           None reported         NaN  54598  \n",
       "3                           None reported         Yes  15500  \n",
       "4                           None reported         NaN  34999  "
      ]
     },
     "execution_count": 3,
     "metadata": {},
     "output_type": "execute_result"
    }
   ],
   "source": [
    "df = pd.read_csv(\"../data/Help Mr K The car thief/car_prices_train.csv\")\n",
    "df.head()"
   ]
  },
  {
   "cell_type": "code",
   "execution_count": 4,
   "id": "5bdcc38b",
   "metadata": {},
   "outputs": [
    {
     "data": {
      "text/plain": [
       "Brand                0\n",
       "Model                0\n",
       "Model Year           0\n",
       "Mileage              0\n",
       "Fuel Type          170\n",
       "Engine               0\n",
       "Liter              238\n",
       "Transmission         0\n",
       "Speed             1833\n",
       "Exterior Color       0\n",
       "Interior Color       0\n",
       "Accident           113\n",
       "Clean Title        596\n",
       "Price                0\n",
       "dtype: int64"
      ]
     },
     "execution_count": 4,
     "metadata": {},
     "output_type": "execute_result"
    }
   ],
   "source": [
    "df.isna().sum()"
   ]
  },
  {
   "cell_type": "code",
   "execution_count": 5,
   "id": "cdb173bb",
   "metadata": {},
   "outputs": [
    {
     "data": {
      "text/plain": [
       "Brand              object\n",
       "Model              object\n",
       "Model Year          int64\n",
       "Mileage             int64\n",
       "Fuel Type          object\n",
       "Engine             object\n",
       "Liter             float64\n",
       "Transmission       object\n",
       "Speed             float64\n",
       "Exterior Color     object\n",
       "Interior Color     object\n",
       "Accident           object\n",
       "Clean Title        object\n",
       "Price               int64\n",
       "dtype: object"
      ]
     },
     "execution_count": 5,
     "metadata": {},
     "output_type": "execute_result"
    }
   ],
   "source": [
    "df.dtypes"
   ]
  },
  {
   "cell_type": "code",
   "execution_count": 66,
   "id": "2798594f",
   "metadata": {},
   "outputs": [],
   "source": [
    "# Clean the data. Fix missing data and convert to numerical data\n",
    "\n",
    "cat_imputer = make_pipeline((SimpleImputer(strategy=\"constant\", fill_value=\"missing\")), OneHotEncoder(handle_unknown=\"ignore\"))\n",
    "numerical_imputer = make_pipeline((SimpleImputer(strategy=\"mean\")))\n",
    "\n",
    "preprocessing = make_column_transformer((cat_imputer, [\"Brand\", \"Model\", \"Fuel Type\",\n",
    "                                                      \"Engine\", \"Transmission\", \"Exterior Color\",\n",
    "                                                      \"Interior Color\"]), \n",
    "                                       (numerical_imputer, [\"Speed\", \"Liter\"]))\n",
    "\n",
    "model = make_pipeline((preprocessing), (RandomForestRegressor()))"
   ]
  },
  {
   "cell_type": "code",
   "execution_count": 6,
   "id": "c81cba11",
   "metadata": {},
   "outputs": [],
   "source": [
    "X = df.drop(\"Price\", axis=1)\n",
    "y = df[\"Price\"]\n",
    "X_train, X_test, y_train, y_test = train_test_split(X, y, test_size=0.2)"
   ]
  },
  {
   "cell_type": "code",
   "execution_count": 67,
   "id": "afa324a4",
   "metadata": {},
   "outputs": [
    {
     "data": {
      "text/html": [
       "<style>#sk-container-id-9 {color: black;}#sk-container-id-9 pre{padding: 0;}#sk-container-id-9 div.sk-toggleable {background-color: white;}#sk-container-id-9 label.sk-toggleable__label {cursor: pointer;display: block;width: 100%;margin-bottom: 0;padding: 0.3em;box-sizing: border-box;text-align: center;}#sk-container-id-9 label.sk-toggleable__label-arrow:before {content: \"▸\";float: left;margin-right: 0.25em;color: #696969;}#sk-container-id-9 label.sk-toggleable__label-arrow:hover:before {color: black;}#sk-container-id-9 div.sk-estimator:hover label.sk-toggleable__label-arrow:before {color: black;}#sk-container-id-9 div.sk-toggleable__content {max-height: 0;max-width: 0;overflow: hidden;text-align: left;background-color: #f0f8ff;}#sk-container-id-9 div.sk-toggleable__content pre {margin: 0.2em;color: black;border-radius: 0.25em;background-color: #f0f8ff;}#sk-container-id-9 input.sk-toggleable__control:checked~div.sk-toggleable__content {max-height: 200px;max-width: 100%;overflow: auto;}#sk-container-id-9 input.sk-toggleable__control:checked~label.sk-toggleable__label-arrow:before {content: \"▾\";}#sk-container-id-9 div.sk-estimator input.sk-toggleable__control:checked~label.sk-toggleable__label {background-color: #d4ebff;}#sk-container-id-9 div.sk-label input.sk-toggleable__control:checked~label.sk-toggleable__label {background-color: #d4ebff;}#sk-container-id-9 input.sk-hidden--visually {border: 0;clip: rect(1px 1px 1px 1px);clip: rect(1px, 1px, 1px, 1px);height: 1px;margin: -1px;overflow: hidden;padding: 0;position: absolute;width: 1px;}#sk-container-id-9 div.sk-estimator {font-family: monospace;background-color: #f0f8ff;border: 1px dotted black;border-radius: 0.25em;box-sizing: border-box;margin-bottom: 0.5em;}#sk-container-id-9 div.sk-estimator:hover {background-color: #d4ebff;}#sk-container-id-9 div.sk-parallel-item::after {content: \"\";width: 100%;border-bottom: 1px solid gray;flex-grow: 1;}#sk-container-id-9 div.sk-label:hover label.sk-toggleable__label {background-color: #d4ebff;}#sk-container-id-9 div.sk-serial::before {content: \"\";position: absolute;border-left: 1px solid gray;box-sizing: border-box;top: 0;bottom: 0;left: 50%;z-index: 0;}#sk-container-id-9 div.sk-serial {display: flex;flex-direction: column;align-items: center;background-color: white;padding-right: 0.2em;padding-left: 0.2em;position: relative;}#sk-container-id-9 div.sk-item {position: relative;z-index: 1;}#sk-container-id-9 div.sk-parallel {display: flex;align-items: stretch;justify-content: center;background-color: white;position: relative;}#sk-container-id-9 div.sk-item::before, #sk-container-id-9 div.sk-parallel-item::before {content: \"\";position: absolute;border-left: 1px solid gray;box-sizing: border-box;top: 0;bottom: 0;left: 50%;z-index: -1;}#sk-container-id-9 div.sk-parallel-item {display: flex;flex-direction: column;z-index: 1;position: relative;background-color: white;}#sk-container-id-9 div.sk-parallel-item:first-child::after {align-self: flex-end;width: 50%;}#sk-container-id-9 div.sk-parallel-item:last-child::after {align-self: flex-start;width: 50%;}#sk-container-id-9 div.sk-parallel-item:only-child::after {width: 0;}#sk-container-id-9 div.sk-dashed-wrapped {border: 1px dashed gray;margin: 0 0.4em 0.5em 0.4em;box-sizing: border-box;padding-bottom: 0.4em;background-color: white;}#sk-container-id-9 div.sk-label label {font-family: monospace;font-weight: bold;display: inline-block;line-height: 1.2em;}#sk-container-id-9 div.sk-label-container {text-align: center;}#sk-container-id-9 div.sk-container {/* jupyter's `normalize.less` sets `[hidden] { display: none; }` but bootstrap.min.css set `[hidden] { display: none !important; }` so we also need the `!important` here to be able to override the default hidden behavior on the sphinx rendered scikit-learn.org. See: https://github.com/scikit-learn/scikit-learn/issues/21755 */display: inline-block !important;position: relative;}#sk-container-id-9 div.sk-text-repr-fallback {display: none;}</style><div id=\"sk-container-id-9\" class=\"sk-top-container\"><div class=\"sk-text-repr-fallback\"><pre>Pipeline(steps=[(&#x27;columntransformer&#x27;,\n",
       "                 ColumnTransformer(transformers=[(&#x27;pipeline-1&#x27;,\n",
       "                                                  Pipeline(steps=[(&#x27;simpleimputer&#x27;,\n",
       "                                                                   SimpleImputer(fill_value=&#x27;missing&#x27;,\n",
       "                                                                                 strategy=&#x27;constant&#x27;)),\n",
       "                                                                  (&#x27;onehotencoder&#x27;,\n",
       "                                                                   OneHotEncoder(handle_unknown=&#x27;ignore&#x27;))]),\n",
       "                                                  [&#x27;Brand&#x27;, &#x27;Model&#x27;,\n",
       "                                                   &#x27;Fuel Type&#x27;, &#x27;Engine&#x27;,\n",
       "                                                   &#x27;Transmission&#x27;,\n",
       "                                                   &#x27;Exterior Color&#x27;,\n",
       "                                                   &#x27;Interior Color&#x27;]),\n",
       "                                                 (&#x27;pipeline-2&#x27;,\n",
       "                                                  Pipeline(steps=[(&#x27;simpleimputer&#x27;,\n",
       "                                                                   SimpleImputer())]),\n",
       "                                                  [&#x27;Speed&#x27;, &#x27;Liter&#x27;])])),\n",
       "                (&#x27;randomforestregressor&#x27;, RandomForestRegressor())])</pre><b>In a Jupyter environment, please rerun this cell to show the HTML representation or trust the notebook. <br />On GitHub, the HTML representation is unable to render, please try loading this page with nbviewer.org.</b></div><div class=\"sk-container\" hidden><div class=\"sk-item sk-dashed-wrapped\"><div class=\"sk-label-container\"><div class=\"sk-label sk-toggleable\"><input class=\"sk-toggleable__control sk-hidden--visually\" id=\"sk-estimator-id-65\" type=\"checkbox\" ><label for=\"sk-estimator-id-65\" class=\"sk-toggleable__label sk-toggleable__label-arrow\">Pipeline</label><div class=\"sk-toggleable__content\"><pre>Pipeline(steps=[(&#x27;columntransformer&#x27;,\n",
       "                 ColumnTransformer(transformers=[(&#x27;pipeline-1&#x27;,\n",
       "                                                  Pipeline(steps=[(&#x27;simpleimputer&#x27;,\n",
       "                                                                   SimpleImputer(fill_value=&#x27;missing&#x27;,\n",
       "                                                                                 strategy=&#x27;constant&#x27;)),\n",
       "                                                                  (&#x27;onehotencoder&#x27;,\n",
       "                                                                   OneHotEncoder(handle_unknown=&#x27;ignore&#x27;))]),\n",
       "                                                  [&#x27;Brand&#x27;, &#x27;Model&#x27;,\n",
       "                                                   &#x27;Fuel Type&#x27;, &#x27;Engine&#x27;,\n",
       "                                                   &#x27;Transmission&#x27;,\n",
       "                                                   &#x27;Exterior Color&#x27;,\n",
       "                                                   &#x27;Interior Color&#x27;]),\n",
       "                                                 (&#x27;pipeline-2&#x27;,\n",
       "                                                  Pipeline(steps=[(&#x27;simpleimputer&#x27;,\n",
       "                                                                   SimpleImputer())]),\n",
       "                                                  [&#x27;Speed&#x27;, &#x27;Liter&#x27;])])),\n",
       "                (&#x27;randomforestregressor&#x27;, RandomForestRegressor())])</pre></div></div></div><div class=\"sk-serial\"><div class=\"sk-item sk-dashed-wrapped\"><div class=\"sk-label-container\"><div class=\"sk-label sk-toggleable\"><input class=\"sk-toggleable__control sk-hidden--visually\" id=\"sk-estimator-id-66\" type=\"checkbox\" ><label for=\"sk-estimator-id-66\" class=\"sk-toggleable__label sk-toggleable__label-arrow\">columntransformer: ColumnTransformer</label><div class=\"sk-toggleable__content\"><pre>ColumnTransformer(transformers=[(&#x27;pipeline-1&#x27;,\n",
       "                                 Pipeline(steps=[(&#x27;simpleimputer&#x27;,\n",
       "                                                  SimpleImputer(fill_value=&#x27;missing&#x27;,\n",
       "                                                                strategy=&#x27;constant&#x27;)),\n",
       "                                                 (&#x27;onehotencoder&#x27;,\n",
       "                                                  OneHotEncoder(handle_unknown=&#x27;ignore&#x27;))]),\n",
       "                                 [&#x27;Brand&#x27;, &#x27;Model&#x27;, &#x27;Fuel Type&#x27;, &#x27;Engine&#x27;,\n",
       "                                  &#x27;Transmission&#x27;, &#x27;Exterior Color&#x27;,\n",
       "                                  &#x27;Interior Color&#x27;]),\n",
       "                                (&#x27;pipeline-2&#x27;,\n",
       "                                 Pipeline(steps=[(&#x27;simpleimputer&#x27;,\n",
       "                                                  SimpleImputer())]),\n",
       "                                 [&#x27;Speed&#x27;, &#x27;Liter&#x27;])])</pre></div></div></div><div class=\"sk-parallel\"><div class=\"sk-parallel-item\"><div class=\"sk-item\"><div class=\"sk-label-container\"><div class=\"sk-label sk-toggleable\"><input class=\"sk-toggleable__control sk-hidden--visually\" id=\"sk-estimator-id-67\" type=\"checkbox\" ><label for=\"sk-estimator-id-67\" class=\"sk-toggleable__label sk-toggleable__label-arrow\">pipeline-1</label><div class=\"sk-toggleable__content\"><pre>[&#x27;Brand&#x27;, &#x27;Model&#x27;, &#x27;Fuel Type&#x27;, &#x27;Engine&#x27;, &#x27;Transmission&#x27;, &#x27;Exterior Color&#x27;, &#x27;Interior Color&#x27;]</pre></div></div></div><div class=\"sk-serial\"><div class=\"sk-item\"><div class=\"sk-serial\"><div class=\"sk-item\"><div class=\"sk-estimator sk-toggleable\"><input class=\"sk-toggleable__control sk-hidden--visually\" id=\"sk-estimator-id-68\" type=\"checkbox\" ><label for=\"sk-estimator-id-68\" class=\"sk-toggleable__label sk-toggleable__label-arrow\">SimpleImputer</label><div class=\"sk-toggleable__content\"><pre>SimpleImputer(fill_value=&#x27;missing&#x27;, strategy=&#x27;constant&#x27;)</pre></div></div></div><div class=\"sk-item\"><div class=\"sk-estimator sk-toggleable\"><input class=\"sk-toggleable__control sk-hidden--visually\" id=\"sk-estimator-id-69\" type=\"checkbox\" ><label for=\"sk-estimator-id-69\" class=\"sk-toggleable__label sk-toggleable__label-arrow\">OneHotEncoder</label><div class=\"sk-toggleable__content\"><pre>OneHotEncoder(handle_unknown=&#x27;ignore&#x27;)</pre></div></div></div></div></div></div></div></div><div class=\"sk-parallel-item\"><div class=\"sk-item\"><div class=\"sk-label-container\"><div class=\"sk-label sk-toggleable\"><input class=\"sk-toggleable__control sk-hidden--visually\" id=\"sk-estimator-id-70\" type=\"checkbox\" ><label for=\"sk-estimator-id-70\" class=\"sk-toggleable__label sk-toggleable__label-arrow\">pipeline-2</label><div class=\"sk-toggleable__content\"><pre>[&#x27;Speed&#x27;, &#x27;Liter&#x27;]</pre></div></div></div><div class=\"sk-serial\"><div class=\"sk-item\"><div class=\"sk-serial\"><div class=\"sk-item\"><div class=\"sk-estimator sk-toggleable\"><input class=\"sk-toggleable__control sk-hidden--visually\" id=\"sk-estimator-id-71\" type=\"checkbox\" ><label for=\"sk-estimator-id-71\" class=\"sk-toggleable__label sk-toggleable__label-arrow\">SimpleImputer</label><div class=\"sk-toggleable__content\"><pre>SimpleImputer()</pre></div></div></div></div></div></div></div></div></div></div><div class=\"sk-item\"><div class=\"sk-estimator sk-toggleable\"><input class=\"sk-toggleable__control sk-hidden--visually\" id=\"sk-estimator-id-72\" type=\"checkbox\" ><label for=\"sk-estimator-id-72\" class=\"sk-toggleable__label sk-toggleable__label-arrow\">RandomForestRegressor</label><div class=\"sk-toggleable__content\"><pre>RandomForestRegressor()</pre></div></div></div></div></div></div></div>"
      ],
      "text/plain": [
       "Pipeline(steps=[('columntransformer',\n",
       "                 ColumnTransformer(transformers=[('pipeline-1',\n",
       "                                                  Pipeline(steps=[('simpleimputer',\n",
       "                                                                   SimpleImputer(fill_value='missing',\n",
       "                                                                                 strategy='constant')),\n",
       "                                                                  ('onehotencoder',\n",
       "                                                                   OneHotEncoder(handle_unknown='ignore'))]),\n",
       "                                                  ['Brand', 'Model',\n",
       "                                                   'Fuel Type', 'Engine',\n",
       "                                                   'Transmission',\n",
       "                                                   'Exterior Color',\n",
       "                                                   'Interior Color']),\n",
       "                                                 ('pipeline-2',\n",
       "                                                  Pipeline(steps=[('simpleimputer',\n",
       "                                                                   SimpleImputer())]),\n",
       "                                                  ['Speed', 'Liter'])])),\n",
       "                ('randomforestregressor', RandomForestRegressor())])"
      ]
     },
     "execution_count": 67,
     "metadata": {},
     "output_type": "execute_result"
    }
   ],
   "source": [
    "model.fit(X_train, y_train)"
   ]
  },
  {
   "cell_type": "code",
   "execution_count": 8,
   "id": "ad51e387",
   "metadata": {},
   "outputs": [
    {
     "data": {
      "text/plain": [
       "0.8781681338211043"
      ]
     },
     "execution_count": 8,
     "metadata": {},
     "output_type": "execute_result"
    }
   ],
   "source": [
    "model.score(X_train, y_train)"
   ]
  },
  {
   "cell_type": "code",
   "execution_count": 9,
   "id": "09d84102",
   "metadata": {},
   "outputs": [
    {
     "data": {
      "text/plain": [
       "0.8615278773051774"
      ]
     },
     "execution_count": 9,
     "metadata": {},
     "output_type": "execute_result"
    }
   ],
   "source": [
    "model.score(X_test, y_test)"
   ]
  },
  {
   "cell_type": "code",
   "execution_count": 10,
   "id": "ffa96a53",
   "metadata": {},
   "outputs": [],
   "source": [
    "y_preds = model.predict(X_test)"
   ]
  },
  {
   "cell_type": "code",
   "execution_count": 11,
   "id": "0e0ab0cf",
   "metadata": {},
   "outputs": [
    {
     "name": "stdout",
     "output_type": "stream",
     "text": [
      "The mean absolute error is: 6946.85\n"
     ]
    }
   ],
   "source": [
    "mae = mean_absolute_error(y_test, y_preds)\n",
    "print(f\"The mean absolute error is: {mae:.2f}\")"
   ]
  },
  {
   "cell_type": "code",
   "execution_count": 58,
   "id": "45a6b8ac",
   "metadata": {},
   "outputs": [
    {
     "data": {
      "text/plain": [
       "['Mr-K.joblib']"
      ]
     },
     "execution_count": 58,
     "metadata": {},
     "output_type": "execute_result"
    }
   ],
   "source": [
    "# dump(model, \"Mr-K.joblib\")"
   ]
  },
  {
   "cell_type": "code",
   "execution_count": 7,
   "id": "27dbeb8b",
   "metadata": {},
   "outputs": [],
   "source": [
    "model = load(\"Mr-K.joblib\")"
   ]
  },
  {
   "cell_type": "code",
   "execution_count": 12,
   "id": "fb9b66a1",
   "metadata": {},
   "outputs": [],
   "source": [
    "# Now put it against the test data\n",
    "test_df = pd.read_csv(\"../data/Help Mr K The car thief/car_prices_test.csv\")\n",
    "y_preds = model.predict(test_df)"
   ]
  },
  {
   "cell_type": "code",
   "execution_count": 13,
   "id": "dd72dba2",
   "metadata": {},
   "outputs": [
    {
     "data": {
      "text/html": [
       "<div>\n",
       "<style scoped>\n",
       "    .dataframe tbody tr th:only-of-type {\n",
       "        vertical-align: middle;\n",
       "    }\n",
       "\n",
       "    .dataframe tbody tr th {\n",
       "        vertical-align: top;\n",
       "    }\n",
       "\n",
       "    .dataframe thead th {\n",
       "        text-align: right;\n",
       "    }\n",
       "</style>\n",
       "<table border=\"1\" class=\"dataframe\">\n",
       "  <thead>\n",
       "    <tr style=\"text-align: right;\">\n",
       "      <th></th>\n",
       "      <th>ID</th>\n",
       "      <th>Brand</th>\n",
       "      <th>Model</th>\n",
       "      <th>Model Year</th>\n",
       "      <th>Mileage</th>\n",
       "      <th>Fuel Type</th>\n",
       "      <th>Engine</th>\n",
       "      <th>Liter</th>\n",
       "      <th>Transmission</th>\n",
       "      <th>Speed</th>\n",
       "      <th>Exterior Color</th>\n",
       "      <th>Interior Color</th>\n",
       "      <th>Accident</th>\n",
       "      <th>Clean Title</th>\n",
       "      <th>Price</th>\n",
       "    </tr>\n",
       "  </thead>\n",
       "  <tbody>\n",
       "    <tr>\n",
       "      <th>0</th>\n",
       "      <td>0</td>\n",
       "      <td>Mercedes-Benz</td>\n",
       "      <td>C-Class C 300 4MATIC</td>\n",
       "      <td>2013</td>\n",
       "      <td>15959</td>\n",
       "      <td>Gasoline</td>\n",
       "      <td>335.0HP 4.7L 8 Cylinder Engine Gasoline Fuel</td>\n",
       "      <td>4.7</td>\n",
       "      <td>7-Speed A/T</td>\n",
       "      <td>7.0</td>\n",
       "      <td>Red</td>\n",
       "      <td>Black</td>\n",
       "      <td>None reported</td>\n",
       "      <td>Yes</td>\n",
       "      <td>23833.05</td>\n",
       "    </tr>\n",
       "    <tr>\n",
       "      <th>1</th>\n",
       "      <td>1</td>\n",
       "      <td>INFINITI</td>\n",
       "      <td>QX60 Base</td>\n",
       "      <td>2018</td>\n",
       "      <td>54394</td>\n",
       "      <td>Gasoline</td>\n",
       "      <td>265.0HP 3.5L V6 Cylinder Engine Gasoline Fuel</td>\n",
       "      <td>3.5</td>\n",
       "      <td>Transmission w/Dual Shift Mode</td>\n",
       "      <td>NaN</td>\n",
       "      <td>Gray</td>\n",
       "      <td>Black</td>\n",
       "      <td>None reported</td>\n",
       "      <td>Yes</td>\n",
       "      <td>27816.33</td>\n",
       "    </tr>\n",
       "    <tr>\n",
       "      <th>2</th>\n",
       "      <td>2</td>\n",
       "      <td>Chevrolet</td>\n",
       "      <td>Camaro 2SS</td>\n",
       "      <td>2020</td>\n",
       "      <td>37464</td>\n",
       "      <td>Gasoline</td>\n",
       "      <td>455.0HP 6.2L 8 Cylinder Engine Gasoline Fuel</td>\n",
       "      <td>6.2</td>\n",
       "      <td>Transmission w/Dual Shift Mode</td>\n",
       "      <td>NaN</td>\n",
       "      <td>Blue</td>\n",
       "      <td>Black</td>\n",
       "      <td>None reported</td>\n",
       "      <td>Yes</td>\n",
       "      <td>42153.31</td>\n",
       "    </tr>\n",
       "    <tr>\n",
       "      <th>3</th>\n",
       "      <td>3</td>\n",
       "      <td>RAM</td>\n",
       "      <td>2500 Laramie</td>\n",
       "      <td>2016</td>\n",
       "      <td>145185</td>\n",
       "      <td>Diesel</td>\n",
       "      <td>350.0HP 6.7L Straight 6 Cylinder Engine Diesel...</td>\n",
       "      <td>6.7</td>\n",
       "      <td>6-Speed A/T</td>\n",
       "      <td>6.0</td>\n",
       "      <td>Red</td>\n",
       "      <td>Black</td>\n",
       "      <td>None reported</td>\n",
       "      <td>Yes</td>\n",
       "      <td>49279.78</td>\n",
       "    </tr>\n",
       "    <tr>\n",
       "      <th>4</th>\n",
       "      <td>4</td>\n",
       "      <td>Honda</td>\n",
       "      <td>Pilot EX-L</td>\n",
       "      <td>2018</td>\n",
       "      <td>43509</td>\n",
       "      <td>Gasoline</td>\n",
       "      <td>3.5L V6 24V GDI SOHC</td>\n",
       "      <td>3.5</td>\n",
       "      <td>CVT Transmission</td>\n",
       "      <td>NaN</td>\n",
       "      <td>Gray</td>\n",
       "      <td>Gray</td>\n",
       "      <td>At least 1 accident or damage reported</td>\n",
       "      <td>Yes</td>\n",
       "      <td>17575.47</td>\n",
       "    </tr>\n",
       "  </tbody>\n",
       "</table>\n",
       "</div>"
      ],
      "text/plain": [
       "   ID          Brand                 Model  Model Year  Mileage Fuel Type  \\\n",
       "0   0  Mercedes-Benz  C-Class C 300 4MATIC        2013    15959  Gasoline   \n",
       "1   1       INFINITI             QX60 Base        2018    54394  Gasoline   \n",
       "2   2      Chevrolet            Camaro 2SS        2020    37464  Gasoline   \n",
       "3   3            RAM          2500 Laramie        2016   145185    Diesel   \n",
       "4   4          Honda            Pilot EX-L        2018    43509  Gasoline   \n",
       "\n",
       "                                              Engine  Liter  \\\n",
       "0       335.0HP 4.7L 8 Cylinder Engine Gasoline Fuel    4.7   \n",
       "1      265.0HP 3.5L V6 Cylinder Engine Gasoline Fuel    3.5   \n",
       "2       455.0HP 6.2L 8 Cylinder Engine Gasoline Fuel    6.2   \n",
       "3  350.0HP 6.7L Straight 6 Cylinder Engine Diesel...    6.7   \n",
       "4                               3.5L V6 24V GDI SOHC    3.5   \n",
       "\n",
       "                     Transmission  Speed Exterior Color Interior Color  \\\n",
       "0                     7-Speed A/T    7.0            Red          Black   \n",
       "1  Transmission w/Dual Shift Mode    NaN           Gray          Black   \n",
       "2  Transmission w/Dual Shift Mode    NaN           Blue          Black   \n",
       "3                     6-Speed A/T    6.0            Red          Black   \n",
       "4                CVT Transmission    NaN           Gray           Gray   \n",
       "\n",
       "                                 Accident Clean Title     Price  \n",
       "0                           None reported         Yes  23833.05  \n",
       "1                           None reported         Yes  27816.33  \n",
       "2                           None reported         Yes  42153.31  \n",
       "3                           None reported         Yes  49279.78  \n",
       "4  At least 1 accident or damage reported         Yes  17575.47  "
      ]
     },
     "execution_count": 13,
     "metadata": {},
     "output_type": "execute_result"
    }
   ],
   "source": [
    "test_df[\"Price\"] = pd.Series(y_preds)\n",
    "test_df.head()"
   ]
  },
  {
   "cell_type": "code",
   "execution_count": 14,
   "id": "e7332754",
   "metadata": {},
   "outputs": [],
   "source": [
    "submission_result = pd.DataFrame(data={\"ID\": test_df[\"ID\"],\n",
    "                                      \"Price\": test_df[\"Price\"]})"
   ]
  },
  {
   "cell_type": "code",
   "execution_count": 15,
   "id": "49755824",
   "metadata": {},
   "outputs": [
    {
     "data": {
      "text/html": [
       "<div>\n",
       "<style scoped>\n",
       "    .dataframe tbody tr th:only-of-type {\n",
       "        vertical-align: middle;\n",
       "    }\n",
       "\n",
       "    .dataframe tbody tr th {\n",
       "        vertical-align: top;\n",
       "    }\n",
       "\n",
       "    .dataframe thead th {\n",
       "        text-align: right;\n",
       "    }\n",
       "</style>\n",
       "<table border=\"1\" class=\"dataframe\">\n",
       "  <thead>\n",
       "    <tr style=\"text-align: right;\">\n",
       "      <th></th>\n",
       "      <th>ID</th>\n",
       "      <th>Price</th>\n",
       "    </tr>\n",
       "  </thead>\n",
       "  <tbody>\n",
       "    <tr>\n",
       "      <th>0</th>\n",
       "      <td>0</td>\n",
       "      <td>23833.05</td>\n",
       "    </tr>\n",
       "    <tr>\n",
       "      <th>1</th>\n",
       "      <td>1</td>\n",
       "      <td>27816.33</td>\n",
       "    </tr>\n",
       "    <tr>\n",
       "      <th>2</th>\n",
       "      <td>2</td>\n",
       "      <td>42153.31</td>\n",
       "    </tr>\n",
       "    <tr>\n",
       "      <th>3</th>\n",
       "      <td>3</td>\n",
       "      <td>49279.78</td>\n",
       "    </tr>\n",
       "    <tr>\n",
       "      <th>4</th>\n",
       "      <td>4</td>\n",
       "      <td>17575.47</td>\n",
       "    </tr>\n",
       "  </tbody>\n",
       "</table>\n",
       "</div>"
      ],
      "text/plain": [
       "   ID     Price\n",
       "0   0  23833.05\n",
       "1   1  27816.33\n",
       "2   2  42153.31\n",
       "3   3  49279.78\n",
       "4   4  17575.47"
      ]
     },
     "execution_count": 15,
     "metadata": {},
     "output_type": "execute_result"
    }
   ],
   "source": [
    "submission_result.head()"
   ]
  },
  {
   "cell_type": "code",
   "execution_count": 16,
   "id": "5c7e3024",
   "metadata": {},
   "outputs": [],
   "source": [
    "submission_result.to_csv(\"my_submission.csv\", index=False)"
   ]
  },
  {
   "cell_type": "code",
   "execution_count": null,
   "id": "d3d3a5aa",
   "metadata": {},
   "outputs": [],
   "source": []
  }
 ],
 "metadata": {
  "kernelspec": {
   "display_name": "Python 3 (ipykernel)",
   "language": "python",
   "name": "python3"
  },
  "language_info": {
   "codemirror_mode": {
    "name": "ipython",
    "version": 3
   },
   "file_extension": ".py",
   "mimetype": "text/x-python",
   "name": "python",
   "nbconvert_exporter": "python",
   "pygments_lexer": "ipython3",
   "version": "3.9.18"
  }
 },
 "nbformat": 4,
 "nbformat_minor": 5
}
