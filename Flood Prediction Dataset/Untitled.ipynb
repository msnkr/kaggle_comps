{
 "cells": [
  {
   "cell_type": "code",
   "execution_count": 1,
   "id": "e94ee4ce-1595-487f-a986-09d3171be7ce",
   "metadata": {},
   "outputs": [],
   "source": [
    "import pandas as pd\n",
    "import numpy as np\n",
    "\n",
    "from sklearn.model_selection import train_test_split\n",
    "from sklearn.metrics import r2_score\n",
    "from catboost import CatBoostRegressor\n",
    "import optuna\n",
    "\n",
    "import matplotlib.pyplot as plt\n",
    "import seaborn as sns"
   ]
  },
  {
   "cell_type": "code",
   "execution_count": 2,
   "id": "3a01e43e-21ba-432b-88ab-6bf143ddb6f2",
   "metadata": {},
   "outputs": [],
   "source": [
    "df = pd.read_csv(\"../data/Flood Prediction Dataset/train.csv\")"
   ]
  },
  {
   "cell_type": "code",
   "execution_count": 3,
   "id": "6d697cf0-d965-4023-b3c8-82cd1abbcb10",
   "metadata": {},
   "outputs": [
    {
     "data": {
      "text/plain": [
       "Index(['id', 'MonsoonIntensity', 'TopographyDrainage', 'RiverManagement',\n",
       "       'Deforestation', 'Urbanization', 'ClimateChange', 'DamsQuality',\n",
       "       'Siltation', 'AgriculturalPractices', 'Encroachments',\n",
       "       'IneffectiveDisasterPreparedness', 'DrainageSystems',\n",
       "       'CoastalVulnerability', 'Landslides', 'Watersheds',\n",
       "       'DeterioratingInfrastructure', 'PopulationScore', 'WetlandLoss',\n",
       "       'InadequatePlanning', 'PoliticalFactors', 'FloodProbability'],\n",
       "      dtype='object')"
      ]
     },
     "execution_count": 3,
     "metadata": {},
     "output_type": "execute_result"
    }
   ],
   "source": [
    "df.columns"
   ]
  },
  {
   "cell_type": "code",
   "execution_count": 4,
   "id": "1d46c856-9d56-4387-8fc0-aa1bfb3c4803",
   "metadata": {},
   "outputs": [
    {
     "data": {
      "text/plain": [
       "id                                   int64\n",
       "MonsoonIntensity                     int64\n",
       "TopographyDrainage                   int64\n",
       "RiverManagement                      int64\n",
       "Deforestation                        int64\n",
       "Urbanization                         int64\n",
       "ClimateChange                        int64\n",
       "DamsQuality                          int64\n",
       "Siltation                            int64\n",
       "AgriculturalPractices                int64\n",
       "Encroachments                        int64\n",
       "IneffectiveDisasterPreparedness      int64\n",
       "DrainageSystems                      int64\n",
       "CoastalVulnerability                 int64\n",
       "Landslides                           int64\n",
       "Watersheds                           int64\n",
       "DeterioratingInfrastructure          int64\n",
       "PopulationScore                      int64\n",
       "WetlandLoss                          int64\n",
       "InadequatePlanning                   int64\n",
       "PoliticalFactors                     int64\n",
       "FloodProbability                   float64\n",
       "dtype: object"
      ]
     },
     "execution_count": 4,
     "metadata": {},
     "output_type": "execute_result"
    }
   ],
   "source": [
    "df.dtypes"
   ]
  },
  {
   "cell_type": "code",
   "execution_count": 5,
   "id": "a589141f-83e9-45c6-9629-dc828ae3698e",
   "metadata": {},
   "outputs": [
    {
     "data": {
      "text/plain": [
       "id                                 0.0\n",
       "MonsoonIntensity                   0.0\n",
       "TopographyDrainage                 0.0\n",
       "RiverManagement                    0.0\n",
       "Deforestation                      0.0\n",
       "Urbanization                       0.0\n",
       "ClimateChange                      0.0\n",
       "DamsQuality                        0.0\n",
       "Siltation                          0.0\n",
       "AgriculturalPractices              0.0\n",
       "Encroachments                      0.0\n",
       "IneffectiveDisasterPreparedness    0.0\n",
       "DrainageSystems                    0.0\n",
       "CoastalVulnerability               0.0\n",
       "Landslides                         0.0\n",
       "Watersheds                         0.0\n",
       "DeterioratingInfrastructure        0.0\n",
       "PopulationScore                    0.0\n",
       "WetlandLoss                        0.0\n",
       "InadequatePlanning                 0.0\n",
       "PoliticalFactors                   0.0\n",
       "FloodProbability                   0.0\n",
       "dtype: float64"
      ]
     },
     "execution_count": 5,
     "metadata": {},
     "output_type": "execute_result"
    }
   ],
   "source": [
    "df.isna().mean()"
   ]
  },
  {
   "cell_type": "code",
   "execution_count": 6,
   "id": "5284dca9-a260-4f44-b813-c4c5939929eb",
   "metadata": {},
   "outputs": [
    {
     "data": {
      "text/plain": [
       "1117957"
      ]
     },
     "execution_count": 6,
     "metadata": {},
     "output_type": "execute_result"
    }
   ],
   "source": [
    "len(df)"
   ]
  },
  {
   "cell_type": "code",
   "execution_count": 23,
   "id": "cde68f4f-3247-4c95-8cdc-cb05930193a7",
   "metadata": {},
   "outputs": [],
   "source": [
    "X = df.drop([\"FloodProbability\", \"id\"], axis=1)\n",
    "y = df[\"FloodProbability\"]"
   ]
  },
  {
   "cell_type": "code",
   "execution_count": 24,
   "id": "2001a9dd-2732-4365-aabf-f8179f07bfb7",
   "metadata": {},
   "outputs": [],
   "source": [
    "X_train, X_test, y_train, y_test = train_test_split(X, y, test_size=0.4)"
   ]
  },
  {
   "cell_type": "code",
   "execution_count": 25,
   "id": "d9081233-6d9d-493b-956a-bffb99dc623c",
   "metadata": {},
   "outputs": [],
   "source": [
    "cb = CatBoostRegressor()"
   ]
  },
  {
   "cell_type": "code",
   "execution_count": 26,
   "id": "af287ac3-e84b-4689-b903-f10d92d78b17",
   "metadata": {},
   "outputs": [
    {
     "data": {
      "application/vnd.jupyter.widget-view+json": {
       "model_id": "470e9bbe8767485a9fdbeb1df8461520",
       "version_major": 2,
       "version_minor": 0
      },
      "text/plain": [
       "MetricVisualizer(layout=Layout(align_self='stretch', height='500px'))"
      ]
     },
     "metadata": {},
     "output_type": "display_data"
    }
   ],
   "source": [
    "cb.fit(X_train, y_train, eval_set=(X_test, y_test), plot=True, verbose=False);"
   ]
  },
  {
   "cell_type": "code",
   "execution_count": 27,
   "id": "2b547143-3dd4-4ac6-8c37-e84f27b97994",
   "metadata": {},
   "outputs": [],
   "source": [
    "y_preds = cb.predict(X_test)"
   ]
  },
  {
   "cell_type": "code",
   "execution_count": 28,
   "id": "89eaeaf6-6a46-4c53-b147-0e44db6373d2",
   "metadata": {},
   "outputs": [
    {
     "data": {
      "text/plain": [
       "0.8463182330426229"
      ]
     },
     "execution_count": 28,
     "metadata": {},
     "output_type": "execute_result"
    }
   ],
   "source": [
    "r2_score(y_test, y_preds)"
   ]
  },
  {
   "cell_type": "code",
   "execution_count": 12,
   "id": "fbaa0961-6538-430c-9f4d-baffe186d809",
   "metadata": {},
   "outputs": [],
   "source": [
    "def objective(trial):\n",
    "\n",
    "    X = df.drop([\"FloodProbability\", \"id\"], axis=1)\n",
    "    y = df[\"FloodProbability\"]\n",
    "\n",
    "    X_train, X_test, y_train, y_test = train_test_split(X, y, test_size=0.4)\n",
    "\n",
    "    params = {\n",
    "        \"iterations\": trial.suggest_int(\"iterations\", 200, 1000),\n",
    "        \"learning_rate\": trial.suggest_float(\"learning_rate\", 0.01, 0.1),\n",
    "        \"l2_leaf_reg\": trial.suggest_int(\"l2_leaf_reg\", 1, 10),\n",
    "        \"depth\": trial.suggest_int(\"depth\", 8, 16),\n",
    "    }\n",
    "\n",
    "    model = CatBoostRegressor(**params, verbose=False, early_stopping_rounds=100)\n",
    "    model.fit(X_train, y_train, eval_set=(X_test, y_test))\n",
    "\n",
    "    preds = model.predict(X_test)\n",
    "    return r2_score(y_test, preds)"
   ]
  },
  {
   "cell_type": "code",
   "execution_count": 17,
   "id": "57a7cfd5-da2b-4117-9c4d-b7d2d36b017f",
   "metadata": {},
   "outputs": [
    {
     "name": "stderr",
     "output_type": "stream",
     "text": [
      "[I 2024-06-06 15:59:42,675] A new study created in memory with name: no-name-ecf696fc-0066-4333-900f-6bb4a71565ab\n"
     ]
    }
   ],
   "source": [
    "study = optuna.create_study(direction=\"maximize\")"
   ]
  },
  {
   "cell_type": "code",
   "execution_count": 18,
   "id": "26638b90-3055-4d95-b1cb-d5b76cc599de",
   "metadata": {},
   "outputs": [
    {
     "name": "stderr",
     "output_type": "stream",
     "text": [
      "[I 2024-06-06 16:01:31,212] Trial 0 finished with value: 0.8459376455173284 and parameters: {'iterations': 987, 'learning_rate': 0.04197680384724507, 'l2_leaf_reg': 3, 'depth': 10}. Best is trial 0 with value: 0.8459376455173284.\n",
      "[I 2024-06-06 16:02:15,389] Trial 1 finished with value: 0.8372989360373077 and parameters: {'iterations': 245, 'learning_rate': 0.05514959825125708, 'l2_leaf_reg': 3, 'depth': 13}. Best is trial 0 with value: 0.8459376455173284.\n",
      "[I 2024-06-06 16:03:39,072] Trial 2 finished with value: 0.836472154206552 and parameters: {'iterations': 467, 'learning_rate': 0.028866785595904214, 'l2_leaf_reg': 8, 'depth': 13}. Best is trial 0 with value: 0.8459376455173284.\n",
      "[I 2024-06-06 16:07:38,186] Trial 3 finished with value: 0.8422142967215468 and parameters: {'iterations': 633, 'learning_rate': 0.04940643207304055, 'l2_leaf_reg': 6, 'depth': 15}. Best is trial 0 with value: 0.8459376455173284.\n",
      "[I 2024-06-06 16:08:32,923] Trial 4 finished with value: 0.801811708388321 and parameters: {'iterations': 501, 'learning_rate': 0.01722922752118621, 'l2_leaf_reg': 5, 'depth': 10}. Best is trial 0 with value: 0.8459376455173284.\n",
      "[I 2024-06-06 16:09:15,445] Trial 5 finished with value: 0.8339635170635399 and parameters: {'iterations': 681, 'learning_rate': 0.022976704332212612, 'l2_leaf_reg': 4, 'depth': 9}. Best is trial 0 with value: 0.8459376455173284.\n",
      "[I 2024-06-06 16:10:23,023] Trial 6 finished with value: 0.8459808206179973 and parameters: {'iterations': 621, 'learning_rate': 0.06978678088217069, 'l2_leaf_reg': 2, 'depth': 10}. Best is trial 6 with value: 0.8459808206179973.\n",
      "[I 2024-06-06 16:11:45,472] Trial 7 finished with value: 0.8418488723690623 and parameters: {'iterations': 363, 'learning_rate': 0.07380873850476645, 'l2_leaf_reg': 10, 'depth': 14}. Best is trial 6 with value: 0.8459808206179973.\n",
      "[I 2024-06-06 16:12:00,593] Trial 8 finished with value: 0.8407009228404264 and parameters: {'iterations': 261, 'learning_rate': 0.08284656485020005, 'l2_leaf_reg': 2, 'depth': 8}. Best is trial 6 with value: 0.8459808206179973.\n",
      "[I 2024-06-06 16:12:59,970] Trial 9 finished with value: 0.8428822035409018 and parameters: {'iterations': 984, 'learning_rate': 0.02390814674470173, 'l2_leaf_reg': 9, 'depth': 9}. Best is trial 6 with value: 0.8459808206179973.\n"
     ]
    }
   ],
   "source": [
    "study.optimize(objective, n_trials=10)"
   ]
  },
  {
   "cell_type": "code",
   "execution_count": 19,
   "id": "81e577e3-97a3-4ce3-8cb8-b66d8049d43b",
   "metadata": {},
   "outputs": [
    {
     "data": {
      "text/plain": [
       "0.8459808206179973"
      ]
     },
     "execution_count": 19,
     "metadata": {},
     "output_type": "execute_result"
    }
   ],
   "source": [
    "study.best_value"
   ]
  },
  {
   "cell_type": "code",
   "execution_count": 20,
   "id": "b9daa9c3-bffc-4447-bee8-96363fd74b3a",
   "metadata": {},
   "outputs": [
    {
     "data": {
      "text/plain": [
       "{'iterations': 621,\n",
       " 'learning_rate': 0.06978678088217069,\n",
       " 'l2_leaf_reg': 2,\n",
       " 'depth': 10}"
      ]
     },
     "execution_count": 20,
     "metadata": {},
     "output_type": "execute_result"
    }
   ],
   "source": [
    "study.best_params"
   ]
  },
  {
   "cell_type": "code",
   "execution_count": null,
   "id": "cd4dd006-b151-4d27-a866-35f69cb87a5e",
   "metadata": {},
   "outputs": [],
   "source": []
  }
 ],
 "metadata": {
  "kernelspec": {
   "display_name": "Python 3 (ipykernel)",
   "language": "python",
   "name": "python3"
  },
  "language_info": {
   "codemirror_mode": {
    "name": "ipython",
    "version": 3
   },
   "file_extension": ".py",
   "mimetype": "text/x-python",
   "name": "python",
   "nbconvert_exporter": "python",
   "pygments_lexer": "ipython3",
   "version": "3.9.18"
  }
 },
 "nbformat": 4,
 "nbformat_minor": 5
}
