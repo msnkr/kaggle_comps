{
 "cells": [
  {
   "cell_type": "code",
   "execution_count": 1,
   "id": "ecb6ef35",
   "metadata": {},
   "outputs": [],
   "source": [
    "import pandas as pd\n",
    "import numpy as np"
   ]
  },
  {
   "cell_type": "code",
   "execution_count": 2,
   "id": "3e2c4215",
   "metadata": {},
   "outputs": [],
   "source": [
    "df = pd.read_csv(\"../data/Flight delays/flight_delays_train.csv\")"
   ]
  },
  {
   "cell_type": "code",
   "execution_count": 3,
   "id": "01f4ffd8",
   "metadata": {},
   "outputs": [
    {
     "data": {
      "text/html": [
       "<div>\n",
       "<style scoped>\n",
       "    .dataframe tbody tr th:only-of-type {\n",
       "        vertical-align: middle;\n",
       "    }\n",
       "\n",
       "    .dataframe tbody tr th {\n",
       "        vertical-align: top;\n",
       "    }\n",
       "\n",
       "    .dataframe thead th {\n",
       "        text-align: right;\n",
       "    }\n",
       "</style>\n",
       "<table border=\"1\" class=\"dataframe\">\n",
       "  <thead>\n",
       "    <tr style=\"text-align: right;\">\n",
       "      <th></th>\n",
       "      <th>Month</th>\n",
       "      <th>DayofMonth</th>\n",
       "      <th>DayOfWeek</th>\n",
       "      <th>DepTime</th>\n",
       "      <th>UniqueCarrier</th>\n",
       "      <th>Origin</th>\n",
       "      <th>Dest</th>\n",
       "      <th>Distance</th>\n",
       "      <th>dep_delayed_15min</th>\n",
       "    </tr>\n",
       "  </thead>\n",
       "  <tbody>\n",
       "    <tr>\n",
       "      <th>0</th>\n",
       "      <td>c-8</td>\n",
       "      <td>c-21</td>\n",
       "      <td>c-7</td>\n",
       "      <td>1934</td>\n",
       "      <td>AA</td>\n",
       "      <td>ATL</td>\n",
       "      <td>DFW</td>\n",
       "      <td>732</td>\n",
       "      <td>N</td>\n",
       "    </tr>\n",
       "    <tr>\n",
       "      <th>1</th>\n",
       "      <td>c-4</td>\n",
       "      <td>c-20</td>\n",
       "      <td>c-3</td>\n",
       "      <td>1548</td>\n",
       "      <td>US</td>\n",
       "      <td>PIT</td>\n",
       "      <td>MCO</td>\n",
       "      <td>834</td>\n",
       "      <td>N</td>\n",
       "    </tr>\n",
       "    <tr>\n",
       "      <th>2</th>\n",
       "      <td>c-9</td>\n",
       "      <td>c-2</td>\n",
       "      <td>c-5</td>\n",
       "      <td>1422</td>\n",
       "      <td>XE</td>\n",
       "      <td>RDU</td>\n",
       "      <td>CLE</td>\n",
       "      <td>416</td>\n",
       "      <td>N</td>\n",
       "    </tr>\n",
       "    <tr>\n",
       "      <th>3</th>\n",
       "      <td>c-11</td>\n",
       "      <td>c-25</td>\n",
       "      <td>c-6</td>\n",
       "      <td>1015</td>\n",
       "      <td>OO</td>\n",
       "      <td>DEN</td>\n",
       "      <td>MEM</td>\n",
       "      <td>872</td>\n",
       "      <td>N</td>\n",
       "    </tr>\n",
       "    <tr>\n",
       "      <th>4</th>\n",
       "      <td>c-10</td>\n",
       "      <td>c-7</td>\n",
       "      <td>c-6</td>\n",
       "      <td>1828</td>\n",
       "      <td>WN</td>\n",
       "      <td>MDW</td>\n",
       "      <td>OMA</td>\n",
       "      <td>423</td>\n",
       "      <td>Y</td>\n",
       "    </tr>\n",
       "  </tbody>\n",
       "</table>\n",
       "</div>"
      ],
      "text/plain": [
       "  Month DayofMonth DayOfWeek  DepTime UniqueCarrier Origin Dest  Distance  \\\n",
       "0   c-8       c-21       c-7     1934            AA    ATL  DFW       732   \n",
       "1   c-4       c-20       c-3     1548            US    PIT  MCO       834   \n",
       "2   c-9        c-2       c-5     1422            XE    RDU  CLE       416   \n",
       "3  c-11       c-25       c-6     1015            OO    DEN  MEM       872   \n",
       "4  c-10        c-7       c-6     1828            WN    MDW  OMA       423   \n",
       "\n",
       "  dep_delayed_15min  \n",
       "0                 N  \n",
       "1                 N  \n",
       "2                 N  \n",
       "3                 N  \n",
       "4                 Y  "
      ]
     },
     "execution_count": 3,
     "metadata": {},
     "output_type": "execute_result"
    }
   ],
   "source": [
    "df.head()"
   ]
  },
  {
   "cell_type": "code",
   "execution_count": 4,
   "id": "8893e920",
   "metadata": {},
   "outputs": [
    {
     "data": {
      "text/plain": [
       "1310"
      ]
     },
     "execution_count": 4,
     "metadata": {},
     "output_type": "execute_result"
    }
   ],
   "source": [
    "len(df[\"Distance\"].unique())"
   ]
  },
  {
   "cell_type": "code",
   "execution_count": 5,
   "id": "3ec39fd7",
   "metadata": {},
   "outputs": [
    {
     "data": {
      "text/html": [
       "<div>\n",
       "<style scoped>\n",
       "    .dataframe tbody tr th:only-of-type {\n",
       "        vertical-align: middle;\n",
       "    }\n",
       "\n",
       "    .dataframe tbody tr th {\n",
       "        vertical-align: top;\n",
       "    }\n",
       "\n",
       "    .dataframe thead th {\n",
       "        text-align: right;\n",
       "    }\n",
       "</style>\n",
       "<table border=\"1\" class=\"dataframe\">\n",
       "  <thead>\n",
       "    <tr style=\"text-align: right;\">\n",
       "      <th></th>\n",
       "      <th>Month</th>\n",
       "      <th>DayofMonth</th>\n",
       "      <th>DayOfWeek</th>\n",
       "      <th>DepTime</th>\n",
       "      <th>UniqueCarrier</th>\n",
       "      <th>Origin</th>\n",
       "      <th>Dest</th>\n",
       "      <th>Distance</th>\n",
       "      <th>dep_delayed_15min</th>\n",
       "    </tr>\n",
       "  </thead>\n",
       "  <tbody>\n",
       "    <tr>\n",
       "      <th>0</th>\n",
       "      <td>c-8</td>\n",
       "      <td>c-21</td>\n",
       "      <td>c-7</td>\n",
       "      <td>1934</td>\n",
       "      <td>AA</td>\n",
       "      <td>ATL</td>\n",
       "      <td>DFW</td>\n",
       "      <td>732</td>\n",
       "      <td>N</td>\n",
       "    </tr>\n",
       "    <tr>\n",
       "      <th>1</th>\n",
       "      <td>c-4</td>\n",
       "      <td>c-20</td>\n",
       "      <td>c-3</td>\n",
       "      <td>1548</td>\n",
       "      <td>US</td>\n",
       "      <td>PIT</td>\n",
       "      <td>MCO</td>\n",
       "      <td>834</td>\n",
       "      <td>N</td>\n",
       "    </tr>\n",
       "    <tr>\n",
       "      <th>2</th>\n",
       "      <td>c-9</td>\n",
       "      <td>c-2</td>\n",
       "      <td>c-5</td>\n",
       "      <td>1422</td>\n",
       "      <td>XE</td>\n",
       "      <td>RDU</td>\n",
       "      <td>CLE</td>\n",
       "      <td>416</td>\n",
       "      <td>N</td>\n",
       "    </tr>\n",
       "    <tr>\n",
       "      <th>3</th>\n",
       "      <td>c-11</td>\n",
       "      <td>c-25</td>\n",
       "      <td>c-6</td>\n",
       "      <td>1015</td>\n",
       "      <td>OO</td>\n",
       "      <td>DEN</td>\n",
       "      <td>MEM</td>\n",
       "      <td>872</td>\n",
       "      <td>N</td>\n",
       "    </tr>\n",
       "    <tr>\n",
       "      <th>4</th>\n",
       "      <td>c-10</td>\n",
       "      <td>c-7</td>\n",
       "      <td>c-6</td>\n",
       "      <td>1828</td>\n",
       "      <td>WN</td>\n",
       "      <td>MDW</td>\n",
       "      <td>OMA</td>\n",
       "      <td>423</td>\n",
       "      <td>Y</td>\n",
       "    </tr>\n",
       "  </tbody>\n",
       "</table>\n",
       "</div>"
      ],
      "text/plain": [
       "  Month DayofMonth DayOfWeek  DepTime UniqueCarrier Origin Dest  Distance  \\\n",
       "0   c-8       c-21       c-7     1934            AA    ATL  DFW       732   \n",
       "1   c-4       c-20       c-3     1548            US    PIT  MCO       834   \n",
       "2   c-9        c-2       c-5     1422            XE    RDU  CLE       416   \n",
       "3  c-11       c-25       c-6     1015            OO    DEN  MEM       872   \n",
       "4  c-10        c-7       c-6     1828            WN    MDW  OMA       423   \n",
       "\n",
       "  dep_delayed_15min  \n",
       "0                 N  \n",
       "1                 N  \n",
       "2                 N  \n",
       "3                 N  \n",
       "4                 Y  "
      ]
     },
     "execution_count": 5,
     "metadata": {},
     "output_type": "execute_result"
    }
   ],
   "source": [
    "df.head()"
   ]
  },
  {
   "cell_type": "code",
   "execution_count": 6,
   "id": "2d62bb66",
   "metadata": {},
   "outputs": [
    {
     "data": {
      "text/plain": [
       "array(['AA', 'US', 'XE', 'OO', 'WN', 'NW', 'DL', 'OH', 'AS', 'UA', 'MQ',\n",
       "       'CO', 'EV', 'DH', 'YV', 'F9', 'AQ', 'TZ', 'HP', 'B6', 'FL', 'HA'],\n",
       "      dtype=object)"
      ]
     },
     "execution_count": 6,
     "metadata": {},
     "output_type": "execute_result"
    }
   ],
   "source": [
    "df[\"UniqueCarrier\"].unique()"
   ]
  },
  {
   "cell_type": "code",
   "execution_count": 7,
   "id": "ff2fb4f2",
   "metadata": {},
   "outputs": [
    {
     "data": {
      "text/plain": [
       "array(['ATL', 'PIT', 'RDU', 'DEN', 'MDW', 'MEM', 'PBI', 'MSP', 'ONT',\n",
       "       'BDL', 'PHX', 'LAS', 'DFW', 'DSM', 'CMH', 'ORF', 'SLC', 'CLT',\n",
       "       'GSO', 'IAD', 'SMF', 'FLL', 'DAL', 'ORD', 'ITO', 'SAN', 'ROA',\n",
       "       'LGA', 'SFO', 'GSP', 'SEA', 'DAB', 'SJC', 'LIT', 'LAX', 'OAK',\n",
       "       'COS', 'OKC', 'GRR', 'JFK', 'BOI', 'MCI', 'BWI', 'BHM', 'CRP',\n",
       "       'BOS', 'SAT', 'PHL', 'STL', 'CIC', 'AUS', 'IAH', 'COD', 'HNL',\n",
       "       'RNO', 'BNA', 'TPA', 'MIA', 'EVV', 'PNS', 'EWR', 'RSW', 'ANC',\n",
       "       'SNA', 'AMA', 'CID', 'DTW', 'DCA', 'LGB', 'MAF', 'MFE', 'BMI',\n",
       "       'PDX', 'IPL', 'GRB', 'FAR', 'HOU', 'MTJ', 'DRO', 'MLU', 'VPS',\n",
       "       'TUL', 'CVG', 'SBA', 'PWM', 'IDA', 'MCO', 'ACV', 'CHS', 'BGM',\n",
       "       'MSY', 'OGG', 'CLE', 'MOB', 'CAK', 'FAY', 'SHV', 'TUS', 'IND',\n",
       "       'CAE', 'PVD', 'ROC', 'MFR', 'VLD', 'ELP', 'RIC', 'MKE', 'SGF',\n",
       "       'TYS', 'CHO', 'EGE', 'BIS', 'JAN', 'JAX', 'BUF', 'MSO', 'BGR',\n",
       "       'CEC', 'ICT', 'MYR', 'ALB', 'LIH', 'SBP', 'AEX', 'GNV', 'SAV',\n",
       "       'BTM', 'BRO', 'SJU', 'XNA', 'CPR', 'SDF', 'JAC', 'AVL', 'PHF',\n",
       "       'GPT', 'SYR', 'PSP', 'MHT', 'MRY', 'CLD', 'FAT', 'MSN', 'ISP',\n",
       "       'BUR', 'PSC', 'MEI', 'LEX', 'LBB', 'GEG', 'LFT', 'OMA', 'ISO',\n",
       "       'MGM', 'GRK', 'AVP', 'ABQ', 'SRQ', 'BTV', 'FLG', 'BTR', 'MDT',\n",
       "       'ABI', 'TRI', 'ADQ', 'FSM', 'SMX', 'RST', 'RAP', 'ILM', 'SIT',\n",
       "       'EKO', 'DBQ', 'CHA', 'BQK', 'BZN', 'MOD', 'MOT', 'MLB', 'TVC',\n",
       "       'LAN', 'DAY', 'HSV', 'EUG', 'SGU', 'ACT', 'AGS', 'CLL', 'HLN',\n",
       "       'LNK', 'ASE', 'HRL', 'ATW', 'CMI', 'LWS', 'DHN', 'FNT', 'FLO',\n",
       "       'RDM', 'TYR', 'KOA', 'FAI', 'OME', 'RDD', 'MCN', 'TLH', 'MQT',\n",
       "       'AZO', 'FCA', 'CRW', 'TOL', 'HPN', 'FSD', 'FWA', 'SUN', 'LAW',\n",
       "       'YUM', 'PIA', 'GTF', 'ACY', 'PIH', 'SPS', 'MLI', 'BIL', 'TWF',\n",
       "       'HTS', 'SBN', 'PFN', 'GJT', 'CSG', 'JNU', 'TXK', 'LRD', 'BQN',\n",
       "       'CWA', 'SWF', 'GTR', 'BFL', 'OXR', 'KTN', 'PIE', 'SCE', 'PSG',\n",
       "       'DLH', 'SJT', 'GUC', 'SPI', 'IYK', 'ABY', 'STT', 'ABE', 'GFK',\n",
       "       'HDN', 'CDV', 'MBS', 'TUP', 'LCH', 'EYW', 'OTZ', 'ADK', 'GGG',\n",
       "       'VIS', 'GST', 'LYH', 'HVN', 'BRW', 'LSE', 'ERI', 'HKY', 'BET',\n",
       "       'CDC', 'OAJ', 'WRG', 'ACK', 'DLG', 'YAK', 'AKN', 'TEX', 'STX',\n",
       "       'SCC', 'APF', 'BPT', 'WYS', 'RFD', 'BLI', 'ILG', 'VCT', 'LWB',\n",
       "       'PSE'], dtype=object)"
      ]
     },
     "execution_count": 7,
     "metadata": {},
     "output_type": "execute_result"
    }
   ],
   "source": [
    "df[\"Origin\"].unique()"
   ]
  },
  {
   "cell_type": "code",
   "execution_count": 8,
   "id": "a42a0d32",
   "metadata": {},
   "outputs": [
    {
     "data": {
      "text/plain": [
       "Month                0.0\n",
       "DayofMonth           0.0\n",
       "DayOfWeek            0.0\n",
       "DepTime              0.0\n",
       "UniqueCarrier        0.0\n",
       "Origin               0.0\n",
       "Dest                 0.0\n",
       "Distance             0.0\n",
       "dep_delayed_15min    0.0\n",
       "dtype: float64"
      ]
     },
     "execution_count": 8,
     "metadata": {},
     "output_type": "execute_result"
    }
   ],
   "source": [
    "df.isna().mean()"
   ]
  },
  {
   "cell_type": "code",
   "execution_count": 9,
   "id": "99a1b3a3",
   "metadata": {},
   "outputs": [],
   "source": [
    "def int_dates(df):   \n",
    "    \n",
    "    df[\"Month\"] = df[\"Month\"].str.replace(\"c-\", \"\")\n",
    "    df[\"DayofMonth\"] = df[\"DayofMonth\"].str.replace(\"c-\", \"\")\n",
    "    df[\"DayOfWeek\"] = df[\"DayOfWeek\"].str.replace(\"c-\", \"\")\n",
    "    \n",
    "    df[\"Month\"] = df[\"Month\"].astype(int)\n",
    "    df[\"DayOfWeek\"] = df[\"DayOfWeek\"].astype(int)\n",
    "    df[\"DayofMonth\"] = df[\"DayofMonth\"].astype(int)\n",
    "    \n",
    "\n",
    "    return df"
   ]
  },
  {
   "cell_type": "code",
   "execution_count": 10,
   "id": "c7632b4e",
   "metadata": {},
   "outputs": [],
   "source": [
    "df = int_dates(df)"
   ]
  },
  {
   "cell_type": "code",
   "execution_count": 11,
   "id": "84f28117",
   "metadata": {},
   "outputs": [],
   "source": [
    "df['Hour'] = df['DepTime'].apply(lambda x: str(x)[:2])\n",
    "df['Minutes'] = df['DepTime'].apply(lambda x: str(x)[2:])"
   ]
  },
  {
   "cell_type": "code",
   "execution_count": 12,
   "id": "72fea0a4",
   "metadata": {},
   "outputs": [
    {
     "data": {
      "text/html": [
       "<div>\n",
       "<style scoped>\n",
       "    .dataframe tbody tr th:only-of-type {\n",
       "        vertical-align: middle;\n",
       "    }\n",
       "\n",
       "    .dataframe tbody tr th {\n",
       "        vertical-align: top;\n",
       "    }\n",
       "\n",
       "    .dataframe thead th {\n",
       "        text-align: right;\n",
       "    }\n",
       "</style>\n",
       "<table border=\"1\" class=\"dataframe\">\n",
       "  <thead>\n",
       "    <tr style=\"text-align: right;\">\n",
       "      <th></th>\n",
       "      <th>Month</th>\n",
       "      <th>DayofMonth</th>\n",
       "      <th>DayOfWeek</th>\n",
       "      <th>DepTime</th>\n",
       "      <th>UniqueCarrier</th>\n",
       "      <th>Origin</th>\n",
       "      <th>Dest</th>\n",
       "      <th>Distance</th>\n",
       "      <th>dep_delayed_15min</th>\n",
       "      <th>Hour</th>\n",
       "      <th>Minutes</th>\n",
       "    </tr>\n",
       "  </thead>\n",
       "  <tbody>\n",
       "    <tr>\n",
       "      <th>0</th>\n",
       "      <td>8</td>\n",
       "      <td>21</td>\n",
       "      <td>7</td>\n",
       "      <td>1934</td>\n",
       "      <td>AA</td>\n",
       "      <td>ATL</td>\n",
       "      <td>DFW</td>\n",
       "      <td>732</td>\n",
       "      <td>N</td>\n",
       "      <td>19</td>\n",
       "      <td>34</td>\n",
       "    </tr>\n",
       "    <tr>\n",
       "      <th>1</th>\n",
       "      <td>4</td>\n",
       "      <td>20</td>\n",
       "      <td>3</td>\n",
       "      <td>1548</td>\n",
       "      <td>US</td>\n",
       "      <td>PIT</td>\n",
       "      <td>MCO</td>\n",
       "      <td>834</td>\n",
       "      <td>N</td>\n",
       "      <td>15</td>\n",
       "      <td>48</td>\n",
       "    </tr>\n",
       "    <tr>\n",
       "      <th>2</th>\n",
       "      <td>9</td>\n",
       "      <td>2</td>\n",
       "      <td>5</td>\n",
       "      <td>1422</td>\n",
       "      <td>XE</td>\n",
       "      <td>RDU</td>\n",
       "      <td>CLE</td>\n",
       "      <td>416</td>\n",
       "      <td>N</td>\n",
       "      <td>14</td>\n",
       "      <td>22</td>\n",
       "    </tr>\n",
       "    <tr>\n",
       "      <th>3</th>\n",
       "      <td>11</td>\n",
       "      <td>25</td>\n",
       "      <td>6</td>\n",
       "      <td>1015</td>\n",
       "      <td>OO</td>\n",
       "      <td>DEN</td>\n",
       "      <td>MEM</td>\n",
       "      <td>872</td>\n",
       "      <td>N</td>\n",
       "      <td>10</td>\n",
       "      <td>15</td>\n",
       "    </tr>\n",
       "    <tr>\n",
       "      <th>4</th>\n",
       "      <td>10</td>\n",
       "      <td>7</td>\n",
       "      <td>6</td>\n",
       "      <td>1828</td>\n",
       "      <td>WN</td>\n",
       "      <td>MDW</td>\n",
       "      <td>OMA</td>\n",
       "      <td>423</td>\n",
       "      <td>Y</td>\n",
       "      <td>18</td>\n",
       "      <td>28</td>\n",
       "    </tr>\n",
       "  </tbody>\n",
       "</table>\n",
       "</div>"
      ],
      "text/plain": [
       "   Month  DayofMonth  DayOfWeek  DepTime UniqueCarrier Origin Dest  Distance  \\\n",
       "0      8          21          7     1934            AA    ATL  DFW       732   \n",
       "1      4          20          3     1548            US    PIT  MCO       834   \n",
       "2      9           2          5     1422            XE    RDU  CLE       416   \n",
       "3     11          25          6     1015            OO    DEN  MEM       872   \n",
       "4     10           7          6     1828            WN    MDW  OMA       423   \n",
       "\n",
       "  dep_delayed_15min Hour Minutes  \n",
       "0                 N   19      34  \n",
       "1                 N   15      48  \n",
       "2                 N   14      22  \n",
       "3                 N   10      15  \n",
       "4                 Y   18      28  "
      ]
     },
     "execution_count": 12,
     "metadata": {},
     "output_type": "execute_result"
    }
   ],
   "source": [
    "df.head()"
   ]
  },
  {
   "cell_type": "code",
   "execution_count": 13,
   "id": "7d23ce3e",
   "metadata": {},
   "outputs": [
    {
     "data": {
      "text/plain": [
       "Month                0\n",
       "DayofMonth           0\n",
       "DayOfWeek            0\n",
       "DepTime              0\n",
       "UniqueCarrier        0\n",
       "Origin               0\n",
       "Dest                 0\n",
       "Distance             0\n",
       "dep_delayed_15min    0\n",
       "Hour                 0\n",
       "Minutes              0\n",
       "dtype: int64"
      ]
     },
     "execution_count": 13,
     "metadata": {},
     "output_type": "execute_result"
    }
   ],
   "source": [
    "df.isna().sum()"
   ]
  },
  {
   "cell_type": "code",
   "execution_count": 14,
   "id": "6cd18259",
   "metadata": {},
   "outputs": [
    {
     "data": {
      "text/plain": [
       "Month                 int32\n",
       "DayofMonth            int32\n",
       "DayOfWeek             int32\n",
       "DepTime               int64\n",
       "UniqueCarrier        object\n",
       "Origin               object\n",
       "Dest                 object\n",
       "Distance              int64\n",
       "dep_delayed_15min    object\n",
       "Hour                 object\n",
       "Minutes              object\n",
       "dtype: object"
      ]
     },
     "execution_count": 14,
     "metadata": {},
     "output_type": "execute_result"
    }
   ],
   "source": [
    "df.dtypes"
   ]
  },
  {
   "cell_type": "code",
   "execution_count": 15,
   "id": "c3c0b2ed",
   "metadata": {},
   "outputs": [],
   "source": [
    "from sklearn.preprocessing import OneHotEncoder\n",
    "from sklearn.pipeline import Pipeline\n",
    "from sklearn.compose import ColumnTransformer"
   ]
  },
  {
   "cell_type": "code",
   "execution_count": 16,
   "id": "0f9edd2d",
   "metadata": {},
   "outputs": [
    {
     "data": {
      "text/plain": [
       "(100000, 11)"
      ]
     },
     "execution_count": 16,
     "metadata": {},
     "output_type": "execute_result"
    }
   ],
   "source": [
    "df.shape"
   ]
  },
  {
   "cell_type": "code",
   "execution_count": 17,
   "id": "3198aac6",
   "metadata": {},
   "outputs": [],
   "source": [
    "cat_labels = [c for c in df if not pd.api.types.is_numeric_dtype(df[c]) and c != \"dep_delayed_15min\"]"
   ]
  },
  {
   "cell_type": "code",
   "execution_count": 18,
   "id": "3cad644d",
   "metadata": {},
   "outputs": [
    {
     "data": {
      "text/plain": [
       "['UniqueCarrier', 'Origin', 'Dest', 'Hour', 'Minutes']"
      ]
     },
     "execution_count": 18,
     "metadata": {},
     "output_type": "execute_result"
    }
   ],
   "source": [
    "cat_labels"
   ]
  },
  {
   "cell_type": "code",
   "execution_count": 19,
   "id": "90d25398",
   "metadata": {},
   "outputs": [],
   "source": [
    "cat_imputer = Pipeline([\n",
    "    (\"ohe\", OneHotEncoder(handle_unknown=\"ignore\"))\n",
    "])"
   ]
  },
  {
   "cell_type": "code",
   "execution_count": 20,
   "id": "74040632",
   "metadata": {},
   "outputs": [],
   "source": [
    "preprocessor = ColumnTransformer([\n",
    "    (\"imputer\", cat_imputer, cat_labels)\n",
    "], remainder=\"passthrough\")"
   ]
  },
  {
   "cell_type": "code",
   "execution_count": 21,
   "id": "06610e81",
   "metadata": {},
   "outputs": [],
   "source": [
    "from sklearn.model_selection import train_test_split"
   ]
  },
  {
   "cell_type": "code",
   "execution_count": 72,
   "id": "cc3ac780",
   "metadata": {},
   "outputs": [],
   "source": [
    "X = df.drop(\"dep_delayed_15min\", axis=1)\n",
    "y = df[\"dep_delayed_15min\"]\n",
    "\n",
    "X_train, X_test, y_train, y_test = train_test_split(X, y, test_size=0.2)"
   ]
  },
  {
   "cell_type": "code",
   "execution_count": 73,
   "id": "29b843a0",
   "metadata": {},
   "outputs": [],
   "source": [
    "X_train_preprocessed = preprocessor.fit_transform(X_train)\n",
    "X_test_preprocessed = preprocessor.transform(X_test)"
   ]
  },
  {
   "cell_type": "code",
   "execution_count": 74,
   "id": "014a4ca3",
   "metadata": {},
   "outputs": [],
   "source": [
    "from catboost import CatBoostClassifier"
   ]
  },
  {
   "cell_type": "code",
   "execution_count": 75,
   "id": "7d4c2a7a",
   "metadata": {},
   "outputs": [],
   "source": [
    "model = CatBoostClassifier(verbose=False)"
   ]
  },
  {
   "cell_type": "code",
   "execution_count": 76,
   "id": "2c6d29f6",
   "metadata": {},
   "outputs": [
    {
     "data": {
      "application/vnd.jupyter.widget-view+json": {
       "model_id": "4ece3f6e09fa4d20921fe95e114cb207",
       "version_major": 2,
       "version_minor": 0
      },
      "text/plain": [
       "MetricVisualizer(layout=Layout(align_self='stretch', height='500px'))"
      ]
     },
     "metadata": {},
     "output_type": "display_data"
    }
   ],
   "source": [
    "model.fit(X_train_preprocessed, y_train, early_stopping_rounds=25, verbose=False, plot=True);"
   ]
  },
  {
   "cell_type": "code",
   "execution_count": 77,
   "id": "e43dad8d",
   "metadata": {},
   "outputs": [],
   "source": [
    "from sklearn.metrics import roc_auc_score"
   ]
  },
  {
   "cell_type": "code",
   "execution_count": 78,
   "id": "dd6d2db0",
   "metadata": {},
   "outputs": [],
   "source": [
    "y_preds_proba = model.predict_proba(X_test_preprocessed)[:, 1]"
   ]
  },
  {
   "cell_type": "code",
   "execution_count": 79,
   "id": "66de8150",
   "metadata": {},
   "outputs": [
    {
     "data": {
      "text/plain": [
       "0.7519817766921771"
      ]
     },
     "execution_count": 79,
     "metadata": {},
     "output_type": "execute_result"
    }
   ],
   "source": [
    "roc_auc_score(y_test, y_preds_proba)"
   ]
  },
  {
   "cell_type": "code",
   "execution_count": 80,
   "id": "a3f4db90",
   "metadata": {},
   "outputs": [],
   "source": [
    "import optuna"
   ]
  },
  {
   "cell_type": "code",
   "execution_count": 81,
   "id": "f2479ef4",
   "metadata": {},
   "outputs": [],
   "source": [
    "def objective(trial):\n",
    "    \n",
    "    params = {\n",
    "        \"iterations\": trial.suggest_int(\"iterations\", 200, 1000),\n",
    "        \"learning_rate\": trial.suggest_float(\"learning_rate\", 0.01, 0.1),\n",
    "        \"depth\": trial.suggest_int(\"depth\", 4, 10),\n",
    "        \"l2_leaf_reg\": trial.suggest_int(\"l2_leaf_reg\", 4, 10),\n",
    "        \"bagging_temperature\": trial.suggest_float(\"bagging_temperature\", 0.1, 1),\n",
    "        \"random_strength\": trial.suggest_int(\"random_strength\", 1, 20),\n",
    "        \"border_count\": trial.suggest_int(\"border_count\", 32, 256),\n",
    "        \"leaf_estimation_iterations\": trial.suggest_int(\"leaf_estimation_iterations\", 1, 10),\n",
    "        \"subsample\": trial.suggest_float(\"subsample\", 0.1, 1)\n",
    "    }\n",
    "    \n",
    "    model = CatBoostClassifier(**params, verbose=False, early_stopping_rounds=25)\n",
    "    model.fit(X_train_preprocessed, y_train)\n",
    "    \n",
    "    y_preds_proba = model.predict_proba(X_test_preprocessed)[:, 1]\n",
    "    \n",
    "    return roc_auc_score(y_test, y_preds_proba)\n",
    "    "
   ]
  },
  {
   "cell_type": "code",
   "execution_count": 82,
   "id": "3c0dc7d9",
   "metadata": {},
   "outputs": [
    {
     "name": "stderr",
     "output_type": "stream",
     "text": [
      "[I 2024-08-23 11:13:19,920] A new study created in memory with name: no-name-99982cfe-ecab-41c6-820e-8402c22e83de\n"
     ]
    }
   ],
   "source": [
    "study = optuna.create_study(direction=\"maximize\");"
   ]
  },
  {
   "cell_type": "code",
   "execution_count": null,
   "id": "5e6e6d1d",
   "metadata": {},
   "outputs": [
    {
     "data": {
      "application/vnd.jupyter.widget-view+json": {
       "model_id": "7838e8de0f1d487c9d77148b18dd5370",
       "version_major": 2,
       "version_minor": 0
      },
      "text/plain": [
       "  0%|          | 0/300 [00:00<?, ?it/s]"
      ]
     },
     "metadata": {},
     "output_type": "display_data"
    },
    {
     "name": "stdout",
     "output_type": "stream",
     "text": [
      "[I 2024-08-23 11:13:30,042] Trial 2 finished with value: 0.7276978452810317 and parameters: {'iterations': 390, 'learning_rate': 0.08359410184012324, 'depth': 4, 'l2_leaf_reg': 6, 'bagging_temperature': 0.6961209824072158, 'random_strength': 19, 'border_count': 34, 'leaf_estimation_iterations': 5, 'subsample': 0.33057982751614623}. Best is trial 2 with value: 0.7276978452810317.\n",
      "[I 2024-08-23 11:13:34,900] Trial 1 finished with value: 0.739616920105127 and parameters: {'iterations': 531, 'learning_rate': 0.0822293528958529, 'depth': 6, 'l2_leaf_reg': 8, 'bagging_temperature': 0.10080673345260065, 'random_strength': 4, 'border_count': 249, 'leaf_estimation_iterations': 2, 'subsample': 0.411641742036823}. Best is trial 1 with value: 0.739616920105127.\n",
      "[I 2024-08-23 11:13:37,306] Trial 0 finished with value: 0.7115286040620046 and parameters: {'iterations': 211, 'learning_rate': 0.025999247195667714, 'depth': 10, 'l2_leaf_reg': 7, 'bagging_temperature': 0.32033695370673665, 'random_strength': 11, 'border_count': 59, 'leaf_estimation_iterations': 6, 'subsample': 0.19292126186149072}. Best is trial 1 with value: 0.739616920105127.\n",
      "[I 2024-08-23 11:13:51,319] Trial 4 finished with value: 0.7378683533911026 and parameters: {'iterations': 242, 'learning_rate': 0.07218926122026657, 'depth': 10, 'l2_leaf_reg': 4, 'bagging_temperature': 0.2962121088788302, 'random_strength': 11, 'border_count': 124, 'leaf_estimation_iterations': 5, 'subsample': 0.4799341206532206}. Best is trial 1 with value: 0.739616920105127.\n",
      "[I 2024-08-23 11:13:59,488] Trial 3 finished with value: 0.7479531595756519 and parameters: {'iterations': 688, 'learning_rate': 0.059119854472609056, 'depth': 9, 'l2_leaf_reg': 8, 'bagging_temperature': 0.2970937936976729, 'random_strength': 1, 'border_count': 203, 'leaf_estimation_iterations': 4, 'subsample': 0.38018376179105295}. Best is trial 3 with value: 0.7479531595756519.\n",
      "[I 2024-08-23 11:14:11,954] Trial 5 finished with value: 0.7410532869476081 and parameters: {'iterations': 380, 'learning_rate': 0.055754603372751545, 'depth': 10, 'l2_leaf_reg': 9, 'bagging_temperature': 0.6772217707623039, 'random_strength': 7, 'border_count': 220, 'leaf_estimation_iterations': 8, 'subsample': 0.43913472049675506}. Best is trial 3 with value: 0.7479531595756519.\n",
      "[I 2024-08-23 11:14:18,125] Trial 8 finished with value: 0.7373221040352931 and parameters: {'iterations': 545, 'learning_rate': 0.0538178326580512, 'depth': 8, 'l2_leaf_reg': 4, 'bagging_temperature': 0.5364458521167179, 'random_strength': 15, 'border_count': 53, 'leaf_estimation_iterations': 5, 'subsample': 0.21668077682637124}. Best is trial 3 with value: 0.7479531595756519.\n",
      "[I 2024-08-23 11:14:26,263] Trial 9 finished with value: 0.7403681053552055 and parameters: {'iterations': 611, 'learning_rate': 0.09720374155463822, 'depth': 4, 'l2_leaf_reg': 7, 'bagging_temperature': 0.5074729458294033, 'random_strength': 7, 'border_count': 69, 'leaf_estimation_iterations': 7, 'subsample': 0.6430105865102492}. Best is trial 3 with value: 0.7479531595756519.\n",
      "[I 2024-08-23 11:14:27,185] Trial 7 finished with value: 0.7467675198699849 and parameters: {'iterations': 937, 'learning_rate': 0.05134081083102747, 'depth': 8, 'l2_leaf_reg': 6, 'bagging_temperature': 0.23440793078913552, 'random_strength': 6, 'border_count': 168, 'leaf_estimation_iterations': 5, 'subsample': 0.38950210903824956}. Best is trial 3 with value: 0.7479531595756519.\n",
      "[I 2024-08-23 11:14:36,745] Trial 6 finished with value: 0.7317839665579327 and parameters: {'iterations': 676, 'learning_rate': 0.022623437339529325, 'depth': 10, 'l2_leaf_reg': 10, 'bagging_temperature': 0.2868808419746521, 'random_strength': 14, 'border_count': 254, 'leaf_estimation_iterations': 2, 'subsample': 0.7790381066740031}. Best is trial 3 with value: 0.7479531595756519.\n",
      "[I 2024-08-23 11:14:36,948] Trial 11 finished with value: 0.7353370456374001 and parameters: {'iterations': 376, 'learning_rate': 0.0938863780181814, 'depth': 8, 'l2_leaf_reg': 6, 'bagging_temperature': 0.1454611347432776, 'random_strength': 18, 'border_count': 180, 'leaf_estimation_iterations': 1, 'subsample': 0.12460230357784746}. Best is trial 3 with value: 0.7479531595756519.\n",
      "[I 2024-08-23 11:14:37,995] Trial 12 finished with value: 0.7148858412273017 and parameters: {'iterations': 226, 'learning_rate': 0.04583105245500536, 'depth': 9, 'l2_leaf_reg': 7, 'bagging_temperature': 0.6939131242676966, 'random_strength': 18, 'border_count': 85, 'leaf_estimation_iterations': 2, 'subsample': 0.856290990272758}. Best is trial 3 with value: 0.7479531595756519.\n",
      "[I 2024-08-23 11:14:52,164] Trial 10 finished with value: 0.7489835107342304 and parameters: {'iterations': 633, 'learning_rate': 0.08194511476179911, 'depth': 9, 'l2_leaf_reg': 9, 'bagging_temperature': 0.6936426496208148, 'random_strength': 19, 'border_count': 166, 'leaf_estimation_iterations': 7, 'subsample': 0.5529153227555086}. Best is trial 10 with value: 0.7489835107342304.\n",
      "[I 2024-08-23 11:15:10,581] Trial 13 finished with value: 0.7477734490325395 and parameters: {'iterations': 841, 'learning_rate': 0.03515903084354217, 'depth': 7, 'l2_leaf_reg': 9, 'bagging_temperature': 0.8311934856735177, 'random_strength': 1, 'border_count': 183, 'leaf_estimation_iterations': 10, 'subsample': 0.9662266948371475}. Best is trial 10 with value: 0.7489835107342304.\n",
      "[I 2024-08-23 11:15:13,252] Trial 15 finished with value: 0.7479946609017902 and parameters: {'iterations': 942, 'learning_rate': 0.04098688038891931, 'depth': 7, 'l2_leaf_reg': 5, 'bagging_temperature': 0.982758815421879, 'random_strength': 1, 'border_count': 181, 'leaf_estimation_iterations': 10, 'subsample': 0.6136742642020332}. Best is trial 10 with value: 0.7489835107342304.\n",
      "[I 2024-08-23 11:15:18,579] Trial 16 finished with value: 0.7482595592231396 and parameters: {'iterations': 807, 'learning_rate': 0.07225536379916091, 'depth': 6, 'l2_leaf_reg': 9, 'bagging_temperature': 0.9393287948310753, 'random_strength': 14, 'border_count': 194, 'leaf_estimation_iterations': 10, 'subsample': 0.6289600598983389}. Best is trial 10 with value: 0.7489835107342304.\n",
      "[I 2024-08-23 11:15:20,157] Trial 14 finished with value: 0.7509238061841474 and parameters: {'iterations': 959, 'learning_rate': 0.04765462520058861, 'depth': 8, 'l2_leaf_reg': 6, 'bagging_temperature': 0.40865514931661484, 'random_strength': 2, 'border_count': 169, 'leaf_estimation_iterations': 10, 'subsample': 0.6122020793097335}. Best is trial 14 with value: 0.7509238061841474.\n",
      "[I 2024-08-23 11:15:33,732] Trial 17 finished with value: 0.7468854684705203 and parameters: {'iterations': 741, 'learning_rate': 0.06504888421971544, 'depth': 6, 'l2_leaf_reg': 10, 'bagging_temperature': 0.9637065516024512, 'random_strength': 3, 'border_count': 133, 'leaf_estimation_iterations': 9, 'subsample': 0.6272592108944613}. Best is trial 14 with value: 0.7509238061841474.\n",
      "[I 2024-08-23 11:15:39,090] Trial 18 finished with value: 0.7116076702741329 and parameters: {'iterations': 816, 'learning_rate': 0.01185692533463649, 'depth': 6, 'l2_leaf_reg': 5, 'bagging_temperature': 0.9868158957220703, 'random_strength': 13, 'border_count': 131, 'leaf_estimation_iterations': 10, 'subsample': 0.6204166634122374}. Best is trial 14 with value: 0.7509238061841474.\n",
      "[I 2024-08-23 11:15:40,480] Trial 19 finished with value: 0.7458468748882834 and parameters: {'iterations': 805, 'learning_rate': 0.06954149101057859, 'depth': 5, 'l2_leaf_reg': 10, 'bagging_temperature': 0.9608594199238654, 'random_strength': 15, 'border_count': 131, 'leaf_estimation_iterations': 8, 'subsample': 0.7311036406259526}. Best is trial 14 with value: 0.7509238061841474.\n",
      "[I 2024-08-23 11:16:03,569] Trial 20 finished with value: 0.7171163567523404 and parameters: {'iterations': 785, 'learning_rate': 0.010116955933286695, 'depth': 9, 'l2_leaf_reg': 10, 'bagging_temperature': 0.42741190442500077, 'random_strength': 9, 'border_count': 124, 'leaf_estimation_iterations': 8, 'subsample': 0.7760399157690447}. Best is trial 14 with value: 0.7509238061841474.\n",
      "[I 2024-08-23 11:16:29,172] Trial 21 finished with value: 0.7247435549830312 and parameters: {'iterations': 1000, 'learning_rate': 0.012446464557960883, 'depth': 9, 'l2_leaf_reg': 5, 'bagging_temperature': 0.39430282896720403, 'random_strength': 9, 'border_count': 152, 'leaf_estimation_iterations': 8, 'subsample': 0.7158574241549378}. Best is trial 14 with value: 0.7509238061841474.\n"
     ]
    },
    {
     "name": "stdout",
     "output_type": "stream",
     "text": [
      "[I 2024-08-23 11:16:31,500] Trial 23 finished with value: 0.7533478820947807 and parameters: {'iterations': 980, 'learning_rate': 0.08382629049806609, 'depth': 9, 'l2_leaf_reg': 8, 'bagging_temperature': 0.4383967453536933, 'random_strength': 9, 'border_count': 155, 'leaf_estimation_iterations': 7, 'subsample': 0.553548003176989}. Best is trial 23 with value: 0.7533478820947807.\n",
      "[I 2024-08-23 11:16:34,187] Trial 22 finished with value: 0.7535129073060731 and parameters: {'iterations': 994, 'learning_rate': 0.08651627903162849, 'depth': 9, 'l2_leaf_reg': 8, 'bagging_temperature': 0.4230764411381815, 'random_strength': 9, 'border_count': 111, 'leaf_estimation_iterations': 8, 'subsample': 0.7525515800445925}. Best is trial 22 with value: 0.7535129073060731.\n",
      "[I 2024-08-23 11:16:46,093] Trial 24 finished with value: 0.7520348623993245 and parameters: {'iterations': 997, 'learning_rate': 0.07926265741277365, 'depth': 8, 'l2_leaf_reg': 8, 'bagging_temperature': 0.8317427506557149, 'random_strength': 20, 'border_count': 161, 'leaf_estimation_iterations': 9, 'subsample': 0.5542465200403454}. Best is trial 22 with value: 0.7535129073060731.\n",
      "[I 2024-08-23 11:17:06,635] Trial 26 finished with value: 0.7510133160129967 and parameters: {'iterations': 920, 'learning_rate': 0.08269763542505607, 'depth': 8, 'l2_leaf_reg': 8, 'bagging_temperature': 0.6052475733197279, 'random_strength': 5, 'border_count': 101, 'leaf_estimation_iterations': 7, 'subsample': 0.5236257672550442}. Best is trial 22 with value: 0.7535129073060731.\n",
      "[I 2024-08-23 11:17:06,947] Trial 25 finished with value: 0.7528828198086489 and parameters: {'iterations': 890, 'learning_rate': 0.07684609110065971, 'depth': 8, 'l2_leaf_reg': 8, 'bagging_temperature': 0.7918470877362388, 'random_strength': 20, 'border_count': 211, 'leaf_estimation_iterations': 9, 'subsample': 0.5361504697575894}. Best is trial 22 with value: 0.7535129073060731.\n",
      "[I 2024-08-23 11:17:10,572] Trial 27 finished with value: 0.7517988205943301 and parameters: {'iterations': 892, 'learning_rate': 0.09212092598734993, 'depth': 8, 'l2_leaf_reg': 8, 'bagging_temperature': 0.4494497007637729, 'random_strength': 4, 'border_count': 106, 'leaf_estimation_iterations': 9, 'subsample': 0.5059820884347181}. Best is trial 22 with value: 0.7535129073060731.\n",
      "[I 2024-08-23 11:17:22,912] Trial 28 finished with value: 0.7528632179434189 and parameters: {'iterations': 877, 'learning_rate': 0.08916030353338707, 'depth': 8, 'l2_leaf_reg': 8, 'bagging_temperature': 0.6072941807874923, 'random_strength': 5, 'border_count': 101, 'leaf_estimation_iterations': 7, 'subsample': 0.9244412292512065}. Best is trial 22 with value: 0.7535129073060731.\n",
      "[I 2024-08-23 11:17:40,190] Trial 29 finished with value: 0.7530472184029382 and parameters: {'iterations': 891, 'learning_rate': 0.0914772800704907, 'depth': 7, 'l2_leaf_reg': 8, 'bagging_temperature': 0.8091877999881478, 'random_strength': 10, 'border_count': 107, 'leaf_estimation_iterations': 9, 'subsample': 0.9059067808621296}. Best is trial 22 with value: 0.7535129073060731.\n",
      "[I 2024-08-23 11:17:40,736] Trial 30 finished with value: 0.7551531817482534 and parameters: {'iterations': 870, 'learning_rate': 0.08966651069968079, 'depth': 7, 'l2_leaf_reg': 8, 'bagging_temperature': 0.4700074984118103, 'random_strength': 9, 'border_count': 231, 'leaf_estimation_iterations': 9, 'subsample': 0.889449151498165}. Best is trial 30 with value: 0.7551531817482534.\n",
      "[I 2024-08-23 11:17:42,080] Trial 31 finished with value: 0.7529046550011468 and parameters: {'iterations': 891, 'learning_rate': 0.08746736880094573, 'depth': 7, 'l2_leaf_reg': 7, 'bagging_temperature': 0.6064337580220138, 'random_strength': 9, 'border_count': 228, 'leaf_estimation_iterations': 6, 'subsample': 0.8806601156730923}. Best is trial 30 with value: 0.7551531817482534.\n",
      "[I 2024-08-23 11:18:06,496] Trial 33 finished with value: 0.7504396240458651 and parameters: {'iterations': 734, 'learning_rate': 0.08864091351688239, 'depth': 7, 'l2_leaf_reg': 7, 'bagging_temperature': 0.48802444834162884, 'random_strength': 9, 'border_count': 85, 'leaf_estimation_iterations': 6, 'subsample': 0.8935980152647656}. Best is trial 30 with value: 0.7551531817482534.\n",
      "[I 2024-08-23 11:18:11,823] Trial 34 finished with value: 0.7528770195845931 and parameters: {'iterations': 863, 'learning_rate': 0.0995467956151941, 'depth': 7, 'l2_leaf_reg': 7, 'bagging_temperature': 0.36197482217718746, 'random_strength': 9, 'border_count': 237, 'leaf_estimation_iterations': 6, 'subsample': 0.9019046022393704}. Best is trial 30 with value: 0.7551531817482534.\n",
      "[I 2024-08-23 11:18:18,852] Trial 35 finished with value: 0.7540404384872984 and parameters: {'iterations': 994, 'learning_rate': 0.09797460045269198, 'depth': 7, 'l2_leaf_reg': 7, 'bagging_temperature': 0.47563054212969286, 'random_strength': 12, 'border_count': 83, 'leaf_estimation_iterations': 8, 'subsample': 0.9944743499651267}. Best is trial 30 with value: 0.7551531817482534.\n",
      "[I 2024-08-23 11:18:35,880] Trial 32 finished with value: 0.7470272285171792 and parameters: {'iterations': 867, 'learning_rate': 0.06330243020995713, 'depth': 10, 'l2_leaf_reg': 7, 'bagging_temperature': 0.8122502109774689, 'random_strength': 9, 'border_count': 206, 'leaf_estimation_iterations': 6, 'subsample': 0.285584381614671}. Best is trial 30 with value: 0.7551531817482534.\n",
      "[I 2024-08-23 11:18:38,723] Trial 36 finished with value: 0.7533891745485847 and parameters: {'iterations': 849, 'learning_rate': 0.09939694920319571, 'depth': 7, 'l2_leaf_reg': 9, 'bagging_temperature': 0.3514359315437826, 'random_strength': 12, 'border_count': 236, 'leaf_estimation_iterations': 8, 'subsample': 0.9953431034230662}. Best is trial 30 with value: 0.7551531817482534.\n",
      "[I 2024-08-23 11:18:39,707] Trial 37 finished with value: 0.7483787449905785 and parameters: {'iterations': 970, 'learning_rate': 0.09475777724298833, 'depth': 5, 'l2_leaf_reg': 9, 'bagging_temperature': 0.3641236985284996, 'random_strength': 12, 'border_count': 112, 'leaf_estimation_iterations': 8, 'subsample': 0.9939291896271679}. Best is trial 30 with value: 0.7551531817482534.\n",
      "[I 2024-08-23 11:18:45,799] Trial 38 finished with value: 0.747334945667084 and parameters: {'iterations': 961, 'learning_rate': 0.0964340474368521, 'depth': 5, 'l2_leaf_reg': 9, 'bagging_temperature': 0.4725889342300955, 'random_strength': 12, 'border_count': 40, 'leaf_estimation_iterations': 8, 'subsample': 0.9986695546841795}. Best is trial 30 with value: 0.7551531817482534.\n",
      "[I 2024-08-23 11:18:59,202] Trial 41 finished with value: 0.7452737934710525 and parameters: {'iterations': 744, 'learning_rate': 0.0761583491373884, 'depth': 6, 'l2_leaf_reg': 9, 'bagging_temperature': 0.2318585805563651, 'random_strength': 12, 'border_count': 35, 'leaf_estimation_iterations': 4, 'subsample': 0.8368469296923704}. Best is trial 30 with value: 0.7551531817482534.\n",
      "[I 2024-08-23 11:19:02,405] Trial 40 finished with value: 0.7504761767043882 and parameters: {'iterations': 743, 'learning_rate': 0.09660724689780799, 'depth': 6, 'l2_leaf_reg': 9, 'bagging_temperature': 0.23373851454717165, 'random_strength': 12, 'border_count': 239, 'leaf_estimation_iterations': 8, 'subsample': 0.9647616174663778}. Best is trial 30 with value: 0.7551531817482534.\n",
      "[I 2024-08-23 11:19:05,716] Trial 42 finished with value: 0.7496552441617169 and parameters: {'iterations': 740, 'learning_rate': 0.09908299405311334, 'depth': 6, 'l2_leaf_reg': 9, 'bagging_temperature': 0.21634478384396377, 'random_strength': 11, 'border_count': 244, 'leaf_estimation_iterations': 4, 'subsample': 0.8445473331184857}. Best is trial 30 with value: 0.7551531817482534.\n",
      "[I 2024-08-23 11:19:06,248] Trial 39 finished with value: 0.7521129967194994 and parameters: {'iterations': 976, 'learning_rate': 0.09642693300019207, 'depth': 6, 'l2_leaf_reg': 9, 'bagging_temperature': 0.47032441045144946, 'random_strength': 12, 'border_count': 67, 'leaf_estimation_iterations': 8, 'subsample': 0.9789578828133936}. Best is trial 30 with value: 0.7551531817482534.\n",
      "[I 2024-08-23 11:19:15,558] Trial 43 finished with value: 0.7493751142270579 and parameters: {'iterations': 492, 'learning_rate': 0.09977168127326046, 'depth': 6, 'l2_leaf_reg': 8, 'bagging_temperature': 0.5575621252885594, 'random_strength': 7, 'border_count': 240, 'leaf_estimation_iterations': 9, 'subsample': 0.813436450157064}. Best is trial 30 with value: 0.7551531817482534.\n"
     ]
    },
    {
     "name": "stdout",
     "output_type": "stream",
     "text": [
      "[I 2024-08-23 11:19:34,725] Trial 44 finished with value: 0.7539544955552369 and parameters: {'iterations': 929, 'learning_rate': 0.08722083600714606, 'depth': 7, 'l2_leaf_reg': 8, 'bagging_temperature': 0.5589802437494426, 'random_strength': 7, 'border_count': 82, 'leaf_estimation_iterations': 7, 'subsample': 0.8205942402961813}. Best is trial 30 with value: 0.7551531817482534.\n",
      "[I 2024-08-23 11:19:38,006] Trial 45 finished with value: 0.7518266166819103 and parameters: {'iterations': 929, 'learning_rate': 0.08572237555226257, 'depth': 7, 'l2_leaf_reg': 8, 'bagging_temperature': 0.5384899011123903, 'random_strength': 7, 'border_count': 80, 'leaf_estimation_iterations': 7, 'subsample': 0.7975169867124758}. Best is trial 30 with value: 0.7551531817482534.\n",
      "[I 2024-08-23 11:19:48,535] Trial 46 finished with value: 0.7501468332343199 and parameters: {'iterations': 444, 'learning_rate': 0.08642655832062612, 'depth': 10, 'l2_leaf_reg': 8, 'bagging_temperature': 0.5450717592073326, 'random_strength': 7, 'border_count': 224, 'leaf_estimation_iterations': 7, 'subsample': 0.8087669119764986}. Best is trial 30 with value: 0.7551531817482534.\n",
      "[I 2024-08-23 11:19:49,222] Trial 47 finished with value: 0.7521169652938533 and parameters: {'iterations': 946, 'learning_rate': 0.08615506993550445, 'depth': 7, 'l2_leaf_reg': 8, 'bagging_temperature': 0.3289937472134625, 'random_strength': 10, 'border_count': 88, 'leaf_estimation_iterations': 7, 'subsample': 0.9345382542010303}. Best is trial 30 with value: 0.7551531817482534.\n",
      "[I 2024-08-23 11:20:00,657] Trial 51 finished with value: 0.7425982674039859 and parameters: {'iterations': 285, 'learning_rate': 0.09193575683673876, 'depth': 7, 'l2_leaf_reg': 6, 'bagging_temperature': 0.6486896902760557, 'random_strength': 8, 'border_count': 256, 'leaf_estimation_iterations': 9, 'subsample': 0.7359399295975273}. Best is trial 30 with value: 0.7551531817482534.\n",
      "[I 2024-08-23 11:20:05,827] Trial 49 finished with value: 0.7505421482278589 and parameters: {'iterations': 832, 'learning_rate': 0.09092830913518878, 'depth': 7, 'l2_leaf_reg': 6, 'bagging_temperature': 0.3303810720943763, 'random_strength': 10, 'border_count': 59, 'leaf_estimation_iterations': 7, 'subsample': 0.718255371873805}. Best is trial 30 with value: 0.7551531817482534.\n",
      "[I 2024-08-23 11:20:07,577] Trial 48 finished with value: 0.7532178510330545 and parameters: {'iterations': 931, 'learning_rate': 0.08795186501467119, 'depth': 7, 'l2_leaf_reg': 7, 'bagging_temperature': 0.5624309715274276, 'random_strength': 7, 'border_count': 85, 'leaf_estimation_iterations': 7, 'subsample': 0.9402811062415706}. Best is trial 30 with value: 0.7551531817482534.\n",
      "[I 2024-08-23 11:20:13,638] Trial 50 finished with value: 0.7494478821349483 and parameters: {'iterations': 674, 'learning_rate': 0.0920908067902038, 'depth': 7, 'l2_leaf_reg': 7, 'bagging_temperature': 0.31620646873810465, 'random_strength': 8, 'border_count': 52, 'leaf_estimation_iterations': 9, 'subsample': 0.9474601884988428}. Best is trial 30 with value: 0.7551531817482534.\n",
      "[I 2024-08-23 11:20:25,698] Trial 52 finished with value: 0.7488907553506464 and parameters: {'iterations': 677, 'learning_rate': 0.07922819335060838, 'depth': 7, 'l2_leaf_reg': 7, 'bagging_temperature': 0.2714606819551415, 'random_strength': 15, 'border_count': 73, 'leaf_estimation_iterations': 8, 'subsample': 0.9452250774167111}. Best is trial 30 with value: 0.7551531817482534.\n",
      "[I 2024-08-23 11:20:31,212] Trial 53 finished with value: 0.7499058266946075 and parameters: {'iterations': 679, 'learning_rate': 0.07958962504829191, 'depth': 7, 'l2_leaf_reg': 7, 'bagging_temperature': 0.38521583384963376, 'random_strength': 16, 'border_count': 93, 'leaf_estimation_iterations': 8, 'subsample': 0.9397614811756831}. Best is trial 30 with value: 0.7551531817482534.\n",
      "[I 2024-08-23 11:20:58,299] Trial 54 finished with value: 0.749092558159899 and parameters: {'iterations': 998, 'learning_rate': 0.0813603158225496, 'depth': 9, 'l2_leaf_reg': 7, 'bagging_temperature': 0.27757048854915967, 'random_strength': 8, 'border_count': 71, 'leaf_estimation_iterations': 8, 'subsample': 0.43781872099114083}. Best is trial 30 with value: 0.7551531817482534.\n",
      "[I 2024-08-23 11:21:09,031] Trial 55 finished with value: 0.7526235449732263 and parameters: {'iterations': 999, 'learning_rate': 0.08025195919677573, 'depth': 9, 'l2_leaf_reg': 8, 'bagging_temperature': 0.3872138493877907, 'random_strength': 14, 'border_count': 144, 'leaf_estimation_iterations': 8, 'subsample': 0.6896943786282826}. Best is trial 30 with value: 0.7551531817482534.\n",
      "[I 2024-08-23 11:21:15,155] Trial 56 finished with value: 0.7531838530438524 and parameters: {'iterations': 981, 'learning_rate': 0.08113854915490526, 'depth': 9, 'l2_leaf_reg': 8, 'bagging_temperature': 0.43520615332846946, 'random_strength': 11, 'border_count': 146, 'leaf_estimation_iterations': 5, 'subsample': 0.682159458348853}. Best is trial 30 with value: 0.7551531817482534.\n",
      "[I 2024-08-23 11:21:16,358] Trial 57 finished with value: 0.7498467800923778 and parameters: {'iterations': 915, 'learning_rate': 0.07169409008582658, 'depth': 9, 'l2_leaf_reg': 8, 'bagging_temperature': 0.508222435393656, 'random_strength': 11, 'border_count': 217, 'leaf_estimation_iterations': 5, 'subsample': 0.36244906440641556}. Best is trial 30 with value: 0.7551531817482534.\n",
      "[I 2024-08-23 11:21:34,822] Trial 58 finished with value: 0.7540447284037052 and parameters: {'iterations': 916, 'learning_rate': 0.08389885781590865, 'depth': 8, 'l2_leaf_reg': 8, 'bagging_temperature': 0.5038847023438137, 'random_strength': 13, 'border_count': 214, 'leaf_estimation_iterations': 6, 'subsample': 0.6908227536705921}. Best is trial 30 with value: 0.7551531817482534.\n",
      "[I 2024-08-23 11:21:44,382] Trial 61 finished with value: 0.7484492313698933 and parameters: {'iterations': 848, 'learning_rate': 0.0941329165002036, 'depth': 8, 'l2_leaf_reg': 9, 'bagging_temperature': 0.5054659968364802, 'random_strength': 6, 'border_count': 193, 'leaf_estimation_iterations': 1, 'subsample': 0.8723427805510664}. Best is trial 30 with value: 0.7551531817482534.\n",
      "[I 2024-08-23 11:21:45,663] Trial 60 finished with value: 0.7477387280237182 and parameters: {'iterations': 921, 'learning_rate': 0.0723939553041984, 'depth': 8, 'l2_leaf_reg': 10, 'bagging_temperature': 0.49870451225814033, 'random_strength': 6, 'border_count': 212, 'leaf_estimation_iterations': 1, 'subsample': 0.8736666704250856}. Best is trial 30 with value: 0.7551531817482534.\n",
      "[I 2024-08-23 11:21:47,335] Trial 59 finished with value: 0.7531748072650618 and parameters: {'iterations': 913, 'learning_rate': 0.07006679150158626, 'depth': 8, 'l2_leaf_reg': 8, 'bagging_temperature': 0.43283146770354725, 'random_strength': 11, 'border_count': 194, 'leaf_estimation_iterations': 7, 'subsample': 0.8657916630199566}. Best is trial 30 with value: 0.7551531817482534.\n",
      "[I 2024-08-23 11:22:03,550] Trial 62 finished with value: 0.7397648017178946 and parameters: {'iterations': 777, 'learning_rate': 0.030517950733247794, 'depth': 8, 'l2_leaf_reg': 10, 'bagging_temperature': 0.49568864314533695, 'random_strength': 13, 'border_count': 116, 'leaf_estimation_iterations': 3, 'subsample': 0.7592736858406054}. Best is trial 30 with value: 0.7551531817482534.\n",
      "[I 2024-08-23 11:22:27,544] Trial 63 finished with value: 0.7468747035117465 and parameters: {'iterations': 909, 'learning_rate': 0.03292397692237574, 'depth': 8, 'l2_leaf_reg': 10, 'bagging_temperature': 0.7412440875716249, 'random_strength': 13, 'border_count': 231, 'leaf_estimation_iterations': 10, 'subsample': 0.758532582226044}. Best is trial 30 with value: 0.7551531817482534.\n",
      "[I 2024-08-23 11:22:28,606] Trial 65 finished with value: 0.7549880280001398 and parameters: {'iterations': 972, 'learning_rate': 0.08394523962936958, 'depth': 8, 'l2_leaf_reg': 8, 'bagging_temperature': 0.45646221214524096, 'random_strength': 13, 'border_count': 231, 'leaf_estimation_iterations': 6, 'subsample': 0.771972362091809}. Best is trial 30 with value: 0.7551531817482534.\n",
      "[I 2024-08-23 11:22:57,678] Trial 66 finished with value: 0.75327074393497 and parameters: {'iterations': 955, 'learning_rate': 0.08548439221111244, 'depth': 9, 'l2_leaf_reg': 8, 'bagging_temperature': 0.5796735882278711, 'random_strength': 13, 'border_count': 233, 'leaf_estimation_iterations': 6, 'subsample': 0.6818624732799488}. Best is trial 30 with value: 0.7551531817482534.\n"
     ]
    },
    {
     "name": "stdout",
     "output_type": "stream",
     "text": [
      "[I 2024-08-23 11:23:05,926] Trial 68 finished with value: 0.7527951737637066 and parameters: {'iterations': 849, 'learning_rate': 0.08413946075700691, 'depth': 8, 'l2_leaf_reg': 8, 'bagging_temperature': 0.5765670853699674, 'random_strength': 13, 'border_count': 247, 'leaf_estimation_iterations': 6, 'subsample': 0.5876033177924717}. Best is trial 30 with value: 0.7551531817482534.\n",
      "[I 2024-08-23 11:23:17,017] Trial 64 finished with value: 0.754893665906291 and parameters: {'iterations': 954, 'learning_rate': 0.08399846747415798, 'depth': 10, 'l2_leaf_reg': 8, 'bagging_temperature': 0.4221135190033769, 'random_strength': 10, 'border_count': 230, 'leaf_estimation_iterations': 7, 'subsample': 0.757427490145742}. Best is trial 30 with value: 0.7551531817482534.\n",
      "[I 2024-08-23 11:23:24,812] Trial 69 finished with value: 0.7491599275212999 and parameters: {'iterations': 572, 'learning_rate': 0.07686030415472059, 'depth': 8, 'l2_leaf_reg': 9, 'bagging_temperature': 0.4069186817428101, 'random_strength': 14, 'border_count': 246, 'leaf_estimation_iterations': 6, 'subsample': 0.8243170328825897}. Best is trial 30 with value: 0.7551531817482534.\n",
      "[I 2024-08-23 11:23:38,762] Trial 67 finished with value: 0.7533947337661007 and parameters: {'iterations': 839, 'learning_rate': 0.08338086348584217, 'depth': 10, 'l2_leaf_reg': 8, 'bagging_temperature': 0.4569799437083065, 'random_strength': 16, 'border_count': 121, 'leaf_estimation_iterations': 6, 'subsample': 0.5887131098732048}. Best is trial 30 with value: 0.7551531817482534.\n",
      "[I 2024-08-23 11:23:40,355] Trial 70 finished with value: 0.7536702363751974 and parameters: {'iterations': 948, 'learning_rate': 0.08989785862801604, 'depth': 7, 'l2_leaf_reg': 9, 'bagging_temperature': 0.6478741065112636, 'random_strength': 14, 'border_count': 217, 'leaf_estimation_iterations': 6, 'subsample': 0.8298917094098173}. Best is trial 30 with value: 0.7551531817482534.\n",
      "[I 2024-08-23 11:24:13,160] Trial 71 finished with value: 0.7506252954840598 and parameters: {'iterations': 575, 'learning_rate': 0.07552797400025532, 'depth': 10, 'l2_leaf_reg': 7, 'bagging_temperature': 0.6498111342259436, 'random_strength': 10, 'border_count': 200, 'leaf_estimation_iterations': 6, 'subsample': 0.8242145352288595}. Best is trial 30 with value: 0.7551531817482534.\n",
      "[I 2024-08-23 11:24:56,431] Trial 72 finished with value: 0.7542716440943958 and parameters: {'iterations': 944, 'learning_rate': 0.07426188022067898, 'depth': 10, 'l2_leaf_reg': 7, 'bagging_temperature': 0.530344389710427, 'random_strength': 10, 'border_count': 222, 'leaf_estimation_iterations': 5, 'subsample': 0.7671602271421498}. Best is trial 30 with value: 0.7551531817482534.\n",
      "[I 2024-08-23 11:25:09,850] Trial 73 finished with value: 0.7532707278678673 and parameters: {'iterations': 943, 'learning_rate': 0.07602424330670139, 'depth': 10, 'l2_leaf_reg': 7, 'bagging_temperature': 0.6322092795798073, 'random_strength': 10, 'border_count': 221, 'leaf_estimation_iterations': 5, 'subsample': 0.7850150068615502}. Best is trial 30 with value: 0.7551531817482534.\n",
      "[I 2024-08-23 11:25:16,098] Trial 74 finished with value: 0.7546309527109019 and parameters: {'iterations': 952, 'learning_rate': 0.08980822244012189, 'depth': 10, 'l2_leaf_reg': 7, 'bagging_temperature': 0.6458685361504325, 'random_strength': 16, 'border_count': 225, 'leaf_estimation_iterations': 5, 'subsample': 0.7736491203937871}. Best is trial 30 with value: 0.7551531817482534.\n",
      "[I 2024-08-23 11:25:48,700] Trial 75 finished with value: 0.7529835284080434 and parameters: {'iterations': 940, 'learning_rate': 0.06611518956217485, 'depth': 10, 'l2_leaf_reg': 8, 'bagging_temperature': 0.5296540844233762, 'random_strength': 14, 'border_count': 221, 'leaf_estimation_iterations': 5, 'subsample': 0.783526163336813}. Best is trial 30 with value: 0.7551531817482534.\n",
      "[I 2024-08-23 11:26:26,191] Trial 76 finished with value: 0.7526641786758217 and parameters: {'iterations': 942, 'learning_rate': 0.0898663348512532, 'depth': 10, 'l2_leaf_reg': 7, 'bagging_temperature': 0.640930064317082, 'random_strength': 15, 'border_count': 224, 'leaf_estimation_iterations': 5, 'subsample': 0.6566463389297306}. Best is trial 30 with value: 0.7551531817482534.\n",
      "[I 2024-08-23 11:26:43,232] Trial 77 finished with value: 0.7529071614691598 and parameters: {'iterations': 965, 'learning_rate': 0.09030387734999887, 'depth': 10, 'l2_leaf_reg': 6, 'bagging_temperature': 0.5234442475826535, 'random_strength': 15, 'border_count': 217, 'leaf_estimation_iterations': 5, 'subsample': 0.7795351933355538}. Best is trial 30 with value: 0.7551531817482534.\n",
      "[I 2024-08-23 11:26:43,951] Trial 78 finished with value: 0.7536114629137127 and parameters: {'iterations': 880, 'learning_rate': 0.0665518753974762, 'depth': 10, 'l2_leaf_reg': 6, 'bagging_temperature': 0.7136544295023199, 'random_strength': 17, 'border_count': 208, 'leaf_estimation_iterations': 5, 'subsample': 0.7889045522403119}. Best is trial 30 with value: 0.7551531817482534.\n",
      "[I 2024-08-23 11:27:14,834] Trial 79 finished with value: 0.7510323715967366 and parameters: {'iterations': 894, 'learning_rate': 0.05783928586094533, 'depth': 10, 'l2_leaf_reg': 6, 'bagging_temperature': 0.5247239249354152, 'random_strength': 18, 'border_count': 204, 'leaf_estimation_iterations': 4, 'subsample': 0.7151649602645981}. Best is trial 30 with value: 0.7551531817482534.\n",
      "[I 2024-08-23 11:27:48,638] Trial 80 finished with value: 0.752618130359634 and parameters: {'iterations': 876, 'learning_rate': 0.09401348528730241, 'depth': 10, 'l2_leaf_reg': 6, 'bagging_temperature': 0.72041195051358, 'random_strength': 18, 'border_count': 209, 'leaf_estimation_iterations': 4, 'subsample': 0.7074711346940843}. Best is trial 30 with value: 0.7551531817482534.\n",
      "[I 2024-08-23 11:28:03,557] Trial 81 finished with value: 0.7530703550307505 and parameters: {'iterations': 886, 'learning_rate': 0.05615874733359468, 'depth': 10, 'l2_leaf_reg': 6, 'bagging_temperature': 0.46735904369328096, 'random_strength': 17, 'border_count': 205, 'leaf_estimation_iterations': 4, 'subsample': 0.7039837595537887}. Best is trial 30 with value: 0.7551531817482534.\n",
      "[I 2024-08-23 11:28:09,946] Trial 82 finished with value: 0.7553686415947563 and parameters: {'iterations': 903, 'learning_rate': 0.09476729359167868, 'depth': 10, 'l2_leaf_reg': 7, 'bagging_temperature': 0.47453822595230266, 'random_strength': 8, 'border_count': 200, 'leaf_estimation_iterations': 4, 'subsample': 0.7050675926573379}. Best is trial 82 with value: 0.7553686415947563.\n",
      "[I 2024-08-23 11:28:13,148] Trial 83 finished with value: 0.7565013080629943 and parameters: {'iterations': 968, 'learning_rate': 0.09466584253180273, 'depth': 9, 'l2_leaf_reg': 7, 'bagging_temperature': 0.4717453335042938, 'random_strength': 8, 'border_count': 241, 'leaf_estimation_iterations': 4, 'subsample': 0.9140080368292932}. Best is trial 83 with value: 0.7565013080629943.\n",
      "[I 2024-08-23 11:28:24,677] Trial 84 finished with value: 0.7528976336772898 and parameters: {'iterations': 974, 'learning_rate': 0.08856090714950542, 'depth': 7, 'l2_leaf_reg': 7, 'bagging_temperature': 0.4694706292351453, 'random_strength': 13, 'border_count': 227, 'leaf_estimation_iterations': 6, 'subsample': 0.8485921416574964}. Best is trial 83 with value: 0.7565013080629943.\n",
      "[I 2024-08-23 11:28:27,286] Trial 85 finished with value: 0.7459203336815878 and parameters: {'iterations': 971, 'learning_rate': 0.08863352140928042, 'depth': 4, 'l2_leaf_reg': 7, 'bagging_temperature': 0.5905128055039661, 'random_strength': 13, 'border_count': 228, 'leaf_estimation_iterations': 6, 'subsample': 0.7525295583664877}. Best is trial 83 with value: 0.7565013080629943.\n",
      "[I 2024-08-23 11:29:06,042] Trial 87 finished with value: 0.7553711319956666 and parameters: {'iterations': 977, 'learning_rate': 0.09678510538156919, 'depth': 9, 'l2_leaf_reg': 7, 'bagging_temperature': 0.41589169587093, 'random_strength': 8, 'border_count': 228, 'leaf_estimation_iterations': 4, 'subsample': 0.9136519733914908}. Best is trial 83 with value: 0.7565013080629943.\n",
      "[I 2024-08-23 11:29:10,416] Trial 88 finished with value: 0.7529883164046323 and parameters: {'iterations': 905, 'learning_rate': 0.09726829041749596, 'depth': 9, 'l2_leaf_reg': 7, 'bagging_temperature': 0.586450006684687, 'random_strength': 8, 'border_count': 176, 'leaf_estimation_iterations': 4, 'subsample': 0.6582253034271569}. Best is trial 83 with value: 0.7565013080629943.\n"
     ]
    },
    {
     "name": "stdout",
     "output_type": "stream",
     "text": [
      "[I 2024-08-23 11:29:24,725] Trial 89 finished with value: 0.7560114542374775 and parameters: {'iterations': 984, 'learning_rate': 0.09701942588399011, 'depth': 9, 'l2_leaf_reg': 7, 'bagging_temperature': 0.41001545656771227, 'random_strength': 8, 'border_count': 250, 'leaf_estimation_iterations': 4, 'subsample': 0.9138763253677142}. Best is trial 83 with value: 0.7565013080629943.\n",
      "[I 2024-08-23 11:29:34,379] Trial 86 finished with value: 0.7545770957828274 and parameters: {'iterations': 975, 'learning_rate': 0.09659162972414087, 'depth': 10, 'l2_leaf_reg': 7, 'bagging_temperature': 0.5883906352102919, 'random_strength': 8, 'border_count': 252, 'leaf_estimation_iterations': 3, 'subsample': 0.6473405800913988}. Best is trial 83 with value: 0.7565013080629943.\n",
      "[I 2024-08-23 11:29:56,390] Trial 91 finished with value: 0.7529976995925786 and parameters: {'iterations': 815, 'learning_rate': 0.09369459444792978, 'depth': 9, 'l2_leaf_reg': 7, 'bagging_temperature': 0.41157457798641583, 'random_strength': 6, 'border_count': 252, 'leaf_estimation_iterations': 3, 'subsample': 0.9049658280183919}. Best is trial 83 with value: 0.7565013080629943.\n",
      "[I 2024-08-23 11:29:56,655] Trial 90 finished with value: 0.7542558983338012 and parameters: {'iterations': 899, 'learning_rate': 0.09571432591056299, 'depth': 9, 'l2_leaf_reg': 7, 'bagging_temperature': 0.4112076847396538, 'random_strength': 8, 'border_count': 251, 'leaf_estimation_iterations': 3, 'subsample': 0.9064678761492042}. Best is trial 83 with value: 0.7565013080629943.\n",
      "[I 2024-08-23 11:30:19,088] Trial 92 finished with value: 0.7546758120614936 and parameters: {'iterations': 979, 'learning_rate': 0.0945493534323525, 'depth': 9, 'l2_leaf_reg': 7, 'bagging_temperature': 0.4086373123043664, 'random_strength': 8, 'border_count': 251, 'leaf_estimation_iterations': 3, 'subsample': 0.8967952554568199}. Best is trial 83 with value: 0.7565013080629943.\n",
      "[I 2024-08-23 11:30:26,883] Trial 93 finished with value: 0.7553205848907376 and parameters: {'iterations': 984, 'learning_rate': 0.09547039363218121, 'depth': 9, 'l2_leaf_reg': 7, 'bagging_temperature': 0.4115696591097666, 'random_strength': 6, 'border_count': 244, 'leaf_estimation_iterations': 3, 'subsample': 0.9011943357367682}. Best is trial 83 with value: 0.7565013080629943.\n",
      "[I 2024-08-23 11:30:47,315] Trial 94 finished with value: 0.7547073035826827 and parameters: {'iterations': 983, 'learning_rate': 0.09438928677391953, 'depth': 9, 'l2_leaf_reg': 7, 'bagging_temperature': 0.3744759836897148, 'random_strength': 8, 'border_count': 243, 'leaf_estimation_iterations': 3, 'subsample': 0.7356302684664239}. Best is trial 83 with value: 0.7565013080629943.\n",
      "[I 2024-08-23 11:31:12,200] Trial 96 finished with value: 0.7556451724984224 and parameters: {'iterations': 981, 'learning_rate': 0.09294141587483964, 'depth': 9, 'l2_leaf_reg': 7, 'bagging_temperature': 0.36248215182233495, 'random_strength': 8, 'border_count': 242, 'leaf_estimation_iterations': 3, 'subsample': 0.9647857182008254}. Best is trial 83 with value: 0.7565013080629943.\n",
      "[I 2024-08-23 11:31:18,995] Trial 97 finished with value: 0.7541361341506668 and parameters: {'iterations': 984, 'learning_rate': 0.0932865211594859, 'depth': 9, 'l2_leaf_reg': 7, 'bagging_temperature': 0.358391159780446, 'random_strength': 9, 'border_count': 241, 'leaf_estimation_iterations': 2, 'subsample': 0.9143536414955623}. Best is trial 83 with value: 0.7565013080629943.\n",
      "[I 2024-08-23 11:31:28,181] Trial 95 finished with value: 0.7539008153652916 and parameters: {'iterations': 957, 'learning_rate': 0.09249149999272839, 'depth': 10, 'l2_leaf_reg': 7, 'bagging_temperature': 0.44945548992368217, 'random_strength': 9, 'border_count': 244, 'leaf_estimation_iterations': 3, 'subsample': 0.9725289240034481}. Best is trial 83 with value: 0.7565013080629943.\n",
      "[I 2024-08-23 11:31:38,631] Trial 98 finished with value: 0.7525779786701179 and parameters: {'iterations': 986, 'learning_rate': 0.09252260359322614, 'depth': 9, 'l2_leaf_reg': 7, 'bagging_temperature': 0.36587558039526125, 'random_strength': 5, 'border_count': 243, 'leaf_estimation_iterations': 2, 'subsample': 0.8841426248727354}. Best is trial 83 with value: 0.7565013080629943.\n",
      "[I 2024-08-23 11:32:04,125] Trial 99 finished with value: 0.7554020772353658 and parameters: {'iterations': 996, 'learning_rate': 0.09276470118528714, 'depth': 9, 'l2_leaf_reg': 7, 'bagging_temperature': 0.34674516123776966, 'random_strength': 5, 'border_count': 242, 'leaf_estimation_iterations': 3, 'subsample': 0.9173369791006297}. Best is trial 83 with value: 0.7565013080629943.\n",
      "[I 2024-08-23 11:32:07,406] Trial 100 finished with value: 0.7545048259551189 and parameters: {'iterations': 960, 'learning_rate': 0.09764230213698105, 'depth': 9, 'l2_leaf_reg': 7, 'bagging_temperature': 0.3702967356139347, 'random_strength': 7, 'border_count': 243, 'leaf_estimation_iterations': 2, 'subsample': 0.9728015767419628}. Best is trial 83 with value: 0.7565013080629943.\n",
      "[I 2024-08-23 11:32:18,294] Trial 101 finished with value: 0.7548023404948426 and parameters: {'iterations': 997, 'learning_rate': 0.09826468967156418, 'depth': 9, 'l2_leaf_reg': 7, 'bagging_temperature': 0.3881574403322554, 'random_strength': 5, 'border_count': 234, 'leaf_estimation_iterations': 2, 'subsample': 0.9586724326780891}. Best is trial 83 with value: 0.7565013080629943.\n",
      "[I 2024-08-23 11:32:25,886] Trial 102 finished with value: 0.7533506777706412 and parameters: {'iterations': 926, 'learning_rate': 0.09781184281911368, 'depth': 9, 'l2_leaf_reg': 4, 'bagging_temperature': 0.3848339723337668, 'random_strength': 7, 'border_count': 235, 'leaf_estimation_iterations': 2, 'subsample': 0.9565043558277448}. Best is trial 83 with value: 0.7565013080629943.\n",
      "[I 2024-08-23 11:32:54,285] Trial 103 finished with value: 0.7547816460666327 and parameters: {'iterations': 930, 'learning_rate': 0.0979539750277525, 'depth': 9, 'l2_leaf_reg': 6, 'bagging_temperature': 0.33247516260786436, 'random_strength': 4, 'border_count': 232, 'leaf_estimation_iterations': 4, 'subsample': 0.959629597995902}. Best is trial 83 with value: 0.7565013080629943.\n",
      "[I 2024-08-23 11:32:59,159] Trial 104 finished with value: 0.7539916748307631 and parameters: {'iterations': 986, 'learning_rate': 0.09978897573863357, 'depth': 9, 'l2_leaf_reg': 7, 'bagging_temperature': 0.3359985124966083, 'random_strength': 4, 'border_count': 234, 'leaf_estimation_iterations': 3, 'subsample': 0.9220074535622442}. Best is trial 83 with value: 0.7565013080629943.\n",
      "[I 2024-08-23 11:33:05,486] Trial 105 finished with value: 0.7537748653476378 and parameters: {'iterations': 926, 'learning_rate': 0.09881904260782183, 'depth': 9, 'l2_leaf_reg': 7, 'bagging_temperature': 0.30426826919683914, 'random_strength': 4, 'border_count': 233, 'leaf_estimation_iterations': 2, 'subsample': 0.9561609071529111}. Best is trial 83 with value: 0.7565013080629943.\n",
      "[I 2024-08-23 11:33:20,389] Trial 106 finished with value: 0.7558500923255885 and parameters: {'iterations': 996, 'learning_rate': 0.0990388845887535, 'depth': 9, 'l2_leaf_reg': 7, 'bagging_temperature': 0.3359021756782591, 'random_strength': 4, 'border_count': 239, 'leaf_estimation_iterations': 4, 'subsample': 0.9237637802599625}. Best is trial 83 with value: 0.7565013080629943.\n",
      "[I 2024-08-23 11:33:48,054] Trial 107 finished with value: 0.7553112177698943 and parameters: {'iterations': 1000, 'learning_rate': 0.09578414112942217, 'depth': 9, 'l2_leaf_reg': 7, 'bagging_temperature': 0.42975775029576146, 'random_strength': 3, 'border_count': 237, 'leaf_estimation_iterations': 4, 'subsample': 0.92200978562021}. Best is trial 83 with value: 0.7565013080629943.\n",
      "[I 2024-08-23 11:33:52,444] Trial 108 finished with value: 0.7564355454118581 and parameters: {'iterations': 998, 'learning_rate': 0.09564271267365204, 'depth': 9, 'l2_leaf_reg': 7, 'bagging_temperature': 0.4310044300662189, 'random_strength': 5, 'border_count': 238, 'leaf_estimation_iterations': 4, 'subsample': 0.854875553744502}. Best is trial 83 with value: 0.7565013080629943.\n",
      "[I 2024-08-23 11:33:58,083] Trial 109 finished with value: 0.7514488951657704 and parameters: {'iterations': 964, 'learning_rate': 0.04931215573778281, 'depth': 9, 'l2_leaf_reg': 7, 'bagging_temperature': 0.4403318814988537, 'random_strength': 3, 'border_count': 238, 'leaf_estimation_iterations': 4, 'subsample': 0.9291919278305217}. Best is trial 83 with value: 0.7565013080629943.\n"
     ]
    },
    {
     "name": "stdout",
     "output_type": "stream",
     "text": [
      "[I 2024-08-23 11:34:16,766] Trial 110 finished with value: 0.73971118579636 and parameters: {'iterations': 961, 'learning_rate': 0.016743454553951487, 'depth': 9, 'l2_leaf_reg': 8, 'bagging_temperature': 0.4377589068382346, 'random_strength': 3, 'border_count': 256, 'leaf_estimation_iterations': 4, 'subsample': 0.8638651799317284}. Best is trial 83 with value: 0.7565013080629943.\n",
      "[I 2024-08-23 11:34:44,588] Trial 111 finished with value: 0.7546990932932298 and parameters: {'iterations': 999, 'learning_rate': 0.09161765609664911, 'depth': 9, 'l2_leaf_reg': 7, 'bagging_temperature': 0.4453049907698184, 'random_strength': 6, 'border_count': 249, 'leaf_estimation_iterations': 4, 'subsample': 0.8599327820300755}. Best is trial 83 with value: 0.7565013080629943.\n",
      "[I 2024-08-23 11:34:47,868] Trial 112 finished with value: 0.7523680780411309 and parameters: {'iterations': 965, 'learning_rate': 0.0480324188107974, 'depth': 9, 'l2_leaf_reg': 7, 'bagging_temperature': 0.2671366183747989, 'random_strength': 2, 'border_count': 255, 'leaf_estimation_iterations': 4, 'subsample': 0.8536498171778154}. Best is trial 83 with value: 0.7565013080629943.\n",
      "[I 2024-08-23 11:34:55,023] Trial 113 finished with value: 0.7565499913840162 and parameters: {'iterations': 991, 'learning_rate': 0.09548315046426997, 'depth': 9, 'l2_leaf_reg': 7, 'bagging_temperature': 0.2521943702080947, 'random_strength': 3, 'border_count': 256, 'leaf_estimation_iterations': 4, 'subsample': 0.8565934460198428}. Best is trial 113 with value: 0.7565499913840162.\n",
      "[I 2024-08-23 11:35:14,284] Trial 114 finished with value: 0.7550485367087102 and parameters: {'iterations': 1000, 'learning_rate': 0.09513201317333553, 'depth': 9, 'l2_leaf_reg': 7, 'bagging_temperature': 0.261867817607865, 'random_strength': 2, 'border_count': 248, 'leaf_estimation_iterations': 4, 'subsample': 0.8853476082820667}. Best is trial 113 with value: 0.7565499913840162.\n",
      "[I 2024-08-23 11:35:37,810] Trial 115 finished with value: 0.7542168231401626 and parameters: {'iterations': 998, 'learning_rate': 0.09610977165085924, 'depth': 9, 'l2_leaf_reg': 7, 'bagging_temperature': 0.3455207876441429, 'random_strength': 2, 'border_count': 239, 'leaf_estimation_iterations': 4, 'subsample': 0.8835910453094734}. Best is trial 113 with value: 0.7565499913840162.\n",
      "[I 2024-08-23 11:35:41,090] Trial 116 finished with value: 0.7538690507033575 and parameters: {'iterations': 995, 'learning_rate': 0.09544766920942985, 'depth': 9, 'l2_leaf_reg': 7, 'bagging_temperature': 0.4846463953234713, 'random_strength': 5, 'border_count': 238, 'leaf_estimation_iterations': 4, 'subsample': 0.8869529875748399}. Best is trial 113 with value: 0.7565499913840162.\n",
      "[I 2024-08-23 11:35:51,650] Trial 117 finished with value: 0.7544255026693483 and parameters: {'iterations': 996, 'learning_rate': 0.09554678990676407, 'depth': 9, 'l2_leaf_reg': 7, 'bagging_temperature': 0.21409258663379022, 'random_strength': 2, 'border_count': 247, 'leaf_estimation_iterations': 4, 'subsample': 0.8859625888238333}. Best is trial 113 with value: 0.7565499913840162.\n",
      "[I 2024-08-23 11:36:06,553] Trial 118 finished with value: 0.7547131841422517 and parameters: {'iterations': 938, 'learning_rate': 0.09614342370267046, 'depth': 9, 'l2_leaf_reg': 7, 'bagging_temperature': 0.21543373314037673, 'random_strength': 3, 'border_count': 247, 'leaf_estimation_iterations': 3, 'subsample': 0.9253764691974401}. Best is trial 113 with value: 0.7565499913840162.\n",
      "[I 2024-08-23 11:36:16,941] Trial 120 finished with value: 0.751371467798112 and parameters: {'iterations': 634, 'learning_rate': 0.09104970189350063, 'depth': 9, 'l2_leaf_reg': 7, 'bagging_temperature': 0.18244881934012486, 'random_strength': 3, 'border_count': 247, 'leaf_estimation_iterations': 3, 'subsample': 0.9349470404095209}. Best is trial 113 with value: 0.7565499913840162.\n",
      "[I 2024-08-23 11:36:29,485] Trial 119 finished with value: 0.7539567128154022 and parameters: {'iterations': 938, 'learning_rate': 0.09628891575401449, 'depth': 9, 'l2_leaf_reg': 6, 'bagging_temperature': 0.30348302019825, 'random_strength': 3, 'border_count': 248, 'leaf_estimation_iterations': 3, 'subsample': 0.9257870774219118}. Best is trial 113 with value: 0.7565499913840162.\n",
      "[I 2024-08-23 11:36:37,014] Trial 121 finished with value: 0.7540293200522663 and parameters: {'iterations': 862, 'learning_rate': 0.09136176312866891, 'depth': 9, 'l2_leaf_reg': 6, 'bagging_temperature': 0.2922593339652723, 'random_strength': 3, 'border_count': 241, 'leaf_estimation_iterations': 3, 'subsample': 0.9100509147054343}. Best is trial 113 with value: 0.7565499913840162.\n",
      "[I 2024-08-23 11:36:52,482] Trial 122 finished with value: 0.7497474853980163 and parameters: {'iterations': 865, 'learning_rate': 0.04185125433778623, 'depth': 9, 'l2_leaf_reg': 6, 'bagging_temperature': 0.18433964792315377, 'random_strength': 4, 'border_count': 241, 'leaf_estimation_iterations': 3, 'subsample': 0.9366134524723277}. Best is trial 113 with value: 0.7565499913840162.\n",
      "[I 2024-08-23 11:37:08,401] Trial 123 finished with value: 0.7542301909695652 and parameters: {'iterations': 977, 'learning_rate': 0.09307925866976714, 'depth': 9, 'l2_leaf_reg': 6, 'bagging_temperature': 0.29775409197899394, 'random_strength': 4, 'border_count': 239, 'leaf_estimation_iterations': 3, 'subsample': 0.982596496936384}. Best is trial 113 with value: 0.7565499913840162.\n",
      "[I 2024-08-23 11:37:22,288] Trial 124 finished with value: 0.7552710018119675 and parameters: {'iterations': 977, 'learning_rate': 0.0935318914092838, 'depth': 9, 'l2_leaf_reg': 7, 'bagging_temperature': 0.26836351416174087, 'random_strength': 1, 'border_count': 240, 'leaf_estimation_iterations': 4, 'subsample': 0.9800784529320781}. Best is trial 113 with value: 0.7565499913840162.\n",
      "[I 2024-08-23 11:37:25,897] Trial 127 finished with value: 0.7485828132613044 and parameters: {'iterations': 315, 'learning_rate': 0.09977900996000258, 'depth': 9, 'l2_leaf_reg': 7, 'bagging_temperature': 0.2585435217527278, 'random_strength': 1, 'border_count': 228, 'leaf_estimation_iterations': 4, 'subsample': 0.8364501971110416}. Best is trial 113 with value: 0.7565499913840162.\n",
      "[I 2024-08-23 11:37:32,442] Trial 125 finished with value: 0.7549880280001398 and parameters: {'iterations': 976, 'learning_rate': 0.09968753371361239, 'depth': 9, 'l2_leaf_reg': 7, 'bagging_temperature': 0.11036088939088967, 'random_strength': 1, 'border_count': 255, 'leaf_estimation_iterations': 4, 'subsample': 0.8351529496626592}. Best is trial 113 with value: 0.7565499913840162.\n",
      "[I 2024-08-23 11:37:43,720] Trial 126 finished with value: 0.7542202615001291 and parameters: {'iterations': 969, 'learning_rate': 0.0994491506672042, 'depth': 9, 'l2_leaf_reg': 7, 'bagging_temperature': 0.31605333225790255, 'random_strength': 5, 'border_count': 227, 'leaf_estimation_iterations': 4, 'subsample': 0.8443727855589712}. Best is trial 113 with value: 0.7565499913840162.\n",
      "[I 2024-08-23 11:37:59,326] Trial 128 finished with value: 0.7526250552808751 and parameters: {'iterations': 952, 'learning_rate': 0.09951363223816236, 'depth': 8, 'l2_leaf_reg': 7, 'bagging_temperature': 0.24599725894270819, 'random_strength': 1, 'border_count': 228, 'leaf_estimation_iterations': 4, 'subsample': 0.8443447634866407}. Best is trial 113 with value: 0.7565499913840162.\n",
      "[I 2024-08-23 11:38:05,653] Trial 129 finished with value: 0.7544959890486628 and parameters: {'iterations': 953, 'learning_rate': 0.08698403579153813, 'depth': 8, 'l2_leaf_reg': 7, 'bagging_temperature': 0.42030633498570674, 'random_strength': 6, 'border_count': 255, 'leaf_estimation_iterations': 4, 'subsample': 0.9887704174970043}. Best is trial 113 with value: 0.7565499913840162.\n",
      "[I 2024-08-23 11:38:15,057] Trial 130 finished with value: 0.744452234311378 and parameters: {'iterations': 955, 'learning_rate': 0.09358887502749519, 'depth': 9, 'l2_leaf_reg': 7, 'bagging_temperature': 0.406470615105369, 'random_strength': 6, 'border_count': 227, 'leaf_estimation_iterations': 4, 'subsample': 0.1297950929775698}. Best is trial 113 with value: 0.7565499913840162.\n",
      "[I 2024-08-23 11:38:19,868] Trial 131 finished with value: 0.7543294856639268 and parameters: {'iterations': 909, 'learning_rate': 0.08771693073221616, 'depth': 8, 'l2_leaf_reg': 7, 'bagging_temperature': 0.39894518336337975, 'random_strength': 6, 'border_count': 236, 'leaf_estimation_iterations': 4, 'subsample': 0.9985889146871277}. Best is trial 113 with value: 0.7565499913840162.\n"
     ]
    },
    {
     "name": "stdout",
     "output_type": "stream",
     "text": [
      "[I 2024-08-23 11:38:35,521] Trial 132 finished with value: 0.7539737439442087 and parameters: {'iterations': 909, 'learning_rate': 0.08884232602097632, 'depth': 8, 'l2_leaf_reg': 7, 'bagging_temperature': 0.39777603209838663, 'random_strength': 6, 'border_count': 236, 'leaf_estimation_iterations': 4, 'subsample': 0.9886625457037549}. Best is trial 113 with value: 0.7565499913840162.\n",
      "[I 2024-08-23 11:38:53,938] Trial 133 finished with value: 0.7531576315323315 and parameters: {'iterations': 904, 'learning_rate': 0.08891769311030456, 'depth': 9, 'l2_leaf_reg': 7, 'bagging_temperature': 0.3951777410998337, 'random_strength': 6, 'border_count': 237, 'leaf_estimation_iterations': 4, 'subsample': 0.902626309929241}. Best is trial 113 with value: 0.7565499913840162.\n",
      "[I 2024-08-23 11:39:07,513] Trial 134 finished with value: 0.7556322063465859 and parameters: {'iterations': 985, 'learning_rate': 0.09470418735511556, 'depth': 9, 'l2_leaf_reg': 7, 'bagging_temperature': 0.34995178396573523, 'random_strength': 2, 'border_count': 236, 'leaf_estimation_iterations': 4, 'subsample': 0.8994702796987052}. Best is trial 113 with value: 0.7565499913840162.\n",
      "[I 2024-08-23 11:39:16,667] Trial 135 finished with value: 0.7541178819220592 and parameters: {'iterations': 1000, 'learning_rate': 0.09411885805062839, 'depth': 9, 'l2_leaf_reg': 7, 'bagging_temperature': 0.4290852696192717, 'random_strength': 2, 'border_count': 248, 'leaf_estimation_iterations': 4, 'subsample': 0.9015465830794707}. Best is trial 113 with value: 0.7565499913840162.\n",
      "[I 2024-08-23 11:39:33,288] Trial 136 finished with value: 0.7548845719261926 and parameters: {'iterations': 983, 'learning_rate': 0.09517470946672738, 'depth': 9, 'l2_leaf_reg': 7, 'bagging_temperature': 0.3550081650220885, 'random_strength': 2, 'border_count': 251, 'leaf_estimation_iterations': 5, 'subsample': 0.9035176329989061}. Best is trial 113 with value: 0.7565499913840162.\n",
      "[I 2024-08-23 11:39:51,066] Trial 137 finished with value: 0.7555814664364251 and parameters: {'iterations': 981, 'learning_rate': 0.09452699180950073, 'depth': 9, 'l2_leaf_reg': 7, 'bagging_temperature': 0.35190104001280575, 'random_strength': 2, 'border_count': 251, 'leaf_estimation_iterations': 5, 'subsample': 0.8744296636747193}. Best is trial 113 with value: 0.7565499913840162.\n",
      "[I 2024-08-23 11:40:01,032] Trial 138 finished with value: 0.754137676592521 and parameters: {'iterations': 981, 'learning_rate': 0.09278382526138133, 'depth': 9, 'l2_leaf_reg': 7, 'bagging_temperature': 0.34966061284208905, 'random_strength': 8, 'border_count': 216, 'leaf_estimation_iterations': 5, 'subsample': 0.9455974948099827}. Best is trial 113 with value: 0.7565499913840162.\n",
      "[I 2024-08-23 11:40:10,670] Trial 139 finished with value: 0.7561604284132251 and parameters: {'iterations': 982, 'learning_rate': 0.09135917088604463, 'depth': 9, 'l2_leaf_reg': 7, 'bagging_temperature': 0.3549486665986893, 'random_strength': 5, 'border_count': 220, 'leaf_estimation_iterations': 5, 'subsample': 0.9455599655770022}. Best is trial 113 with value: 0.7565499913840162.\n",
      "[I 2024-08-23 11:40:23,574] Trial 140 finished with value: 0.7550286938369407 and parameters: {'iterations': 971, 'learning_rate': 0.09100146504753043, 'depth': 9, 'l2_leaf_reg': 7, 'bagging_temperature': 0.46099828873739346, 'random_strength': 8, 'border_count': 214, 'leaf_estimation_iterations': 3, 'subsample': 0.946488118457892}. Best is trial 113 with value: 0.7565499913840162.\n",
      "[I 2024-08-23 11:40:45,568] Trial 141 finished with value: 0.7558548803221775 and parameters: {'iterations': 980, 'learning_rate': 0.0973434432113444, 'depth': 9, 'l2_leaf_reg': 7, 'bagging_temperature': 0.3167253913413246, 'random_strength': 1, 'border_count': 244, 'leaf_estimation_iterations': 5, 'subsample': 0.9499923826330389}. Best is trial 113 with value: 0.7565499913840162.\n",
      "[I 2024-08-23 11:40:51,661] Trial 142 finished with value: 0.7549892330328384 and parameters: {'iterations': 965, 'learning_rate': 0.09754602123597413, 'depth': 9, 'l2_leaf_reg': 7, 'bagging_temperature': 0.3182754444929801, 'random_strength': 1, 'border_count': 245, 'leaf_estimation_iterations': 3, 'subsample': 0.9199754699126532}. Best is trial 113 with value: 0.7565499913840162.\n",
      "[I 2024-08-23 11:41:02,018] Trial 143 finished with value: 0.7573456664413255 and parameters: {'iterations': 940, 'learning_rate': 0.09764445802219504, 'depth': 9, 'l2_leaf_reg': 7, 'bagging_temperature': 0.3710962581133112, 'random_strength': 4, 'border_count': 220, 'leaf_estimation_iterations': 5, 'subsample': 0.8095867206802477}. Best is trial 143 with value: 0.7573456664413255.\n",
      "[I 2024-08-23 11:41:16,327] Trial 144 finished with value: 0.7548943889259102 and parameters: {'iterations': 942, 'learning_rate': 0.09648862889822604, 'depth': 9, 'l2_leaf_reg': 7, 'bagging_temperature': 0.3769076370793, 'random_strength': 1, 'border_count': 242, 'leaf_estimation_iterations': 5, 'subsample': 0.9692124221650715}. Best is trial 143 with value: 0.7573456664413255.\n",
      "[I 2024-08-23 11:41:37,275] Trial 145 finished with value: 0.7554478524108085 and parameters: {'iterations': 940, 'learning_rate': 0.09730527177824395, 'depth': 9, 'l2_leaf_reg': 7, 'bagging_temperature': 0.3195948036271608, 'random_strength': 5, 'border_count': 245, 'leaf_estimation_iterations': 5, 'subsample': 0.8765134521705427}. Best is trial 143 with value: 0.7573456664413255.\n",
      "[I 2024-08-23 11:41:42,696] Trial 146 finished with value: 0.7561675140054925 and parameters: {'iterations': 936, 'learning_rate': 0.09727511842070624, 'depth': 9, 'l2_leaf_reg': 7, 'bagging_temperature': 0.3669629627746499, 'random_strength': 5, 'border_count': 221, 'leaf_estimation_iterations': 5, 'subsample': 0.8710334221074955}. Best is trial 143 with value: 0.7573456664413255.\n",
      "[I 2024-08-23 11:41:43,680] Trial 148 finished with value: 0.7519732289935689 and parameters: {'iterations': 499, 'learning_rate': 0.09736802059351791, 'depth': 9, 'l2_leaf_reg': 7, 'bagging_temperature': 0.33239053739226415, 'random_strength': 5, 'border_count': 188, 'leaf_estimation_iterations': 5, 'subsample': 0.804221399181912}. Best is trial 143 with value: 0.7573456664413255.\n",
      "[I 2024-08-23 11:41:53,240] Trial 147 finished with value: 0.754810711455322 and parameters: {'iterations': 937, 'learning_rate': 0.0974310684180653, 'depth': 9, 'l2_leaf_reg': 7, 'bagging_temperature': 0.37717583404234273, 'random_strength': 5, 'border_count': 224, 'leaf_estimation_iterations': 5, 'subsample': 0.8072582141153619}. Best is trial 143 with value: 0.7573456664413255.\n",
      "[I 2024-08-23 11:42:27,373] Trial 149 finished with value: 0.7549847181769944 and parameters: {'iterations': 923, 'learning_rate': 0.09741251550139783, 'depth': 9, 'l2_leaf_reg': 7, 'bagging_temperature': 0.33631009488543057, 'random_strength': 5, 'border_count': 221, 'leaf_estimation_iterations': 5, 'subsample': 0.8665054285680718}. Best is trial 143 with value: 0.7573456664413255.\n",
      "[I 2024-08-23 11:42:32,809] Trial 150 finished with value: 0.7555519029675537 and parameters: {'iterations': 929, 'learning_rate': 0.0980448230676956, 'depth': 9, 'l2_leaf_reg': 7, 'bagging_temperature': 0.3397146729673039, 'random_strength': 5, 'border_count': 223, 'leaf_estimation_iterations': 5, 'subsample': 0.8720248780191487}. Best is trial 143 with value: 0.7573456664413255.\n",
      "[I 2024-08-23 11:42:34,543] Trial 151 finished with value: 0.7560339321140813 and parameters: {'iterations': 939, 'learning_rate': 0.0978654557228442, 'depth': 9, 'l2_leaf_reg': 7, 'bagging_temperature': 0.3407841098142482, 'random_strength': 4, 'border_count': 220, 'leaf_estimation_iterations': 5, 'subsample': 0.8555481627164279}. Best is trial 143 with value: 0.7573456664413255.\n",
      "[I 2024-08-23 11:42:45,884] Trial 152 finished with value: 0.7550503040900016 and parameters: {'iterations': 952, 'learning_rate': 0.09812702391021529, 'depth': 9, 'l2_leaf_reg': 7, 'bagging_temperature': 0.3471241797823284, 'random_strength': 4, 'border_count': 221, 'leaf_estimation_iterations': 5, 'subsample': 0.8668001513433444}. Best is trial 143 with value: 0.7573456664413255.\n",
      "[I 2024-08-23 11:43:20,579] Trial 153 finished with value: 0.7556226464205105 and parameters: {'iterations': 951, 'learning_rate': 0.09209874505856502, 'depth': 9, 'l2_leaf_reg': 7, 'bagging_temperature': 0.31279544544924986, 'random_strength': 4, 'border_count': 232, 'leaf_estimation_iterations': 5, 'subsample': 0.8742100109946606}. Best is trial 143 with value: 0.7573456664413255.\n"
     ]
    },
    {
     "name": "stdout",
     "output_type": "stream",
     "text": [
      "[I 2024-08-23 11:43:25,515] Trial 154 finished with value: 0.7550691186672017 and parameters: {'iterations': 950, 'learning_rate': 0.09231676186574594, 'depth': 9, 'l2_leaf_reg': 7, 'bagging_temperature': 0.31491744299435126, 'random_strength': 4, 'border_count': 231, 'leaf_estimation_iterations': 5, 'subsample': 0.8685243331265612}. Best is trial 143 with value: 0.7573456664413255.\n",
      "[I 2024-08-23 11:43:27,468] Trial 155 finished with value: 0.7568463169581439 and parameters: {'iterations': 951, 'learning_rate': 0.09228367890594613, 'depth': 9, 'l2_leaf_reg': 7, 'bagging_temperature': 0.31492212520271184, 'random_strength': 4, 'border_count': 220, 'leaf_estimation_iterations': 5, 'subsample': 0.8715159654051357}. Best is trial 143 with value: 0.7573456664413255.\n",
      "[I 2024-08-23 11:43:37,528] Trial 156 finished with value: 0.7559814569568345 and parameters: {'iterations': 927, 'learning_rate': 0.09261649687074539, 'depth': 9, 'l2_leaf_reg': 7, 'bagging_temperature': 0.3111874866641802, 'random_strength': 4, 'border_count': 211, 'leaf_estimation_iterations': 5, 'subsample': 0.8775837311195008}. Best is trial 143 with value: 0.7573456664413255.\n",
      "[I 2024-08-23 11:44:06,349] Trial 157 finished with value: 0.7477232875380742 and parameters: {'iterations': 935, 'learning_rate': 0.09141779720911611, 'depth': 9, 'l2_leaf_reg': 7, 'bagging_temperature': 0.2848288961247344, 'random_strength': 4, 'border_count': 232, 'leaf_estimation_iterations': 5, 'subsample': 0.2816747572175849}. Best is trial 143 with value: 0.7573456664413255.\n",
      "[I 2024-08-23 11:44:15,769] Trial 158 finished with value: 0.7549214137925633 and parameters: {'iterations': 925, 'learning_rate': 0.09992617465275139, 'depth': 9, 'l2_leaf_reg': 7, 'bagging_temperature': 0.3676739534701603, 'random_strength': 4, 'border_count': 219, 'leaf_estimation_iterations': 5, 'subsample': 0.8179494800330134}. Best is trial 143 with value: 0.7573456664413255.\n",
      "[I 2024-08-23 11:44:17,831] Trial 159 finished with value: 0.7558127845132411 and parameters: {'iterations': 928, 'learning_rate': 0.0905770994130993, 'depth': 9, 'l2_leaf_reg': 7, 'bagging_temperature': 0.28699382709768284, 'random_strength': 4, 'border_count': 214, 'leaf_estimation_iterations': 5, 'subsample': 0.8520678983869145}. Best is trial 143 with value: 0.7573456664413255.\n",
      "[I 2024-08-23 11:44:28,454] Trial 160 finished with value: 0.7553432877067786 and parameters: {'iterations': 923, 'learning_rate': 0.09090564185919206, 'depth': 9, 'l2_leaf_reg': 7, 'bagging_temperature': 0.2874467750379125, 'random_strength': 4, 'border_count': 209, 'leaf_estimation_iterations': 5, 'subsample': 0.8286870135245953}. Best is trial 143 with value: 0.7573456664413255.\n",
      "[I 2024-08-23 11:44:58,618] Trial 161 finished with value: 0.7552917123072801 and parameters: {'iterations': 965, 'learning_rate': 0.09054588826763442, 'depth': 9, 'l2_leaf_reg': 7, 'bagging_temperature': 0.36506994375108565, 'random_strength': 4, 'border_count': 217, 'leaf_estimation_iterations': 5, 'subsample': 0.8190949225098524}. Best is trial 143 with value: 0.7573456664413255.\n",
      "[I 2024-08-23 11:45:07,538] Trial 162 finished with value: 0.7551252571238521 and parameters: {'iterations': 963, 'learning_rate': 0.09017143084828574, 'depth': 9, 'l2_leaf_reg': 7, 'bagging_temperature': 0.28809993619578245, 'random_strength': 3, 'border_count': 211, 'leaf_estimation_iterations': 5, 'subsample': 0.8906499316658671}. Best is trial 143 with value: 0.7573456664413255.\n",
      "[I 2024-08-23 11:45:09,756] Trial 163 finished with value: 0.7551918231301207 and parameters: {'iterations': 963, 'learning_rate': 0.09073971075239312, 'depth': 9, 'l2_leaf_reg': 7, 'bagging_temperature': 0.2850539120931045, 'random_strength': 3, 'border_count': 211, 'leaf_estimation_iterations': 5, 'subsample': 0.8531971485378483}. Best is trial 143 with value: 0.7573456664413255.\n",
      "[I 2024-08-23 11:45:20,613] Trial 164 finished with value: 0.7539867904315584 and parameters: {'iterations': 963, 'learning_rate': 0.09354191267696779, 'depth': 9, 'l2_leaf_reg': 7, 'bagging_temperature': 0.29651178651556015, 'random_strength': 3, 'border_count': 201, 'leaf_estimation_iterations': 5, 'subsample': 0.8532585303311152}. Best is trial 143 with value: 0.7573456664413255.\n",
      "[I 2024-08-23 11:45:50,794] Trial 165 finished with value: 0.7543067667807832 and parameters: {'iterations': 967, 'learning_rate': 0.09451025306075007, 'depth': 9, 'l2_leaf_reg': 7, 'bagging_temperature': 0.29465288050455785, 'random_strength': 3, 'border_count': 213, 'leaf_estimation_iterations': 5, 'subsample': 0.8470388074039825}. Best is trial 143 with value: 0.7573456664413255.\n",
      "[I 2024-08-23 11:45:58,745] Trial 166 finished with value: 0.7545657524083582 and parameters: {'iterations': 951, 'learning_rate': 0.08580167061649101, 'depth': 9, 'l2_leaf_reg': 7, 'bagging_temperature': 0.3161562652112706, 'random_strength': 3, 'border_count': 213, 'leaf_estimation_iterations': 5, 'subsample': 0.8564411001562156}. Best is trial 143 with value: 0.7573456664413255.\n",
      "[I 2024-08-23 11:46:02,556] Trial 167 finished with value: 0.753800701248695 and parameters: {'iterations': 984, 'learning_rate': 0.09431203556886802, 'depth': 9, 'l2_leaf_reg': 7, 'bagging_temperature': 0.30937487346791254, 'random_strength': 2, 'border_count': 200, 'leaf_estimation_iterations': 5, 'subsample': 0.8504837649763071}. Best is trial 143 with value: 0.7573456664413255.\n",
      "[I 2024-08-23 11:46:14,241] Trial 168 finished with value: 0.7545799396599961 and parameters: {'iterations': 980, 'learning_rate': 0.09475641625659778, 'depth': 9, 'l2_leaf_reg': 7, 'bagging_temperature': 0.3135694561600001, 'random_strength': 2, 'border_count': 214, 'leaf_estimation_iterations': 5, 'subsample': 0.8871830373404099}. Best is trial 143 with value: 0.7573456664413255.\n",
      "[I 2024-08-23 11:46:27,004] Trial 171 finished with value: 0.7494273323106624 and parameters: {'iterations': 407, 'learning_rate': 0.09569924055876812, 'depth': 9, 'l2_leaf_reg': 7, 'bagging_temperature': 0.3562451259667678, 'random_strength': 4, 'border_count': 252, 'leaf_estimation_iterations': 5, 'subsample': 0.8825471887243935}. Best is trial 143 with value: 0.7573456664413255.\n",
      "[I 2024-08-23 11:46:40,360] Trial 169 finished with value: 0.7532496478291938 and parameters: {'iterations': 983, 'learning_rate': 0.09403126913534475, 'depth': 9, 'l2_leaf_reg': 7, 'bagging_temperature': 0.31372866379834186, 'random_strength': 2, 'border_count': 218, 'leaf_estimation_iterations': 5, 'subsample': 0.4701974062319969}. Best is trial 143 with value: 0.7573456664413255.\n",
      "[I 2024-08-23 11:46:47,733] Trial 170 finished with value: 0.753801890214291 and parameters: {'iterations': 980, 'learning_rate': 0.09491533754429507, 'depth': 9, 'l2_leaf_reg': 7, 'bagging_temperature': 0.356470755103259, 'random_strength': 2, 'border_count': 219, 'leaf_estimation_iterations': 5, 'subsample': 0.47847748943923685}. Best is trial 143 with value: 0.7573456664413255.\n",
      "[I 2024-08-23 11:47:07,635] Trial 172 finished with value: 0.7540751594961196 and parameters: {'iterations': 885, 'learning_rate': 0.09305077261381384, 'depth': 9, 'l2_leaf_reg': 7, 'bagging_temperature': 0.24616861817874058, 'random_strength': 4, 'border_count': 252, 'leaf_estimation_iterations': 6, 'subsample': 0.9403795358057958}. Best is trial 143 with value: 0.7573456664413255.\n",
      "[I 2024-08-23 11:47:19,070] Trial 173 finished with value: 0.7558662076295439 and parameters: {'iterations': 916, 'learning_rate': 0.09242096139723346, 'depth': 9, 'l2_leaf_reg': 7, 'bagging_temperature': 0.33032070914653255, 'random_strength': 4, 'border_count': 224, 'leaf_estimation_iterations': 6, 'subsample': 0.9280620184352528}. Best is trial 143 with value: 0.7573456664413255.\n",
      "[I 2024-08-23 11:47:30,255] Trial 174 finished with value: 0.7554926314258871 and parameters: {'iterations': 914, 'learning_rate': 0.09860515788211391, 'depth': 9, 'l2_leaf_reg': 7, 'bagging_temperature': 0.3343144499889162, 'random_strength': 5, 'border_count': 223, 'leaf_estimation_iterations': 5, 'subsample': 0.8702148981514807}. Best is trial 143 with value: 0.7573456664413255.\n",
      "[I 2024-08-23 11:47:39,721] Trial 175 finished with value: 0.7559632689966375 and parameters: {'iterations': 916, 'learning_rate': 0.09232714147581021, 'depth': 9, 'l2_leaf_reg': 7, 'bagging_temperature': 0.3358665315420502, 'random_strength': 5, 'border_count': 224, 'leaf_estimation_iterations': 6, 'subsample': 0.8687052099457291}. Best is trial 143 with value: 0.7573456664413255.\n"
     ]
    },
    {
     "name": "stdout",
     "output_type": "stream",
     "text": [
      "[I 2024-08-23 11:47:59,404] Trial 176 finished with value: 0.7567198527932055 and parameters: {'iterations': 937, 'learning_rate': 0.09770028842017082, 'depth': 9, 'l2_leaf_reg': 7, 'bagging_temperature': 0.3382803012401619, 'random_strength': 5, 'border_count': 226, 'leaf_estimation_iterations': 5, 'subsample': 0.8698306166074594}. Best is trial 143 with value: 0.7573456664413255.\n",
      "[I 2024-08-23 11:48:11,589] Trial 177 finished with value: 0.7547161083549335 and parameters: {'iterations': 917, 'learning_rate': 0.08844802812618958, 'depth': 9, 'l2_leaf_reg': 7, 'bagging_temperature': 0.3318637245124582, 'random_strength': 4, 'border_count': 224, 'leaf_estimation_iterations': 6, 'subsample': 0.9086554284797006}. Best is trial 143 with value: 0.7573456664413255.\n",
      "[I 2024-08-23 11:48:20,883] Trial 179 finished with value: 0.7544215180278917 and parameters: {'iterations': 707, 'learning_rate': 0.08826858655930062, 'depth': 9, 'l2_leaf_reg': 7, 'bagging_temperature': 0.3755260945156819, 'random_strength': 4, 'border_count': 230, 'leaf_estimation_iterations': 6, 'subsample': 0.9144610544607786}. Best is trial 143 with value: 0.7573456664413255.\n",
      "[I 2024-08-23 11:48:24,586] Trial 178 finished with value: 0.7552554327895021 and parameters: {'iterations': 947, 'learning_rate': 0.09212327109459213, 'depth': 9, 'l2_leaf_reg': 7, 'bagging_temperature': 0.9080625717715446, 'random_strength': 4, 'border_count': 232, 'leaf_estimation_iterations': 6, 'subsample': 0.913093997662513}. Best is trial 143 with value: 0.7573456664413255.\n",
      "[I 2024-08-23 11:48:40,754] Trial 180 finished with value: 0.7541400384566102 and parameters: {'iterations': 719, 'learning_rate': 0.08902030384553827, 'depth': 9, 'l2_leaf_reg': 7, 'bagging_temperature': 0.38353330227718196, 'random_strength': 5, 'border_count': 225, 'leaf_estimation_iterations': 6, 'subsample': 0.9127153044039978}. Best is trial 143 with value: 0.7573456664413255.\n",
      "[I 2024-08-23 11:49:02,389] Trial 181 finished with value: 0.7543803862451142 and parameters: {'iterations': 898, 'learning_rate': 0.09671830510973267, 'depth': 9, 'l2_leaf_reg': 7, 'bagging_temperature': 0.3780277125015239, 'random_strength': 5, 'border_count': 226, 'leaf_estimation_iterations': 6, 'subsample': 0.9560551582660328}. Best is trial 143 with value: 0.7573456664413255.\n",
      "[I 2024-08-23 11:49:11,356] Trial 182 finished with value: 0.7533922754993957 and parameters: {'iterations': 888, 'learning_rate': 0.09664838572213794, 'depth': 9, 'l2_leaf_reg': 7, 'bagging_temperature': 0.3849260195410685, 'random_strength': 5, 'border_count': 228, 'leaf_estimation_iterations': 6, 'subsample': 0.9601307032303427}. Best is trial 143 with value: 0.7573456664413255.\n",
      "[I 2024-08-23 11:49:14,996] Trial 183 finished with value: 0.7554081827343718 and parameters: {'iterations': 890, 'learning_rate': 0.09731889390103086, 'depth': 9, 'l2_leaf_reg': 7, 'bagging_temperature': 0.38756805681968687, 'random_strength': 5, 'border_count': 207, 'leaf_estimation_iterations': 6, 'subsample': 0.95794035943851}. Best is trial 143 with value: 0.7573456664413255.\n",
      "[I 2024-08-23 11:49:33,085] Trial 184 finished with value: 0.7557942109425807 and parameters: {'iterations': 929, 'learning_rate': 0.09616822378664931, 'depth': 9, 'l2_leaf_reg': 7, 'bagging_temperature': 0.33123292932719633, 'random_strength': 5, 'border_count': 205, 'leaf_estimation_iterations': 6, 'subsample': 0.9541497324765245}. Best is trial 143 with value: 0.7573456664413255.\n",
      "[I 2024-08-23 11:49:53,002] Trial 185 finished with value: 0.7530772317506835 and parameters: {'iterations': 937, 'learning_rate': 0.09224293820293093, 'depth': 9, 'l2_leaf_reg': 7, 'bagging_temperature': 0.33042284530075366, 'random_strength': 4, 'border_count': 205, 'leaf_estimation_iterations': 5, 'subsample': 0.8929447008714556}. Best is trial 143 with value: 0.7573456664413255.\n",
      "[I 2024-08-23 11:50:02,719] Trial 186 finished with value: 0.7541397813829678 and parameters: {'iterations': 939, 'learning_rate': 0.09234058049151932, 'depth': 9, 'l2_leaf_reg': 7, 'bagging_temperature': 0.2724967877132421, 'random_strength': 4, 'border_count': 234, 'leaf_estimation_iterations': 5, 'subsample': 0.9332029952909968}. Best is trial 143 with value: 0.7573456664413255.\n",
      "[I 2024-08-23 11:50:06,593] Trial 187 finished with value: 0.7551531496140481 and parameters: {'iterations': 937, 'learning_rate': 0.09280990378585056, 'depth': 9, 'l2_leaf_reg': 7, 'bagging_temperature': 0.2744987069614182, 'random_strength': 4, 'border_count': 235, 'leaf_estimation_iterations': 5, 'subsample': 0.8938982942575986}. Best is trial 143 with value: 0.7573456664413255.\n",
      "[I 2024-08-23 11:50:28,639] Trial 188 finished with value: 0.7549157421053286 and parameters: {'iterations': 938, 'learning_rate': 0.09981621800812007, 'depth': 9, 'l2_leaf_reg': 7, 'bagging_temperature': 0.33153855226398304, 'random_strength': 7, 'border_count': 204, 'leaf_estimation_iterations': 6, 'subsample': 0.9338049970732865}. Best is trial 143 with value: 0.7573456664413255.\n",
      "[I 2024-08-23 11:50:53,727] Trial 189 finished with value: 0.7539187301847436 and parameters: {'iterations': 922, 'learning_rate': 0.09986746366275007, 'depth': 9, 'l2_leaf_reg': 7, 'bagging_temperature': 0.3475100709880045, 'random_strength': 5, 'border_count': 222, 'leaf_estimation_iterations': 6, 'subsample': 0.9288091915323488}. Best is trial 143 with value: 0.7573456664413255.\n",
      "[I 2024-08-23 11:51:04,709] Trial 190 finished with value: 0.754786096654066 and parameters: {'iterations': 910, 'learning_rate': 0.09866793730825822, 'depth': 9, 'l2_leaf_reg': 7, 'bagging_temperature': 0.34782701566136215, 'random_strength': 7, 'border_count': 219, 'leaf_estimation_iterations': 6, 'subsample': 0.931949487035205}. Best is trial 143 with value: 0.7573456664413255.\n",
      "[I 2024-08-23 11:51:09,333] Trial 191 finished with value: 0.7558609054856703 and parameters: {'iterations': 913, 'learning_rate': 0.09982084381526285, 'depth': 9, 'l2_leaf_reg': 7, 'bagging_temperature': 0.3482963173228465, 'random_strength': 5, 'border_count': 218, 'leaf_estimation_iterations': 6, 'subsample': 0.9372148360014048}. Best is trial 143 with value: 0.7573456664413255.\n",
      "[I 2024-08-23 11:51:25,767] Trial 192 finished with value: 0.754042414740924 and parameters: {'iterations': 914, 'learning_rate': 0.09565475298233143, 'depth': 9, 'l2_leaf_reg': 7, 'bagging_temperature': 0.35302562574630586, 'random_strength': 5, 'border_count': 217, 'leaf_estimation_iterations': 4, 'subsample': 0.9750942373534273}. Best is trial 143 with value: 0.7573456664413255.\n",
      "[I 2024-08-23 11:51:33,624] Trial 195 finished with value: 0.749042653739076 and parameters: {'iterations': 955, 'learning_rate': 0.09605932417822502, 'depth': 5, 'l2_leaf_reg': 7, 'bagging_temperature': 0.3264549970989929, 'random_strength': 5, 'border_count': 215, 'leaf_estimation_iterations': 6, 'subsample': 0.8352505039701417}. Best is trial 143 with value: 0.7573456664413255.\n",
      "[I 2024-08-23 11:51:43,434] Trial 193 finished with value: 0.7550745493478966 and parameters: {'iterations': 913, 'learning_rate': 0.09496523697261083, 'depth': 9, 'l2_leaf_reg': 7, 'bagging_temperature': 0.24533447731554192, 'random_strength': 6, 'border_count': 217, 'leaf_estimation_iterations': 4, 'subsample': 0.8357773086060566}. Best is trial 143 with value: 0.7573456664413255.\n",
      "[I 2024-08-23 11:51:45,684] Trial 196 finished with value: 0.7478372193629474 and parameters: {'iterations': 770, 'learning_rate': 0.09604114374562134, 'depth': 5, 'l2_leaf_reg': 7, 'bagging_temperature': 0.3689890838715577, 'random_strength': 6, 'border_count': 212, 'leaf_estimation_iterations': 6, 'subsample': 0.9449087318470853}. Best is trial 143 with value: 0.7573456664413255.\n",
      "[I 2024-08-23 11:51:55,447] Trial 194 finished with value: 0.7547030940017891 and parameters: {'iterations': 959, 'learning_rate': 0.09576216997421841, 'depth': 9, 'l2_leaf_reg': 7, 'bagging_temperature': 0.31048492107788916, 'random_strength': 5, 'border_count': 216, 'leaf_estimation_iterations': 4, 'subsample': 0.866360116372183}. Best is trial 143 with value: 0.7573456664413255.\n",
      "[I 2024-08-23 11:52:15,224] Trial 197 finished with value: 0.754273282938866 and parameters: {'iterations': 782, 'learning_rate': 0.09804617740010463, 'depth': 9, 'l2_leaf_reg': 7, 'bagging_temperature': 0.36083889702624006, 'random_strength': 6, 'border_count': 209, 'leaf_estimation_iterations': 4, 'subsample': 0.946903191909947}. Best is trial 143 with value: 0.7573456664413255.\n"
     ]
    },
    {
     "name": "stdout",
     "output_type": "stream",
     "text": [
      "[I 2024-08-23 11:52:35,110] Trial 198 finished with value: 0.754213931061686 and parameters: {'iterations': 966, 'learning_rate': 0.09820355468102716, 'depth': 9, 'l2_leaf_reg': 7, 'bagging_temperature': 0.3700879861730635, 'random_strength': 5, 'border_count': 135, 'leaf_estimation_iterations': 6, 'subsample': 0.9485477040183693}. Best is trial 143 with value: 0.7573456664413255.\n",
      "[I 2024-08-23 11:52:35,375] Trial 199 finished with value: 0.75097310005507 and parameters: {'iterations': 968, 'learning_rate': 0.06045301078760457, 'depth': 9, 'l2_leaf_reg': 7, 'bagging_temperature': 0.2971848733962756, 'random_strength': 5, 'border_count': 162, 'leaf_estimation_iterations': 4, 'subsample': 0.900312067279127}. Best is trial 143 with value: 0.7573456664413255.\n",
      "[I 2024-08-23 11:52:43,295] Trial 200 finished with value: 0.7544743305942939 and parameters: {'iterations': 872, 'learning_rate': 0.09816046459344287, 'depth': 9, 'l2_leaf_reg': 7, 'bagging_temperature': 0.36323179506570524, 'random_strength': 3, 'border_count': 221, 'leaf_estimation_iterations': 5, 'subsample': 0.8961558158602762}. Best is trial 143 with value: 0.7573456664413255.\n",
      "[I 2024-08-23 11:53:09,867] Trial 201 finished with value: 0.7546779329190432 and parameters: {'iterations': 993, 'learning_rate': 0.09780575081156913, 'depth': 9, 'l2_leaf_reg': 7, 'bagging_temperature': 0.30108786395002995, 'random_strength': 3, 'border_count': 197, 'leaf_estimation_iterations': 5, 'subsample': 0.8947312069281916}. Best is trial 143 with value: 0.7573456664413255.\n",
      "[I 2024-08-23 11:53:31,565] Trial 202 finished with value: 0.756013430491103 and parameters: {'iterations': 999, 'learning_rate': 0.09379514781079935, 'depth': 9, 'l2_leaf_reg': 7, 'bagging_temperature': 0.29685229440959393, 'random_strength': 3, 'border_count': 223, 'leaf_estimation_iterations': 5, 'subsample': 0.8964852816642636}. Best is trial 143 with value: 0.7573456664413255.\n",
      "[I 2024-08-23 11:53:32,284] Trial 203 finished with value: 0.7562094491434025 and parameters: {'iterations': 998, 'learning_rate': 0.09415283490945163, 'depth': 9, 'l2_leaf_reg': 7, 'bagging_temperature': 0.3982295984443584, 'random_strength': 3, 'border_count': 222, 'leaf_estimation_iterations': 5, 'subsample': 0.8948759589578231}. Best is trial 143 with value: 0.7573456664413255.\n",
      "[I 2024-08-23 11:53:38,923] Trial 204 finished with value: 0.754148698624937 and parameters: {'iterations': 950, 'learning_rate': 0.0928973869395138, 'depth': 9, 'l2_leaf_reg': 7, 'bagging_temperature': 0.3311441638813631, 'random_strength': 4, 'border_count': 230, 'leaf_estimation_iterations': 5, 'subsample': 0.8812450717591853}. Best is trial 143 with value: 0.7573456664413255.\n",
      "[I 2024-08-23 11:53:44,656] Trial 206 finished with value: 0.7422585445856074 and parameters: {'iterations': 203, 'learning_rate': 0.09365295595025093, 'depth': 9, 'l2_leaf_reg': 7, 'bagging_temperature': 0.3323247309067386, 'random_strength': 3, 'border_count': 226, 'leaf_estimation_iterations': 5, 'subsample': 0.9692488818760236}. Best is trial 143 with value: 0.7573456664413255.\n",
      "[I 2024-08-23 11:54:05,963] Trial 205 finished with value: 0.7456873606931991 and parameters: {'iterations': 949, 'learning_rate': 0.025454548727344192, 'depth': 9, 'l2_leaf_reg': 7, 'bagging_temperature': 0.3244668645980139, 'random_strength': 4, 'border_count': 229, 'leaf_estimation_iterations': 5, 'subsample': 0.8708881440036808}. Best is trial 143 with value: 0.7573456664413255.\n",
      "[I 2024-08-23 11:54:29,755] Trial 207 finished with value: 0.7564327818702028 and parameters: {'iterations': 1000, 'learning_rate': 0.09033251869007161, 'depth': 9, 'l2_leaf_reg': 7, 'bagging_temperature': 0.33006343844448033, 'random_strength': 4, 'border_count': 226, 'leaf_estimation_iterations': 5, 'subsample': 0.9222617977540614}. Best is trial 143 with value: 0.7573456664413255.\n",
      "[I 2024-08-23 11:54:35,347] Trial 208 finished with value: 0.7556902246542461 and parameters: {'iterations': 997, 'learning_rate': 0.08991599202121159, 'depth': 9, 'l2_leaf_reg': 7, 'bagging_temperature': 0.3251158981699708, 'random_strength': 4, 'border_count': 222, 'leaf_estimation_iterations': 5, 'subsample': 0.9735251700795138}. Best is trial 143 with value: 0.7573456664413255.\n",
      "[I 2024-08-23 11:54:41,033] Trial 209 finished with value: 0.7550211905000042 and parameters: {'iterations': 1000, 'learning_rate': 0.0905217566732488, 'depth': 9, 'l2_leaf_reg': 7, 'bagging_temperature': 0.401086522696884, 'random_strength': 4, 'border_count': 222, 'leaf_estimation_iterations': 5, 'subsample': 0.921133321685058}. Best is trial 143 with value: 0.7573456664413255.\n",
      "[I 2024-08-23 11:55:02,184] Trial 210 finished with value: 0.7546591022747402 and parameters: {'iterations': 1000, 'learning_rate': 0.09046258297517795, 'depth': 9, 'l2_leaf_reg': 7, 'bagging_temperature': 0.39883951787515753, 'random_strength': 4, 'border_count': 223, 'leaf_estimation_iterations': 5, 'subsample': 0.9169501278348131}. Best is trial 143 with value: 0.7573456664413255.\n",
      "[I 2024-08-23 11:55:24,086] Trial 211 finished with value: 0.7564342279094409 and parameters: {'iterations': 996, 'learning_rate': 0.09070478550768038, 'depth': 9, 'l2_leaf_reg': 7, 'bagging_temperature': 0.2595861760824094, 'random_strength': 4, 'border_count': 222, 'leaf_estimation_iterations': 5, 'subsample': 0.9179031576219995}. Best is trial 143 with value: 0.7573456664413255.\n",
      "[I 2024-08-23 11:55:29,850] Trial 212 finished with value: 0.7547514399136555 and parameters: {'iterations': 999, 'learning_rate': 0.0910296990853874, 'depth': 9, 'l2_leaf_reg': 7, 'bagging_temperature': 0.3983056338135176, 'random_strength': 3, 'border_count': 221, 'leaf_estimation_iterations': 5, 'subsample': 0.9226284176425489}. Best is trial 143 with value: 0.7573456664413255.\n",
      "[I 2024-08-23 11:55:34,677] Trial 213 finished with value: 0.755675185846168 and parameters: {'iterations': 985, 'learning_rate': 0.09662986766336751, 'depth': 9, 'l2_leaf_reg': 7, 'bagging_temperature': 0.26209182592427027, 'random_strength': 3, 'border_count': 211, 'leaf_estimation_iterations': 5, 'subsample': 0.8505586485514972}. Best is trial 143 with value: 0.7573456664413255.\n"
     ]
    }
   ],
   "source": [
    "study.optimize(objective, n_jobs=-1, n_trials=300, show_progress_bar=True);"
   ]
  },
  {
   "cell_type": "code",
   "execution_count": null,
   "id": "dbd0f382",
   "metadata": {},
   "outputs": [],
   "source": [
    "optuna.visualization.plot_optimization_history(study)"
   ]
  },
  {
   "cell_type": "code",
   "execution_count": null,
   "id": "144f6166",
   "metadata": {},
   "outputs": [],
   "source": [
    "study.best_params"
   ]
  },
  {
   "cell_type": "code",
   "execution_count": null,
   "id": "45133444",
   "metadata": {},
   "outputs": [],
   "source": [
    "study.best_value"
   ]
  },
  {
   "cell_type": "code",
   "execution_count": null,
   "id": "9b231217",
   "metadata": {},
   "outputs": [],
   "source": [
    "model = CatBoostClassifier(iterations=945, learning_rate=0.09994063570690505, depth=8,\n",
    "                          l2_leaf_reg=7, bagging_temperature=0.2615885907466724, random_strength=8,\n",
    "                          border_count=190, leaf_estimation_iterations=5, subsample=0.7942053568047295)"
   ]
  },
  {
   "cell_type": "code",
   "execution_count": null,
   "id": "db386243",
   "metadata": {},
   "outputs": [],
   "source": [
    "model.fit(X_train_preprocessed, y_train, verbose=False, plot=True);"
   ]
  },
  {
   "cell_type": "code",
   "execution_count": null,
   "id": "b8488354",
   "metadata": {},
   "outputs": [],
   "source": [
    "y_preds_proba = model.predict_proba(X_test_preprocessed)[:, 1]"
   ]
  },
  {
   "cell_type": "code",
   "execution_count": null,
   "id": "b02d028b",
   "metadata": {},
   "outputs": [],
   "source": [
    "roc_auc_score(y_test, y_preds_proba)"
   ]
  },
  {
   "cell_type": "code",
   "execution_count": null,
   "id": "98ed16cb",
   "metadata": {},
   "outputs": [],
   "source": []
  }
 ],
 "metadata": {
  "kernelspec": {
   "display_name": "Python 3 (ipykernel)",
   "language": "python",
   "name": "python3"
  },
  "language_info": {
   "codemirror_mode": {
    "name": "ipython",
    "version": 3
   },
   "file_extension": ".py",
   "mimetype": "text/x-python",
   "name": "python",
   "nbconvert_exporter": "python",
   "pygments_lexer": "ipython3",
   "version": "3.9.19"
  }
 },
 "nbformat": 4,
 "nbformat_minor": 5
}
