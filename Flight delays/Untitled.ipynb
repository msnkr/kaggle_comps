{
 "cells": [
  {
   "cell_type": "code",
   "execution_count": 1,
   "id": "85d5b9d5",
   "metadata": {},
   "outputs": [],
   "source": [
    "import pandas as pd\n",
    "import numpy as np"
   ]
  },
  {
   "cell_type": "code",
   "execution_count": 12,
   "id": "b05aafbb",
   "metadata": {},
   "outputs": [],
   "source": [
    "df_1 = pd.read_csv(\"../data/Flight delays/flight_delays_train.csv\")\n",
    "df_2 = pd.read_csv(\"../data/Flight delays/flight_delays_test.csv\")"
   ]
  },
  {
   "cell_type": "code",
   "execution_count": 13,
   "id": "31e51367",
   "metadata": {},
   "outputs": [],
   "source": [
    "df = pd.concat([df_1, df_2])"
   ]
  },
  {
   "cell_type": "code",
   "execution_count": 14,
   "id": "f5ddb5ab",
   "metadata": {},
   "outputs": [
    {
     "data": {
      "text/plain": [
       "((100000, 9), (100000, 8), (200000, 9))"
      ]
     },
     "execution_count": 14,
     "metadata": {},
     "output_type": "execute_result"
    }
   ],
   "source": [
    "df_1.shape, df_2.shape, df.shape"
   ]
  },
  {
   "cell_type": "code",
   "execution_count": 3,
   "id": "fe99061d",
   "metadata": {},
   "outputs": [],
   "source": [
    "df[\"month\"] = df[\"Month\"].str.replace(\"c-\", \"\").astype(int)\n",
    "df[\"WeekDay\"] = df[\"DayOfWeek\"].str.replace(\"c-\", \"\").astype(int)\n",
    "df[\"MonthDay\"] = df[\"DayofMonth\"].str.replace(\"c-\", \"\").astype(int)"
   ]
  },
  {
   "cell_type": "code",
   "execution_count": 4,
   "id": "3c34be28",
   "metadata": {},
   "outputs": [],
   "source": [
    "df[\"is_weekend\"] = (df[\"WeekDay\"] == 6) | (df[\"WeekDay\"] == 7)"
   ]
  },
  {
   "cell_type": "code",
   "execution_count": 5,
   "id": "dc6932f8",
   "metadata": {},
   "outputs": [],
   "source": [
    "def categorize_dist(distance):\n",
    "    if distance <= 1500:\n",
    "        return \"short-haul\"\n",
    "    elif 1500 < distance <= 3000:\n",
    "        return \"medium-haul\"\n",
    "    else:\n",
    "        return \"long_haul\""
   ]
  },
  {
   "cell_type": "code",
   "execution_count": 6,
   "id": "5a1b4822",
   "metadata": {},
   "outputs": [],
   "source": [
    "df[\"category\"] = df[\"Distance\"].apply(categorize_dist)"
   ]
  },
  {
   "cell_type": "code",
   "execution_count": 7,
   "id": "b1532d31",
   "metadata": {},
   "outputs": [],
   "source": [
    "df[\"time\"] = pd.to_datetime(df[\"DepTime\"], format=\"%H%M\", errors=\"coerce\").dt.time"
   ]
  },
  {
   "cell_type": "code",
   "execution_count": 8,
   "id": "c40c4bb8",
   "metadata": {},
   "outputs": [],
   "source": [
    "df['time'] = df[\"time\"].fillna(\"00:00\")"
   ]
  },
  {
   "cell_type": "code",
   "execution_count": 9,
   "id": "807d41a8",
   "metadata": {},
   "outputs": [],
   "source": [
    "df[\"december_holidays\"] = (df[\"month\"] == 6) | (df[\"month\"] ==7) | (df[\"month\"] == 8)"
   ]
  },
  {
   "cell_type": "code",
   "execution_count": null,
   "id": "7abf2e8f",
   "metadata": {},
   "outputs": [],
   "source": []
  },
  {
   "cell_type": "code",
   "execution_count": 17,
   "id": "85be4996",
   "metadata": {},
   "outputs": [
    {
     "data": {
      "text/html": [
       "<div>\n",
       "<style scoped>\n",
       "    .dataframe tbody tr th:only-of-type {\n",
       "        vertical-align: middle;\n",
       "    }\n",
       "\n",
       "    .dataframe tbody tr th {\n",
       "        vertical-align: top;\n",
       "    }\n",
       "\n",
       "    .dataframe thead th {\n",
       "        text-align: right;\n",
       "    }\n",
       "</style>\n",
       "<table border=\"1\" class=\"dataframe\">\n",
       "  <thead>\n",
       "    <tr style=\"text-align: right;\">\n",
       "      <th></th>\n",
       "      <th>Month</th>\n",
       "      <th>DayofMonth</th>\n",
       "      <th>DayOfWeek</th>\n",
       "      <th>DepTime</th>\n",
       "      <th>UniqueCarrier</th>\n",
       "      <th>Origin</th>\n",
       "      <th>Dest</th>\n",
       "      <th>Distance</th>\n",
       "      <th>dep_delayed_15min</th>\n",
       "    </tr>\n",
       "  </thead>\n",
       "  <tbody>\n",
       "    <tr>\n",
       "      <th>0</th>\n",
       "      <td>c-8</td>\n",
       "      <td>c-21</td>\n",
       "      <td>c-7</td>\n",
       "      <td>1934</td>\n",
       "      <td>AA</td>\n",
       "      <td>ATL</td>\n",
       "      <td>DFW</td>\n",
       "      <td>732</td>\n",
       "      <td>N</td>\n",
       "    </tr>\n",
       "    <tr>\n",
       "      <th>1</th>\n",
       "      <td>c-4</td>\n",
       "      <td>c-20</td>\n",
       "      <td>c-3</td>\n",
       "      <td>1548</td>\n",
       "      <td>US</td>\n",
       "      <td>PIT</td>\n",
       "      <td>MCO</td>\n",
       "      <td>834</td>\n",
       "      <td>N</td>\n",
       "    </tr>\n",
       "    <tr>\n",
       "      <th>2</th>\n",
       "      <td>c-9</td>\n",
       "      <td>c-2</td>\n",
       "      <td>c-5</td>\n",
       "      <td>1422</td>\n",
       "      <td>XE</td>\n",
       "      <td>RDU</td>\n",
       "      <td>CLE</td>\n",
       "      <td>416</td>\n",
       "      <td>N</td>\n",
       "    </tr>\n",
       "    <tr>\n",
       "      <th>3</th>\n",
       "      <td>c-11</td>\n",
       "      <td>c-25</td>\n",
       "      <td>c-6</td>\n",
       "      <td>1015</td>\n",
       "      <td>OO</td>\n",
       "      <td>DEN</td>\n",
       "      <td>MEM</td>\n",
       "      <td>872</td>\n",
       "      <td>N</td>\n",
       "    </tr>\n",
       "    <tr>\n",
       "      <th>4</th>\n",
       "      <td>c-10</td>\n",
       "      <td>c-7</td>\n",
       "      <td>c-6</td>\n",
       "      <td>1828</td>\n",
       "      <td>WN</td>\n",
       "      <td>MDW</td>\n",
       "      <td>OMA</td>\n",
       "      <td>423</td>\n",
       "      <td>Y</td>\n",
       "    </tr>\n",
       "  </tbody>\n",
       "</table>\n",
       "</div>"
      ],
      "text/plain": [
       "  Month DayofMonth DayOfWeek  DepTime UniqueCarrier Origin Dest  Distance  \\\n",
       "0   c-8       c-21       c-7     1934            AA    ATL  DFW       732   \n",
       "1   c-4       c-20       c-3     1548            US    PIT  MCO       834   \n",
       "2   c-9        c-2       c-5     1422            XE    RDU  CLE       416   \n",
       "3  c-11       c-25       c-6     1015            OO    DEN  MEM       872   \n",
       "4  c-10        c-7       c-6     1828            WN    MDW  OMA       423   \n",
       "\n",
       "  dep_delayed_15min  \n",
       "0                 N  \n",
       "1                 N  \n",
       "2                 N  \n",
       "3                 N  \n",
       "4                 Y  "
      ]
     },
     "execution_count": 17,
     "metadata": {},
     "output_type": "execute_result"
    }
   ],
   "source": [
    "test_df.head()"
   ]
  },
  {
   "cell_type": "code",
   "execution_count": 10,
   "id": "1f7a71be",
   "metadata": {},
   "outputs": [],
   "source": [
    "df[\"Delayed\"] = df[\"dep_delayed_15min\"].map({\"Y\": 1, \"N\": 0})"
   ]
  },
  {
   "cell_type": "code",
   "execution_count": 11,
   "id": "914bde39",
   "metadata": {},
   "outputs": [],
   "source": [
    "df.drop([\"Month\", \"DayofMonth\", \"DayOfWeek\", \"DepTime\", \"dep_delayed_15min\"], axis=1, inplace=True)"
   ]
  }
 ],
 "metadata": {
  "kernelspec": {
   "display_name": "Python 3 (ipykernel)",
   "language": "python",
   "name": "python3"
  },
  "language_info": {
   "codemirror_mode": {
    "name": "ipython",
    "version": 3
   },
   "file_extension": ".py",
   "mimetype": "text/x-python",
   "name": "python",
   "nbconvert_exporter": "python",
   "pygments_lexer": "ipython3",
   "version": "3.9.19"
  }
 },
 "nbformat": 4,
 "nbformat_minor": 5
}
