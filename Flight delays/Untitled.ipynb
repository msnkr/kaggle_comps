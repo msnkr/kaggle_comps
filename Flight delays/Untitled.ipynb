{
 "cells": [
  {
   "cell_type": "code",
   "execution_count": 1,
   "id": "5c4117d9",
   "metadata": {},
   "outputs": [],
   "source": [
    "import pandas as pd\n",
    "import numpy as np\n",
    "\n",
    "import matplotlib.pyplot as plt\n",
    "import seaborn as sns\n",
    "\n",
    "from sklearn.model_selection import train_test_split\n",
    "from catboost import CatBoostClassifier\n",
    "from sklearn.metrics import roc_auc_score"
   ]
  },
  {
   "cell_type": "code",
   "execution_count": 2,
   "id": "7708dad9",
   "metadata": {},
   "outputs": [],
   "source": [
    "df_1 = pd.read_csv(\"../data/Flight delays/flight_delays_train.csv\")\n",
    "df_2 = pd.read_csv(\"../data/Flight delays/flight_delays_test.csv\")"
   ]
  },
  {
   "cell_type": "code",
   "execution_count": 3,
   "id": "e87635a3",
   "metadata": {},
   "outputs": [],
   "source": [
    "df = pd.concat([df_1, df_2])"
   ]
  },
  {
   "cell_type": "code",
   "execution_count": 4,
   "id": "82b24918",
   "metadata": {},
   "outputs": [
    {
     "data": {
      "text/plain": [
       "((100000, 9), (100000, 8), (200000, 9))"
      ]
     },
     "execution_count": 4,
     "metadata": {},
     "output_type": "execute_result"
    }
   ],
   "source": [
    "df_1.shape, df_2.shape, df.shape"
   ]
  },
  {
   "cell_type": "code",
   "execution_count": 5,
   "id": "03ceb513",
   "metadata": {},
   "outputs": [],
   "source": [
    "df[\"month\"] = df[\"Month\"].str.replace(\"c-\", \"\").astype(int)\n",
    "df[\"WeekDay\"] = df[\"DayOfWeek\"].str.replace(\"c-\", \"\").astype(int)\n",
    "df[\"MonthDay\"] = df[\"DayofMonth\"].str.replace(\"c-\", \"\").astype(int)"
   ]
  },
  {
   "cell_type": "code",
   "execution_count": 6,
   "id": "6d0cfce9",
   "metadata": {},
   "outputs": [],
   "source": [
    "df[\"is_weekend\"] = (df[\"WeekDay\"] == 6) | (df[\"WeekDay\"] == 7)"
   ]
  },
  {
   "cell_type": "code",
   "execution_count": 7,
   "id": "70ad5e1d",
   "metadata": {},
   "outputs": [],
   "source": [
    "def categorize_dist(distance):\n",
    "    if distance <= 1500:\n",
    "        return \"short-haul\"\n",
    "    elif 1500 < distance <= 3000:\n",
    "        return \"medium-haul\"\n",
    "    else:\n",
    "        return \"long_haul\""
   ]
  },
  {
   "cell_type": "code",
   "execution_count": 8,
   "id": "004a0b9c",
   "metadata": {},
   "outputs": [],
   "source": [
    "df[\"category\"] = df[\"Distance\"].apply(categorize_dist)"
   ]
  },
  {
   "cell_type": "code",
   "execution_count": 9,
   "id": "837b6da3",
   "metadata": {},
   "outputs": [],
   "source": [
    "df[\"time\"] = pd.to_datetime(df[\"DepTime\"], format=\"%H%M\", errors=\"coerce\")"
   ]
  },
  {
   "cell_type": "code",
   "execution_count": 10,
   "id": "5ed078f7",
   "metadata": {},
   "outputs": [],
   "source": [
    "df['time'] = df[\"time\"].fillna(\"00:00\")"
   ]
  },
  {
   "cell_type": "code",
   "execution_count": 11,
   "id": "9b7f3947",
   "metadata": {},
   "outputs": [],
   "source": [
    "df[\"december_holidays\"] = (df[\"month\"] == 6) | (df[\"month\"] ==7) | (df[\"month\"] == 8)"
   ]
  },
  {
   "cell_type": "code",
   "execution_count": 12,
   "id": "1c469d28",
   "metadata": {},
   "outputs": [],
   "source": [
    "df[\"time_of_day\"] = df[\"time\"].dt.hour"
   ]
  },
  {
   "cell_type": "code",
   "execution_count": 13,
   "id": "fb9c2265",
   "metadata": {},
   "outputs": [],
   "source": [
    "df.drop([\"Month\", \"DayofMonth\", \"DayOfWeek\", \"DepTime\", \"time\"], axis=1, inplace=True)"
   ]
  },
  {
   "cell_type": "code",
   "execution_count": 14,
   "id": "79983cd6",
   "metadata": {},
   "outputs": [
    {
     "data": {
      "text/html": [
       "<div>\n",
       "<style scoped>\n",
       "    .dataframe tbody tr th:only-of-type {\n",
       "        vertical-align: middle;\n",
       "    }\n",
       "\n",
       "    .dataframe tbody tr th {\n",
       "        vertical-align: top;\n",
       "    }\n",
       "\n",
       "    .dataframe thead th {\n",
       "        text-align: right;\n",
       "    }\n",
       "</style>\n",
       "<table border=\"1\" class=\"dataframe\">\n",
       "  <thead>\n",
       "    <tr style=\"text-align: right;\">\n",
       "      <th></th>\n",
       "      <th>UniqueCarrier</th>\n",
       "      <th>Origin</th>\n",
       "      <th>Dest</th>\n",
       "      <th>Distance</th>\n",
       "      <th>dep_delayed_15min</th>\n",
       "      <th>month</th>\n",
       "      <th>WeekDay</th>\n",
       "      <th>MonthDay</th>\n",
       "      <th>is_weekend</th>\n",
       "      <th>category</th>\n",
       "      <th>december_holidays</th>\n",
       "      <th>time_of_day</th>\n",
       "    </tr>\n",
       "  </thead>\n",
       "  <tbody>\n",
       "    <tr>\n",
       "      <th>0</th>\n",
       "      <td>AA</td>\n",
       "      <td>ATL</td>\n",
       "      <td>DFW</td>\n",
       "      <td>732</td>\n",
       "      <td>N</td>\n",
       "      <td>8</td>\n",
       "      <td>7</td>\n",
       "      <td>21</td>\n",
       "      <td>True</td>\n",
       "      <td>short-haul</td>\n",
       "      <td>True</td>\n",
       "      <td>19</td>\n",
       "    </tr>\n",
       "    <tr>\n",
       "      <th>1</th>\n",
       "      <td>US</td>\n",
       "      <td>PIT</td>\n",
       "      <td>MCO</td>\n",
       "      <td>834</td>\n",
       "      <td>N</td>\n",
       "      <td>4</td>\n",
       "      <td>3</td>\n",
       "      <td>20</td>\n",
       "      <td>False</td>\n",
       "      <td>short-haul</td>\n",
       "      <td>False</td>\n",
       "      <td>15</td>\n",
       "    </tr>\n",
       "    <tr>\n",
       "      <th>2</th>\n",
       "      <td>XE</td>\n",
       "      <td>RDU</td>\n",
       "      <td>CLE</td>\n",
       "      <td>416</td>\n",
       "      <td>N</td>\n",
       "      <td>9</td>\n",
       "      <td>5</td>\n",
       "      <td>2</td>\n",
       "      <td>False</td>\n",
       "      <td>short-haul</td>\n",
       "      <td>False</td>\n",
       "      <td>14</td>\n",
       "    </tr>\n",
       "    <tr>\n",
       "      <th>3</th>\n",
       "      <td>OO</td>\n",
       "      <td>DEN</td>\n",
       "      <td>MEM</td>\n",
       "      <td>872</td>\n",
       "      <td>N</td>\n",
       "      <td>11</td>\n",
       "      <td>6</td>\n",
       "      <td>25</td>\n",
       "      <td>True</td>\n",
       "      <td>short-haul</td>\n",
       "      <td>False</td>\n",
       "      <td>10</td>\n",
       "    </tr>\n",
       "    <tr>\n",
       "      <th>4</th>\n",
       "      <td>WN</td>\n",
       "      <td>MDW</td>\n",
       "      <td>OMA</td>\n",
       "      <td>423</td>\n",
       "      <td>Y</td>\n",
       "      <td>10</td>\n",
       "      <td>6</td>\n",
       "      <td>7</td>\n",
       "      <td>True</td>\n",
       "      <td>short-haul</td>\n",
       "      <td>False</td>\n",
       "      <td>18</td>\n",
       "    </tr>\n",
       "  </tbody>\n",
       "</table>\n",
       "</div>"
      ],
      "text/plain": [
       "  UniqueCarrier Origin Dest  Distance dep_delayed_15min  month  WeekDay  \\\n",
       "0            AA    ATL  DFW       732                 N      8        7   \n",
       "1            US    PIT  MCO       834                 N      4        3   \n",
       "2            XE    RDU  CLE       416                 N      9        5   \n",
       "3            OO    DEN  MEM       872                 N     11        6   \n",
       "4            WN    MDW  OMA       423                 Y     10        6   \n",
       "\n",
       "   MonthDay  is_weekend    category  december_holidays  time_of_day  \n",
       "0        21        True  short-haul               True           19  \n",
       "1        20       False  short-haul              False           15  \n",
       "2         2       False  short-haul              False           14  \n",
       "3        25        True  short-haul              False           10  \n",
       "4         7        True  short-haul              False           18  "
      ]
     },
     "execution_count": 14,
     "metadata": {},
     "output_type": "execute_result"
    }
   ],
   "source": [
    "df.head()"
   ]
  },
  {
   "cell_type": "code",
   "execution_count": 15,
   "id": "7e3a4507",
   "metadata": {},
   "outputs": [],
   "source": [
    "df[\"hour_sqrd\"] = df[\"time_of_day\"] ** 2\n",
    "df[\"hour_sqrd_2\"] = df[\"time_of_day\"] ** 4"
   ]
  },
  {
   "cell_type": "code",
   "execution_count": 16,
   "id": "ccdfa114",
   "metadata": {},
   "outputs": [],
   "source": [
    "train_df = df[:100000]\n",
    "test_df = df[100000:]"
   ]
  },
  {
   "cell_type": "code",
   "execution_count": 17,
   "id": "29ed4027",
   "metadata": {},
   "outputs": [
    {
     "name": "stderr",
     "output_type": "stream",
     "text": [
      "C:\\Users\\Panache Branding\\AppData\\Local\\Temp\\ipykernel_9440\\4232699012.py:1: SettingWithCopyWarning: \n",
      "A value is trying to be set on a copy of a slice from a DataFrame.\n",
      "Try using .loc[row_indexer,col_indexer] = value instead\n",
      "\n",
      "See the caveats in the documentation: https://pandas.pydata.org/pandas-docs/stable/user_guide/indexing.html#returning-a-view-versus-a-copy\n",
      "  train_df[\"delayed\"] = train_df[\"dep_delayed_15min\"].map({\"Y\": 1, \"N\": 0})\n"
     ]
    }
   ],
   "source": [
    "train_df[\"delayed\"] = train_df[\"dep_delayed_15min\"].map({\"Y\": 1, \"N\": 0})"
   ]
  },
  {
   "cell_type": "code",
   "execution_count": 18,
   "id": "31ab3280",
   "metadata": {},
   "outputs": [
    {
     "name": "stderr",
     "output_type": "stream",
     "text": [
      "C:\\Users\\Panache Branding\\AppData\\Local\\Temp\\ipykernel_9440\\980255738.py:1: SettingWithCopyWarning: \n",
      "A value is trying to be set on a copy of a slice from a DataFrame\n",
      "\n",
      "See the caveats in the documentation: https://pandas.pydata.org/pandas-docs/stable/user_guide/indexing.html#returning-a-view-versus-a-copy\n",
      "  train_df.drop(\"dep_delayed_15min\", axis=1, inplace=True)\n"
     ]
    }
   ],
   "source": [
    "train_df.drop(\"dep_delayed_15min\", axis=1, inplace=True)"
   ]
  },
  {
   "cell_type": "code",
   "execution_count": 19,
   "id": "38d67cf3",
   "metadata": {},
   "outputs": [],
   "source": [
    "X = train_df.drop(\"delayed\", axis=1)\n",
    "y = train_df[\"delayed\"]"
   ]
  },
  {
   "cell_type": "code",
   "execution_count": 20,
   "id": "0e06cfd4",
   "metadata": {},
   "outputs": [],
   "source": [
    "X_train, X_valid, y_train, y_valid = train_test_split(X, y, test_size=0.3)"
   ]
  },
  {
   "cell_type": "code",
   "execution_count": 21,
   "id": "1dc5c9a2",
   "metadata": {},
   "outputs": [],
   "source": [
    "clf = CatBoostClassifier(iterations=3000, random_seed=17)"
   ]
  },
  {
   "cell_type": "code",
   "execution_count": 22,
   "id": "8ffe72e3",
   "metadata": {},
   "outputs": [],
   "source": [
    "cat_idx = np.where(df.dtypes == \"object\")[0]"
   ]
  },
  {
   "cell_type": "code",
   "execution_count": 23,
   "id": "4b46e224",
   "metadata": {},
   "outputs": [
    {
     "data": {
      "text/html": [
       "<div>\n",
       "<style scoped>\n",
       "    .dataframe tbody tr th:only-of-type {\n",
       "        vertical-align: middle;\n",
       "    }\n",
       "\n",
       "    .dataframe tbody tr th {\n",
       "        vertical-align: top;\n",
       "    }\n",
       "\n",
       "    .dataframe thead th {\n",
       "        text-align: right;\n",
       "    }\n",
       "</style>\n",
       "<table border=\"1\" class=\"dataframe\">\n",
       "  <thead>\n",
       "    <tr style=\"text-align: right;\">\n",
       "      <th></th>\n",
       "      <th>UniqueCarrier</th>\n",
       "      <th>Origin</th>\n",
       "      <th>Dest</th>\n",
       "      <th>Distance</th>\n",
       "      <th>dep_delayed_15min</th>\n",
       "      <th>month</th>\n",
       "      <th>WeekDay</th>\n",
       "      <th>MonthDay</th>\n",
       "      <th>is_weekend</th>\n",
       "      <th>category</th>\n",
       "      <th>december_holidays</th>\n",
       "      <th>time_of_day</th>\n",
       "      <th>hour_sqrd</th>\n",
       "      <th>hour_sqrd_2</th>\n",
       "    </tr>\n",
       "  </thead>\n",
       "  <tbody>\n",
       "    <tr>\n",
       "      <th>0</th>\n",
       "      <td>AA</td>\n",
       "      <td>ATL</td>\n",
       "      <td>DFW</td>\n",
       "      <td>732</td>\n",
       "      <td>N</td>\n",
       "      <td>8</td>\n",
       "      <td>7</td>\n",
       "      <td>21</td>\n",
       "      <td>True</td>\n",
       "      <td>short-haul</td>\n",
       "      <td>True</td>\n",
       "      <td>19</td>\n",
       "      <td>361</td>\n",
       "      <td>130321</td>\n",
       "    </tr>\n",
       "    <tr>\n",
       "      <th>1</th>\n",
       "      <td>US</td>\n",
       "      <td>PIT</td>\n",
       "      <td>MCO</td>\n",
       "      <td>834</td>\n",
       "      <td>N</td>\n",
       "      <td>4</td>\n",
       "      <td>3</td>\n",
       "      <td>20</td>\n",
       "      <td>False</td>\n",
       "      <td>short-haul</td>\n",
       "      <td>False</td>\n",
       "      <td>15</td>\n",
       "      <td>225</td>\n",
       "      <td>50625</td>\n",
       "    </tr>\n",
       "    <tr>\n",
       "      <th>2</th>\n",
       "      <td>XE</td>\n",
       "      <td>RDU</td>\n",
       "      <td>CLE</td>\n",
       "      <td>416</td>\n",
       "      <td>N</td>\n",
       "      <td>9</td>\n",
       "      <td>5</td>\n",
       "      <td>2</td>\n",
       "      <td>False</td>\n",
       "      <td>short-haul</td>\n",
       "      <td>False</td>\n",
       "      <td>14</td>\n",
       "      <td>196</td>\n",
       "      <td>38416</td>\n",
       "    </tr>\n",
       "    <tr>\n",
       "      <th>3</th>\n",
       "      <td>OO</td>\n",
       "      <td>DEN</td>\n",
       "      <td>MEM</td>\n",
       "      <td>872</td>\n",
       "      <td>N</td>\n",
       "      <td>11</td>\n",
       "      <td>6</td>\n",
       "      <td>25</td>\n",
       "      <td>True</td>\n",
       "      <td>short-haul</td>\n",
       "      <td>False</td>\n",
       "      <td>10</td>\n",
       "      <td>100</td>\n",
       "      <td>10000</td>\n",
       "    </tr>\n",
       "    <tr>\n",
       "      <th>4</th>\n",
       "      <td>WN</td>\n",
       "      <td>MDW</td>\n",
       "      <td>OMA</td>\n",
       "      <td>423</td>\n",
       "      <td>Y</td>\n",
       "      <td>10</td>\n",
       "      <td>6</td>\n",
       "      <td>7</td>\n",
       "      <td>True</td>\n",
       "      <td>short-haul</td>\n",
       "      <td>False</td>\n",
       "      <td>18</td>\n",
       "      <td>324</td>\n",
       "      <td>104976</td>\n",
       "    </tr>\n",
       "  </tbody>\n",
       "</table>\n",
       "</div>"
      ],
      "text/plain": [
       "  UniqueCarrier Origin Dest  Distance dep_delayed_15min  month  WeekDay  \\\n",
       "0            AA    ATL  DFW       732                 N      8        7   \n",
       "1            US    PIT  MCO       834                 N      4        3   \n",
       "2            XE    RDU  CLE       416                 N      9        5   \n",
       "3            OO    DEN  MEM       872                 N     11        6   \n",
       "4            WN    MDW  OMA       423                 Y     10        6   \n",
       "\n",
       "   MonthDay  is_weekend    category  december_holidays  time_of_day  \\\n",
       "0        21        True  short-haul               True           19   \n",
       "1        20       False  short-haul              False           15   \n",
       "2         2       False  short-haul              False           14   \n",
       "3        25        True  short-haul              False           10   \n",
       "4         7        True  short-haul              False           18   \n",
       "\n",
       "   hour_sqrd  hour_sqrd_2  \n",
       "0        361       130321  \n",
       "1        225        50625  \n",
       "2        196        38416  \n",
       "3        100        10000  \n",
       "4        324       104976  "
      ]
     },
     "execution_count": 23,
     "metadata": {},
     "output_type": "execute_result"
    }
   ],
   "source": [
    "df.head()"
   ]
  },
  {
   "cell_type": "code",
   "execution_count": 24,
   "id": "3c099b96",
   "metadata": {},
   "outputs": [
    {
     "data": {
      "application/vnd.jupyter.widget-view+json": {
       "model_id": "0ca1888446334730bb68096428f87e7c",
       "version_major": 2,
       "version_minor": 0
      },
      "text/plain": [
       "MetricVisualizer(layout=Layout(align_self='stretch', height='500px'))"
      ]
     },
     "metadata": {},
     "output_type": "display_data"
    }
   ],
   "source": [
    "clf.fit(X_train, y_train, cat_features=[0, 1, 2, 4,8, 9], plot=True, verbose=False);"
   ]
  },
  {
   "cell_type": "code",
   "execution_count": 25,
   "id": "f5bfcdc3",
   "metadata": {},
   "outputs": [],
   "source": [
    "y_preds = clf.predict_proba(X_valid)[:, 1]"
   ]
  },
  {
   "cell_type": "code",
   "execution_count": 26,
   "id": "a47ab413",
   "metadata": {},
   "outputs": [
    {
     "data": {
      "text/plain": [
       "0.7387520233211317"
      ]
     },
     "execution_count": 26,
     "metadata": {},
     "output_type": "execute_result"
    }
   ],
   "source": [
    "roc_auc_score(y_valid, y_preds)"
   ]
  },
  {
   "cell_type": "code",
   "execution_count": 27,
   "id": "66109eee",
   "metadata": {},
   "outputs": [
    {
     "data": {
      "text/html": [
       "<div>\n",
       "<style scoped>\n",
       "    .dataframe tbody tr th:only-of-type {\n",
       "        vertical-align: middle;\n",
       "    }\n",
       "\n",
       "    .dataframe tbody tr th {\n",
       "        vertical-align: top;\n",
       "    }\n",
       "\n",
       "    .dataframe thead th {\n",
       "        text-align: right;\n",
       "    }\n",
       "</style>\n",
       "<table border=\"1\" class=\"dataframe\">\n",
       "  <thead>\n",
       "    <tr style=\"text-align: right;\">\n",
       "      <th></th>\n",
       "      <th>UniqueCarrier</th>\n",
       "      <th>Origin</th>\n",
       "      <th>Dest</th>\n",
       "      <th>Distance</th>\n",
       "      <th>month</th>\n",
       "      <th>WeekDay</th>\n",
       "      <th>MonthDay</th>\n",
       "      <th>is_weekend</th>\n",
       "      <th>category</th>\n",
       "      <th>december_holidays</th>\n",
       "      <th>time_of_day</th>\n",
       "      <th>hour_sqrd</th>\n",
       "      <th>hour_sqrd_2</th>\n",
       "    </tr>\n",
       "  </thead>\n",
       "  <tbody>\n",
       "    <tr>\n",
       "      <th>0</th>\n",
       "      <td>AA</td>\n",
       "      <td>ATL</td>\n",
       "      <td>DFW</td>\n",
       "      <td>732</td>\n",
       "      <td>8</td>\n",
       "      <td>7</td>\n",
       "      <td>21</td>\n",
       "      <td>True</td>\n",
       "      <td>short-haul</td>\n",
       "      <td>True</td>\n",
       "      <td>19</td>\n",
       "      <td>361</td>\n",
       "      <td>130321</td>\n",
       "    </tr>\n",
       "    <tr>\n",
       "      <th>1</th>\n",
       "      <td>US</td>\n",
       "      <td>PIT</td>\n",
       "      <td>MCO</td>\n",
       "      <td>834</td>\n",
       "      <td>4</td>\n",
       "      <td>3</td>\n",
       "      <td>20</td>\n",
       "      <td>False</td>\n",
       "      <td>short-haul</td>\n",
       "      <td>False</td>\n",
       "      <td>15</td>\n",
       "      <td>225</td>\n",
       "      <td>50625</td>\n",
       "    </tr>\n",
       "    <tr>\n",
       "      <th>2</th>\n",
       "      <td>XE</td>\n",
       "      <td>RDU</td>\n",
       "      <td>CLE</td>\n",
       "      <td>416</td>\n",
       "      <td>9</td>\n",
       "      <td>5</td>\n",
       "      <td>2</td>\n",
       "      <td>False</td>\n",
       "      <td>short-haul</td>\n",
       "      <td>False</td>\n",
       "      <td>14</td>\n",
       "      <td>196</td>\n",
       "      <td>38416</td>\n",
       "    </tr>\n",
       "    <tr>\n",
       "      <th>3</th>\n",
       "      <td>OO</td>\n",
       "      <td>DEN</td>\n",
       "      <td>MEM</td>\n",
       "      <td>872</td>\n",
       "      <td>11</td>\n",
       "      <td>6</td>\n",
       "      <td>25</td>\n",
       "      <td>True</td>\n",
       "      <td>short-haul</td>\n",
       "      <td>False</td>\n",
       "      <td>10</td>\n",
       "      <td>100</td>\n",
       "      <td>10000</td>\n",
       "    </tr>\n",
       "    <tr>\n",
       "      <th>4</th>\n",
       "      <td>WN</td>\n",
       "      <td>MDW</td>\n",
       "      <td>OMA</td>\n",
       "      <td>423</td>\n",
       "      <td>10</td>\n",
       "      <td>6</td>\n",
       "      <td>7</td>\n",
       "      <td>True</td>\n",
       "      <td>short-haul</td>\n",
       "      <td>False</td>\n",
       "      <td>18</td>\n",
       "      <td>324</td>\n",
       "      <td>104976</td>\n",
       "    </tr>\n",
       "  </tbody>\n",
       "</table>\n",
       "</div>"
      ],
      "text/plain": [
       "  UniqueCarrier Origin Dest  Distance  month  WeekDay  MonthDay  is_weekend  \\\n",
       "0            AA    ATL  DFW       732      8        7        21        True   \n",
       "1            US    PIT  MCO       834      4        3        20       False   \n",
       "2            XE    RDU  CLE       416      9        5         2       False   \n",
       "3            OO    DEN  MEM       872     11        6        25        True   \n",
       "4            WN    MDW  OMA       423     10        6         7        True   \n",
       "\n",
       "     category  december_holidays  time_of_day  hour_sqrd  hour_sqrd_2  \n",
       "0  short-haul               True           19        361       130321  \n",
       "1  short-haul              False           15        225        50625  \n",
       "2  short-haul              False           14        196        38416  \n",
       "3  short-haul              False           10        100        10000  \n",
       "4  short-haul              False           18        324       104976  "
      ]
     },
     "execution_count": 27,
     "metadata": {},
     "output_type": "execute_result"
    }
   ],
   "source": [
    "X.head()"
   ]
  },
  {
   "cell_type": "code",
   "execution_count": 28,
   "id": "07c97277",
   "metadata": {},
   "outputs": [],
   "source": [
    "feature_importance = pd.Series(clf.feature_importances_, index=X.columns).sort_values(ascending=False)"
   ]
  },
  {
   "cell_type": "code",
   "execution_count": 29,
   "id": "11c4ead0",
   "metadata": {},
   "outputs": [
    {
     "data": {
      "text/plain": [
       "13"
      ]
     },
     "execution_count": 29,
     "metadata": {},
     "output_type": "execute_result"
    }
   ],
   "source": [
    "len(feature_importance)"
   ]
  },
  {
   "cell_type": "code",
   "execution_count": 30,
   "id": "e836946a",
   "metadata": {},
   "outputs": [
    {
     "data": {
      "image/png": "[encoded data removed]",
      "text/plain": [
       "<Figure size 640x480 with 1 Axes>"
      ]
     },
     "metadata": {},
     "output_type": "display_data"
    }
   ],
   "source": [
    "sns.barplot(x=feature_importance.values, y=feature_importance.index);"
   ]
  },
  {
   "cell_type": "code",
   "execution_count": 31,
   "id": "5c4c0388",
   "metadata": {},
   "outputs": [],
   "source": [
    "import optuna"
   ]
  },
  {
   "cell_type": "code",
   "execution_count": 32,
   "id": "5f1dca72",
   "metadata": {},
   "outputs": [],
   "source": [
    "def objective(trial):\n",
    "    params = {\n",
    "        \"iterations\": trial.suggest_int(\"iterations\", 500, 2000),\n",
    "        \"learning_rate\": trial.suggest_float(\"learning_rate\", 0.01, 0.1),\n",
    "        \"depth\": trial.suggest_int(\"depth\", 4, 10),\n",
    "        \"l2_leaf_reg\": trial.suggest_float(\"l2_leaf_reg\", 2, 10),\n",
    "        \"random_strength\": trial.suggest_int(\"random_strength\", 1, 10),\n",
    "        \"bagging_temperature\": trial.suggest_float(\"bagging_temperature\", 1, 10),\n",
    "        \"border_count\": trial.suggest_int(\"border_count\", 32, 256)\n",
    "    }\n",
    "    \n",
    "    clf = CatBoostClassifier(**params, verbose=False, cat_features=[0, 1, 2, 4,8, 9])\n",
    "    clf.fit(X_train, y_train)\n",
    "    y_preds = clf.predict_proba(X_valid)[:, 1]\n",
    "    return roc_auc_score(y_valid, y_preds)"
   ]
  },
  {
   "cell_type": "code",
   "execution_count": 33,
   "id": "24b35de8",
   "metadata": {},
   "outputs": [
    {
     "name": "stderr",
     "output_type": "stream",
     "text": [
      "[I 2024-08-30 15:01:52,775] A new study created in memory with name: no-name-eba15a7f-8098-4340-8246-693fa2529272\n"
     ]
    }
   ],
   "source": [
    "study = optuna.create_study(direction=\"maximize\")"
   ]
  },
  {
   "cell_type": "code",
   "execution_count": 34,
   "id": "f64dbea3",
   "metadata": {},
   "outputs": [
    {
     "data": {
      "application/vnd.jupyter.widget-view+json": {
       "model_id": "c1ca4a019c04418a900fd9ecf9d6c69a",
       "version_major": 2,
       "version_minor": 0
      },
      "text/plain": [
       "  0%|          | 0/20 [00:00<?, ?it/s]"
      ]
     },
     "metadata": {},
     "output_type": "display_data"
    },
    {
     "name": "stdout",
     "output_type": "stream",
     "text": [
      "[I 2024-08-30 15:04:01,339] Trial 0 finished with value: 0.7350988880885417 and parameters: {'iterations': 737, 'learning_rate': 0.03565758315075242, 'depth': 7, 'l2_leaf_reg': 5.384942724442144, 'random_strength': 9, 'bagging_temperature': 5.876293146244058, 'border_count': 78}. Best is trial 0 with value: 0.7350988880885417.\n",
      "[I 2024-08-30 15:06:14,089] Trial 2 finished with value: 0.7369707082381654 and parameters: {'iterations': 1827, 'learning_rate': 0.02606023533035577, 'depth': 5, 'l2_leaf_reg': 2.1976880005950656, 'random_strength': 2, 'bagging_temperature': 9.213765155401179, 'border_count': 104}. Best is trial 2 with value: 0.7369707082381654.\n",
      "[I 2024-08-30 15:06:32,350] Trial 1 finished with value: 0.73973485887768 and parameters: {'iterations': 1637, 'learning_rate': 0.05789692448240518, 'depth': 6, 'l2_leaf_reg': 4.6015981700902024, 'random_strength': 2, 'bagging_temperature': 6.526125173960081, 'border_count': 187}. Best is trial 1 with value: 0.73973485887768.\n",
      "[I 2024-08-30 15:06:59,734] Trial 4 finished with value: 0.7363583081671776 and parameters: {'iterations': 1387, 'learning_rate': 0.06618049375759823, 'depth': 4, 'l2_leaf_reg': 2.1712036041969958, 'random_strength': 6, 'bagging_temperature': 6.284250935478242, 'border_count': 59}. Best is trial 1 with value: 0.73973485887768.\n",
      "[I 2024-08-30 15:08:15,060] Trial 5 finished with value: 0.7369731960278234 and parameters: {'iterations': 979, 'learning_rate': 0.09697414947709795, 'depth': 4, 'l2_leaf_reg': 5.00648933927515, 'random_strength': 2, 'bagging_temperature': 9.0470504165432, 'border_count': 97}. Best is trial 1 with value: 0.73973485887768.\n",
      "[I 2024-08-30 15:08:25,855] Trial 3 finished with value: 0.7364959874945376 and parameters: {'iterations': 1366, 'learning_rate': 0.05410135243609829, 'depth': 9, 'l2_leaf_reg': 8.316327072314406, 'random_strength': 1, 'bagging_temperature': 7.126450191032986, 'border_count': 202}. Best is trial 1 with value: 0.73973485887768.\n",
      "[I 2024-08-30 15:11:33,882] Trial 8 finished with value: 0.7355733059708199 and parameters: {'iterations': 708, 'learning_rate': 0.030894702466424763, 'depth': 10, 'l2_leaf_reg': 2.3499847211011593, 'random_strength': 10, 'bagging_temperature': 4.728322498706456, 'border_count': 206}. Best is trial 1 with value: 0.73973485887768.\n",
      "[I 2024-08-30 15:12:02,766] Trial 9 finished with value: 0.7257506398721193 and parameters: {'iterations': 1132, 'learning_rate': 0.011934182757203562, 'depth': 7, 'l2_leaf_reg': 5.983300703600463, 'random_strength': 4, 'bagging_temperature': 6.946286163458697, 'border_count': 227}. Best is trial 1 with value: 0.73973485887768.\n",
      "[I 2024-08-30 15:12:50,036] Trial 6 finished with value: 0.7405343118870072 and parameters: {'iterations': 1874, 'learning_rate': 0.030918802363867737, 'depth': 7, 'l2_leaf_reg': 3.1544301038203555, 'random_strength': 4, 'bagging_temperature': 4.379209727296892, 'border_count': 182}. Best is trial 6 with value: 0.7405343118870072.\n",
      "[I 2024-08-30 15:13:30,527] Trial 7 finished with value: 0.7385971385847169 and parameters: {'iterations': 1682, 'learning_rate': 0.026807935270857237, 'depth': 8, 'l2_leaf_reg': 2.6482922656323407, 'random_strength': 5, 'bagging_temperature': 2.2789630353041925, 'border_count': 134}. Best is trial 6 with value: 0.7405343118870072.\n",
      "[I 2024-08-30 15:14:17,797] Trial 10 finished with value: 0.7377988393329121 and parameters: {'iterations': 611, 'learning_rate': 0.07406631510988777, 'depth': 9, 'l2_leaf_reg': 7.821466281737357, 'random_strength': 10, 'bagging_temperature': 9.945786044948148, 'border_count': 235}. Best is trial 6 with value: 0.7405343118870072.\n",
      "[I 2024-08-30 15:14:55,944] Trial 12 finished with value: 0.7379441046159826 and parameters: {'iterations': 640, 'learning_rate': 0.06862221105383784, 'depth': 7, 'l2_leaf_reg': 3.987629683640181, 'random_strength': 10, 'bagging_temperature': 3.4543563636453207, 'border_count': 230}. Best is trial 6 with value: 0.7405343118870072.\n",
      "[I 2024-08-30 15:17:07,663] Trial 11 finished with value: 0.7336635344096896 and parameters: {'iterations': 1356, 'learning_rate': 0.014165049239603274, 'depth': 9, 'l2_leaf_reg': 5.091102579889461, 'random_strength': 7, 'bagging_temperature': 5.866993813006108, 'border_count': 49}. Best is trial 6 with value: 0.7405343118870072.\n",
      "[I 2024-08-30 15:19:45,750] Trial 15 finished with value: 0.7395382441738725 and parameters: {'iterations': 1613, 'learning_rate': 0.04513478915998941, 'depth': 6, 'l2_leaf_reg': 4.441772701874224, 'random_strength': 4, 'bagging_temperature': 4.3124526049780885, 'border_count': 168}. Best is trial 6 with value: 0.7405343118870072.\n",
      "[I 2024-08-30 15:20:11,182] Trial 14 finished with value: 0.7396074047263633 and parameters: {'iterations': 1994, 'learning_rate': 0.05026482214934704, 'depth': 6, 'l2_leaf_reg': 3.897072769043011, 'random_strength': 4, 'bagging_temperature': 3.724842010830075, 'border_count': 164}. Best is trial 6 with value: 0.7405343118870072.\n",
      "[I 2024-08-30 15:21:09,527] Trial 13 finished with value: 0.7337958271316164 and parameters: {'iterations': 1941, 'learning_rate': 0.08642227976511876, 'depth': 8, 'l2_leaf_reg': 9.795317712273974, 'random_strength': 7, 'bagging_temperature': 2.8742433959425755, 'border_count': 158}. Best is trial 6 with value: 0.7405343118870072.\n",
      "[I 2024-08-30 15:22:15,293] Trial 16 finished with value: 0.7403989617076461 and parameters: {'iterations': 1692, 'learning_rate': 0.0474167318652418, 'depth': 6, 'l2_leaf_reg': 3.683991048129003, 'random_strength': 3, 'bagging_temperature': 4.235152714757421, 'border_count': 158}. Best is trial 6 with value: 0.7405343118870072.\n",
      "[I 2024-08-30 15:24:21,560] Trial 18 finished with value: 0.7389153881753366 and parameters: {'iterations': 1629, 'learning_rate': 0.08839419727447717, 'depth': 6, 'l2_leaf_reg': 6.542398557334562, 'random_strength': 2, 'bagging_temperature': 1.811875029994508, 'border_count': 185}. Best is trial 6 with value: 0.7405343118870072.\n",
      "[I 2024-08-30 15:24:31,417] Trial 17 finished with value: 0.7396719646707332 and parameters: {'iterations': 1919, 'learning_rate': 0.05032136926274749, 'depth': 6, 'l2_leaf_reg': 9.885764242800068, 'random_strength': 3, 'bagging_temperature': 1.432227811332035, 'border_count': 158}. Best is trial 6 with value: 0.7405343118870072.\n",
      "[I 2024-08-30 15:24:43,430] Trial 19 finished with value: 0.7390205603844995 and parameters: {'iterations': 1620, 'learning_rate': 0.03968187309267515, 'depth': 6, 'l2_leaf_reg': 7.328446042224484, 'random_strength': 2, 'bagging_temperature': 1.259322188996462, 'border_count': 185}. Best is trial 6 with value: 0.7405343118870072.\n"
     ]
    }
   ],
   "source": [
    "study.optimize(objective, n_jobs=-1, n_trials=20, show_progress_bar=True)"
   ]
  },
  {
   "cell_type": "code",
   "execution_count": 35,
   "id": "ee94bf77",
   "metadata": {},
   "outputs": [
    {
     "data": {
      "text/plain": [
       "{'iterations': 1874,\n",
       " 'learning_rate': 0.030918802363867737,\n",
       " 'depth': 7,\n",
       " 'l2_leaf_reg': 3.1544301038203555,\n",
       " 'random_strength': 4,\n",
       " 'bagging_temperature': 4.379209727296892,\n",
       " 'border_count': 182}"
      ]
     },
     "execution_count": 35,
     "metadata": {},
     "output_type": "execute_result"
    }
   ],
   "source": [
    "study.best_params"
   ]
  },
  {
   "cell_type": "code",
   "execution_count": 36,
   "id": "f76d9f86",
   "metadata": {},
   "outputs": [
    {
     "data": {
      "text/plain": [
       "0.7405343118870072"
      ]
     },
     "execution_count": 36,
     "metadata": {},
     "output_type": "execute_result"
    }
   ],
   "source": [
    "study.best_value"
   ]
  },
  {
   "cell_type": "code",
   "execution_count": 37,
   "id": "7028e810",
   "metadata": {},
   "outputs": [],
   "source": [
    "clf = CatBoostClassifier(**study.best_params, verbose=False, cat_features=[0, 1, 2, 4,8, 9])"
   ]
  },
  {
   "cell_type": "code",
   "execution_count": 38,
   "id": "e0edd631",
   "metadata": {},
   "outputs": [
    {
     "data": {
      "application/vnd.jupyter.widget-view+json": {
       "model_id": "c7b51b1e6f1942f4a3358f0f7540b7fa",
       "version_major": 2,
       "version_minor": 0
      },
      "text/plain": [
       "MetricVisualizer(layout=Layout(align_self='stretch', height='500px'))"
      ]
     },
     "metadata": {},
     "output_type": "display_data"
    }
   ],
   "source": [
    "clf.fit(X_train, y_train, verbose=False, plot=True);"
   ]
  },
  {
   "cell_type": "code",
   "execution_count": 39,
   "id": "365bb63c",
   "metadata": {},
   "outputs": [
    {
     "data": {
      "text/html": [
       "<div>\n",
       "<style scoped>\n",
       "    .dataframe tbody tr th:only-of-type {\n",
       "        vertical-align: middle;\n",
       "    }\n",
       "\n",
       "    .dataframe tbody tr th {\n",
       "        vertical-align: top;\n",
       "    }\n",
       "\n",
       "    .dataframe thead th {\n",
       "        text-align: right;\n",
       "    }\n",
       "</style>\n",
       "<table border=\"1\" class=\"dataframe\">\n",
       "  <thead>\n",
       "    <tr style=\"text-align: right;\">\n",
       "      <th></th>\n",
       "      <th>UniqueCarrier</th>\n",
       "      <th>Origin</th>\n",
       "      <th>Dest</th>\n",
       "      <th>Distance</th>\n",
       "      <th>dep_delayed_15min</th>\n",
       "      <th>month</th>\n",
       "      <th>WeekDay</th>\n",
       "      <th>MonthDay</th>\n",
       "      <th>is_weekend</th>\n",
       "      <th>category</th>\n",
       "      <th>december_holidays</th>\n",
       "      <th>time_of_day</th>\n",
       "      <th>hour_sqrd</th>\n",
       "      <th>hour_sqrd_2</th>\n",
       "    </tr>\n",
       "  </thead>\n",
       "  <tbody>\n",
       "    <tr>\n",
       "      <th>0</th>\n",
       "      <td>YV</td>\n",
       "      <td>MRY</td>\n",
       "      <td>PHX</td>\n",
       "      <td>598</td>\n",
       "      <td>NaN</td>\n",
       "      <td>7</td>\n",
       "      <td>3</td>\n",
       "      <td>25</td>\n",
       "      <td>False</td>\n",
       "      <td>short-haul</td>\n",
       "      <td>True</td>\n",
       "      <td>6</td>\n",
       "      <td>36</td>\n",
       "      <td>1296</td>\n",
       "    </tr>\n",
       "    <tr>\n",
       "      <th>1</th>\n",
       "      <td>WN</td>\n",
       "      <td>LAS</td>\n",
       "      <td>HOU</td>\n",
       "      <td>1235</td>\n",
       "      <td>NaN</td>\n",
       "      <td>4</td>\n",
       "      <td>2</td>\n",
       "      <td>17</td>\n",
       "      <td>False</td>\n",
       "      <td>short-haul</td>\n",
       "      <td>False</td>\n",
       "      <td>7</td>\n",
       "      <td>49</td>\n",
       "      <td>2401</td>\n",
       "    </tr>\n",
       "    <tr>\n",
       "      <th>2</th>\n",
       "      <td>MQ</td>\n",
       "      <td>GSP</td>\n",
       "      <td>ORD</td>\n",
       "      <td>577</td>\n",
       "      <td>NaN</td>\n",
       "      <td>12</td>\n",
       "      <td>7</td>\n",
       "      <td>2</td>\n",
       "      <td>True</td>\n",
       "      <td>short-haul</td>\n",
       "      <td>False</td>\n",
       "      <td>6</td>\n",
       "      <td>36</td>\n",
       "      <td>1296</td>\n",
       "    </tr>\n",
       "    <tr>\n",
       "      <th>3</th>\n",
       "      <td>WN</td>\n",
       "      <td>BWI</td>\n",
       "      <td>MHT</td>\n",
       "      <td>377</td>\n",
       "      <td>NaN</td>\n",
       "      <td>3</td>\n",
       "      <td>7</td>\n",
       "      <td>25</td>\n",
       "      <td>True</td>\n",
       "      <td>short-haul</td>\n",
       "      <td>False</td>\n",
       "      <td>16</td>\n",
       "      <td>256</td>\n",
       "      <td>65536</td>\n",
       "    </tr>\n",
       "    <tr>\n",
       "      <th>4</th>\n",
       "      <td>UA</td>\n",
       "      <td>ORD</td>\n",
       "      <td>STL</td>\n",
       "      <td>258</td>\n",
       "      <td>NaN</td>\n",
       "      <td>6</td>\n",
       "      <td>3</td>\n",
       "      <td>6</td>\n",
       "      <td>False</td>\n",
       "      <td>short-haul</td>\n",
       "      <td>True</td>\n",
       "      <td>15</td>\n",
       "      <td>225</td>\n",
       "      <td>50625</td>\n",
       "    </tr>\n",
       "  </tbody>\n",
       "</table>\n",
       "</div>"
      ],
      "text/plain": [
       "  UniqueCarrier Origin Dest  Distance dep_delayed_15min  month  WeekDay  \\\n",
       "0            YV    MRY  PHX       598               NaN      7        3   \n",
       "1            WN    LAS  HOU      1235               NaN      4        2   \n",
       "2            MQ    GSP  ORD       577               NaN     12        7   \n",
       "3            WN    BWI  MHT       377               NaN      3        7   \n",
       "4            UA    ORD  STL       258               NaN      6        3   \n",
       "\n",
       "   MonthDay  is_weekend    category  december_holidays  time_of_day  \\\n",
       "0        25       False  short-haul               True            6   \n",
       "1        17       False  short-haul              False            7   \n",
       "2         2        True  short-haul              False            6   \n",
       "3        25        True  short-haul              False           16   \n",
       "4         6       False  short-haul               True           15   \n",
       "\n",
       "   hour_sqrd  hour_sqrd_2  \n",
       "0         36         1296  \n",
       "1         49         2401  \n",
       "2         36         1296  \n",
       "3        256        65536  \n",
       "4        225        50625  "
      ]
     },
     "execution_count": 39,
     "metadata": {},
     "output_type": "execute_result"
    }
   ],
   "source": [
    "test_df.head()"
   ]
  },
  {
   "cell_type": "code",
   "execution_count": 40,
   "id": "767fe1ff",
   "metadata": {},
   "outputs": [
    {
     "data": {
      "text/plain": [
       "{'delayed'}"
      ]
     },
     "execution_count": 40,
     "metadata": {},
     "output_type": "execute_result"
    }
   ],
   "source": [
    "set(train_df) - set(test_df)"
   ]
  },
  {
   "cell_type": "code",
   "execution_count": 41,
   "id": "5ef2b85b",
   "metadata": {},
   "outputs": [
    {
     "name": "stderr",
     "output_type": "stream",
     "text": [
      "C:\\Users\\Panache Branding\\AppData\\Local\\Temp\\ipykernel_9440\\324328343.py:1: SettingWithCopyWarning: \n",
      "A value is trying to be set on a copy of a slice from a DataFrame\n",
      "\n",
      "See the caveats in the documentation: https://pandas.pydata.org/pandas-docs/stable/user_guide/indexing.html#returning-a-view-versus-a-copy\n",
      "  test_df.drop(\"dep_delayed_15min\", axis=1, inplace=True)\n"
     ]
    }
   ],
   "source": [
    "test_df.drop(\"dep_delayed_15min\", axis=1, inplace=True)"
   ]
  },
  {
   "cell_type": "code",
   "execution_count": 42,
   "id": "ed57a7cf",
   "metadata": {},
   "outputs": [],
   "source": [
    "y_preds = clf.predict_proba(test_df)[:, 1]"
   ]
  },
  {
   "cell_type": "code",
   "execution_count": 43,
   "id": "fb675123",
   "metadata": {},
   "outputs": [],
   "source": [
    "submission_df = pd.DataFrame({\"id\": range(len(y_preds)), \"dep_delayed_15min\": y_preds})"
   ]
  },
  {
   "cell_type": "code",
   "execution_count": 44,
   "id": "7510d96e",
   "metadata": {},
   "outputs": [],
   "source": [
    "submission_df.to_csv(\"submission_2.csv\", index=False)"
   ]
  },
  {
   "cell_type": "code",
   "execution_count": 45,
   "id": "c889fdc9",
   "metadata": {},
   "outputs": [
    {
     "data": {
      "text/plain": [
       "100000"
      ]
     },
     "execution_count": 45,
     "metadata": {},
     "output_type": "execute_result"
    }
   ],
   "source": [
    "len(submission_df)"
   ]
  },
  {
   "cell_type": "code",
   "execution_count": null,
   "id": "aff2d49e",
   "metadata": {},
   "outputs": [],
   "source": []
  }
 ],
 "metadata": {
  "kernelspec": {
   "display_name": "Python 3 (ipykernel)",
   "language": "python",
   "name": "python3"
  },
  "language_info": {
   "codemirror_mode": {
    "name": "ipython",
    "version": 3
   },
   "file_extension": ".py",
   "mimetype": "text/x-python",
   "name": "python",
   "nbconvert_exporter": "python",
   "pygments_lexer": "ipython3",
   "version": "3.9.19"
  }
 },
 "nbformat": 4,
 "nbformat_minor": 5
}
