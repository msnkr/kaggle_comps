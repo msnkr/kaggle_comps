{
 "cells": [
  {
   "cell_type": "code",
   "execution_count": 1,
   "id": "2bed6c22",
   "metadata": {},
   "outputs": [],
   "source": [
    "import pandas as pd\n",
    "import numpy as np"
   ]
  },
  {
   "cell_type": "code",
   "execution_count": 2,
   "id": "2ec6905c",
   "metadata": {},
   "outputs": [],
   "source": [
    "df_1 = pd.read_csv(\"../data/Flight delays/flight_delays_train.csv\")\n",
    "df_2 = pd.read_csv(\"../data/Flight delays/flight_delays_test.csv\")"
   ]
  },
  {
   "cell_type": "code",
   "execution_count": 3,
   "id": "aff9cc90",
   "metadata": {},
   "outputs": [
    {
     "data": {
      "text/plain": [
       "((100000, 9), (100000, 8))"
      ]
     },
     "execution_count": 3,
     "metadata": {},
     "output_type": "execute_result"
    }
   ],
   "source": [
    "df_1.shape, df_2.shape"
   ]
  },
  {
   "cell_type": "code",
   "execution_count": 4,
   "id": "55a31785",
   "metadata": {},
   "outputs": [],
   "source": [
    "df = pd.concat([df_1, df_2])"
   ]
  },
  {
   "cell_type": "code",
   "execution_count": 5,
   "id": "a46256e6",
   "metadata": {},
   "outputs": [],
   "source": [
    "df[\"month\"] = df[\"Month\"].str.replace(\"c-\", \"\").astype(int)\n",
    "df[\"WeekDay\"] = df[\"DayOfWeek\"].str.replace(\"c-\", \"\").astype(int)\n",
    "df[\"MonthDay\"] = df[\"DayofMonth\"].str.replace(\"c-\", \"\").astype(int)"
   ]
  },
  {
   "cell_type": "code",
   "execution_count": 6,
   "id": "5a5fc5f8",
   "metadata": {},
   "outputs": [],
   "source": [
    "df[\"is_weekend\"] = (df[\"WeekDay\"] == 6) | (df[\"WeekDay\"] == 7)"
   ]
  },
  {
   "cell_type": "code",
   "execution_count": 7,
   "id": "5435b791",
   "metadata": {},
   "outputs": [],
   "source": [
    "def categorize_dist(distance):\n",
    "    if distance <= 1500:\n",
    "        return \"short-haul\"\n",
    "    elif 1500 < distance <= 3000:\n",
    "        return \"medium-haul\"\n",
    "    else:\n",
    "        return \"long_haul\""
   ]
  },
  {
   "cell_type": "code",
   "execution_count": 8,
   "id": "bc4f1305",
   "metadata": {},
   "outputs": [],
   "source": [
    "df[\"category\"] = df[\"Distance\"].apply(categorize_dist)"
   ]
  },
  {
   "cell_type": "code",
   "execution_count": 9,
   "id": "a297b171",
   "metadata": {},
   "outputs": [],
   "source": [
    "df[\"time\"] = pd.to_datetime(df[\"DepTime\"], format=\"%H%M\", errors=\"coerce\").dt.time"
   ]
  },
  {
   "cell_type": "code",
   "execution_count": 10,
   "id": "3fb93f1a",
   "metadata": {},
   "outputs": [],
   "source": [
    "df['time'] = df[\"time\"].fillna(\"00:00\")"
   ]
  },
  {
   "cell_type": "code",
   "execution_count": 11,
   "id": "27f31dc3",
   "metadata": {},
   "outputs": [],
   "source": [
    "df.drop([\"Month\", \"DayofMonth\", \"DayOfWeek\", \"DepTime\"], axis=1, inplace=True)"
   ]
  },
  {
   "cell_type": "code",
   "execution_count": 12,
   "id": "e73aa0c2",
   "metadata": {},
   "outputs": [
    {
     "data": {
      "text/html": [
       "<div>\n",
       "<style scoped>\n",
       "    .dataframe tbody tr th:only-of-type {\n",
       "        vertical-align: middle;\n",
       "    }\n",
       "\n",
       "    .dataframe tbody tr th {\n",
       "        vertical-align: top;\n",
       "    }\n",
       "\n",
       "    .dataframe thead th {\n",
       "        text-align: right;\n",
       "    }\n",
       "</style>\n",
       "<table border=\"1\" class=\"dataframe\">\n",
       "  <thead>\n",
       "    <tr style=\"text-align: right;\">\n",
       "      <th></th>\n",
       "      <th>UniqueCarrier</th>\n",
       "      <th>Origin</th>\n",
       "      <th>Dest</th>\n",
       "      <th>Distance</th>\n",
       "      <th>dep_delayed_15min</th>\n",
       "      <th>month</th>\n",
       "      <th>WeekDay</th>\n",
       "      <th>MonthDay</th>\n",
       "      <th>is_weekend</th>\n",
       "      <th>category</th>\n",
       "      <th>time</th>\n",
       "    </tr>\n",
       "  </thead>\n",
       "  <tbody>\n",
       "    <tr>\n",
       "      <th>0</th>\n",
       "      <td>AA</td>\n",
       "      <td>ATL</td>\n",
       "      <td>DFW</td>\n",
       "      <td>732</td>\n",
       "      <td>N</td>\n",
       "      <td>8</td>\n",
       "      <td>7</td>\n",
       "      <td>21</td>\n",
       "      <td>True</td>\n",
       "      <td>short-haul</td>\n",
       "      <td>19:34:00</td>\n",
       "    </tr>\n",
       "    <tr>\n",
       "      <th>1</th>\n",
       "      <td>US</td>\n",
       "      <td>PIT</td>\n",
       "      <td>MCO</td>\n",
       "      <td>834</td>\n",
       "      <td>N</td>\n",
       "      <td>4</td>\n",
       "      <td>3</td>\n",
       "      <td>20</td>\n",
       "      <td>False</td>\n",
       "      <td>short-haul</td>\n",
       "      <td>15:48:00</td>\n",
       "    </tr>\n",
       "    <tr>\n",
       "      <th>2</th>\n",
       "      <td>XE</td>\n",
       "      <td>RDU</td>\n",
       "      <td>CLE</td>\n",
       "      <td>416</td>\n",
       "      <td>N</td>\n",
       "      <td>9</td>\n",
       "      <td>5</td>\n",
       "      <td>2</td>\n",
       "      <td>False</td>\n",
       "      <td>short-haul</td>\n",
       "      <td>14:22:00</td>\n",
       "    </tr>\n",
       "    <tr>\n",
       "      <th>3</th>\n",
       "      <td>OO</td>\n",
       "      <td>DEN</td>\n",
       "      <td>MEM</td>\n",
       "      <td>872</td>\n",
       "      <td>N</td>\n",
       "      <td>11</td>\n",
       "      <td>6</td>\n",
       "      <td>25</td>\n",
       "      <td>True</td>\n",
       "      <td>short-haul</td>\n",
       "      <td>10:15:00</td>\n",
       "    </tr>\n",
       "    <tr>\n",
       "      <th>4</th>\n",
       "      <td>WN</td>\n",
       "      <td>MDW</td>\n",
       "      <td>OMA</td>\n",
       "      <td>423</td>\n",
       "      <td>Y</td>\n",
       "      <td>10</td>\n",
       "      <td>6</td>\n",
       "      <td>7</td>\n",
       "      <td>True</td>\n",
       "      <td>short-haul</td>\n",
       "      <td>18:28:00</td>\n",
       "    </tr>\n",
       "  </tbody>\n",
       "</table>\n",
       "</div>"
      ],
      "text/plain": [
       "  UniqueCarrier Origin Dest  Distance dep_delayed_15min  month  WeekDay  \\\n",
       "0            AA    ATL  DFW       732                 N      8        7   \n",
       "1            US    PIT  MCO       834                 N      4        3   \n",
       "2            XE    RDU  CLE       416                 N      9        5   \n",
       "3            OO    DEN  MEM       872                 N     11        6   \n",
       "4            WN    MDW  OMA       423                 Y     10        6   \n",
       "\n",
       "   MonthDay  is_weekend    category      time  \n",
       "0        21        True  short-haul  19:34:00  \n",
       "1        20       False  short-haul  15:48:00  \n",
       "2         2       False  short-haul  14:22:00  \n",
       "3        25        True  short-haul  10:15:00  \n",
       "4         7        True  short-haul  18:28:00  "
      ]
     },
     "execution_count": 12,
     "metadata": {},
     "output_type": "execute_result"
    }
   ],
   "source": [
    "df.head()"
   ]
  },
  {
   "cell_type": "code",
   "execution_count": null,
   "id": "16211e76",
   "metadata": {},
   "outputs": [],
   "source": []
  }
 ],
 "metadata": {
  "kernelspec": {
   "display_name": "Python 3 (ipykernel)",
   "language": "python",
   "name": "python3"
  },
  "language_info": {
   "codemirror_mode": {
    "name": "ipython",
    "version": 3
   },
   "file_extension": ".py",
   "mimetype": "text/x-python",
   "name": "python",
   "nbconvert_exporter": "python",
   "pygments_lexer": "ipython3",
   "version": "3.9.19"
  }
 },
 "nbformat": 4,
 "nbformat_minor": 5
}
