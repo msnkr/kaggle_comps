{
 "cells": [
  {
   "cell_type": "code",
   "execution_count": 1,
   "id": "6e8c001d-3748-466c-ab48-23fe2516257a",
   "metadata": {},
   "outputs": [
    {
     "name": "stdout",
     "output_type": "stream",
     "text": [
      "Num GPUs Available:  1\n"
     ]
    }
   ],
   "source": [
    "import tensorflow as tf\n",
    "\n",
    "# Check for available GPUs\n",
    "gpus = tf.config.list_physical_devices('GPU')\n",
    "\n",
    "if gpus:\n",
    "    print(\"Num GPUs Available: \", len(gpus))\n",
    "else:\n",
    "    print(\"No GPU devices found.\")\n"
   ]
  },
  {
   "cell_type": "code",
   "execution_count": 36,
   "id": "172b841a-8244-4da4-b9c0-d418208d3032",
   "metadata": {},
   "outputs": [],
   "source": [
    "import pandas as pd\n",
    "import numpy as np\n",
    "\n",
    "from sklearn.preprocessing import LabelEncoder\n",
    "\n",
    "import tensorflow as tf\n",
    "from tensorflow.keras import layers"
   ]
  },
  {
   "cell_type": "code",
   "execution_count": 4,
   "id": "df8d8b02-310f-4729-9c03-f5b251f7e5a0",
   "metadata": {},
   "outputs": [],
   "source": [
    "np.set_printoptions(precision=3, suppress=True)"
   ]
  },
  {
   "cell_type": "code",
   "execution_count": 27,
   "id": "4cb2c747-e12c-4a6c-b666-13e8af8178c5",
   "metadata": {},
   "outputs": [],
   "source": [
    "df = pd.read_csv(\"../data/Regression with an Abalone Dataset/train.csv\")"
   ]
  },
  {
   "cell_type": "code",
   "execution_count": 28,
   "id": "fe873ce7-8f19-48ef-a6d8-3601facb7aeb",
   "metadata": {},
   "outputs": [
    {
     "data": {
      "text/html": [
       "<div>\n",
       "<style scoped>\n",
       "    .dataframe tbody tr th:only-of-type {\n",
       "        vertical-align: middle;\n",
       "    }\n",
       "\n",
       "    .dataframe tbody tr th {\n",
       "        vertical-align: top;\n",
       "    }\n",
       "\n",
       "    .dataframe thead th {\n",
       "        text-align: right;\n",
       "    }\n",
       "</style>\n",
       "<table border=\"1\" class=\"dataframe\">\n",
       "  <thead>\n",
       "    <tr style=\"text-align: right;\">\n",
       "      <th></th>\n",
       "      <th>id</th>\n",
       "      <th>Sex</th>\n",
       "      <th>Length</th>\n",
       "      <th>Diameter</th>\n",
       "      <th>Height</th>\n",
       "      <th>Whole weight</th>\n",
       "      <th>Whole weight.1</th>\n",
       "      <th>Whole weight.2</th>\n",
       "      <th>Shell weight</th>\n",
       "      <th>Rings</th>\n",
       "    </tr>\n",
       "  </thead>\n",
       "  <tbody>\n",
       "    <tr>\n",
       "      <th>0</th>\n",
       "      <td>0</td>\n",
       "      <td>F</td>\n",
       "      <td>0.550</td>\n",
       "      <td>0.430</td>\n",
       "      <td>0.150</td>\n",
       "      <td>0.7715</td>\n",
       "      <td>0.3285</td>\n",
       "      <td>0.1465</td>\n",
       "      <td>0.2400</td>\n",
       "      <td>11</td>\n",
       "    </tr>\n",
       "    <tr>\n",
       "      <th>1</th>\n",
       "      <td>1</td>\n",
       "      <td>F</td>\n",
       "      <td>0.630</td>\n",
       "      <td>0.490</td>\n",
       "      <td>0.145</td>\n",
       "      <td>1.1300</td>\n",
       "      <td>0.4580</td>\n",
       "      <td>0.2765</td>\n",
       "      <td>0.3200</td>\n",
       "      <td>11</td>\n",
       "    </tr>\n",
       "    <tr>\n",
       "      <th>2</th>\n",
       "      <td>2</td>\n",
       "      <td>I</td>\n",
       "      <td>0.160</td>\n",
       "      <td>0.110</td>\n",
       "      <td>0.025</td>\n",
       "      <td>0.0210</td>\n",
       "      <td>0.0055</td>\n",
       "      <td>0.0030</td>\n",
       "      <td>0.0050</td>\n",
       "      <td>6</td>\n",
       "    </tr>\n",
       "    <tr>\n",
       "      <th>3</th>\n",
       "      <td>3</td>\n",
       "      <td>M</td>\n",
       "      <td>0.595</td>\n",
       "      <td>0.475</td>\n",
       "      <td>0.150</td>\n",
       "      <td>0.9145</td>\n",
       "      <td>0.3755</td>\n",
       "      <td>0.2055</td>\n",
       "      <td>0.2500</td>\n",
       "      <td>10</td>\n",
       "    </tr>\n",
       "    <tr>\n",
       "      <th>4</th>\n",
       "      <td>4</td>\n",
       "      <td>I</td>\n",
       "      <td>0.555</td>\n",
       "      <td>0.425</td>\n",
       "      <td>0.130</td>\n",
       "      <td>0.7820</td>\n",
       "      <td>0.3695</td>\n",
       "      <td>0.1600</td>\n",
       "      <td>0.1975</td>\n",
       "      <td>9</td>\n",
       "    </tr>\n",
       "  </tbody>\n",
       "</table>\n",
       "</div>"
      ],
      "text/plain": [
       "   id Sex  Length  Diameter  Height  Whole weight  Whole weight.1  \\\n",
       "0   0   F   0.550     0.430   0.150        0.7715          0.3285   \n",
       "1   1   F   0.630     0.490   0.145        1.1300          0.4580   \n",
       "2   2   I   0.160     0.110   0.025        0.0210          0.0055   \n",
       "3   3   M   0.595     0.475   0.150        0.9145          0.3755   \n",
       "4   4   I   0.555     0.425   0.130        0.7820          0.3695   \n",
       "\n",
       "   Whole weight.2  Shell weight  Rings  \n",
       "0          0.1465        0.2400     11  \n",
       "1          0.2765        0.3200     11  \n",
       "2          0.0030        0.0050      6  \n",
       "3          0.2055        0.2500     10  \n",
       "4          0.1600        0.1975      9  "
      ]
     },
     "execution_count": 28,
     "metadata": {},
     "output_type": "execute_result"
    }
   ],
   "source": [
    "df.head()"
   ]
  },
  {
   "cell_type": "code",
   "execution_count": 37,
   "id": "4a39fb4a-2c30-4c83-807c-549bd69f0a66",
   "metadata": {},
   "outputs": [],
   "source": [
    "enc = LabelEncoder()\n",
    "\n",
    "df[\"Sex\"] = enc.fit_transform(df[\"Sex\"])"
   ]
  },
  {
   "cell_type": "code",
   "execution_count": 38,
   "id": "dfb5c5a1-c1fd-4fa5-8215-57372be0c92f",
   "metadata": {},
   "outputs": [
    {
     "data": {
      "text/plain": [
       "id                  int64\n",
       "Sex                 int32\n",
       "Length            float64\n",
       "Diameter          float64\n",
       "Height            float64\n",
       "Whole weight      float64\n",
       "Whole weight.1    float64\n",
       "Whole weight.2    float64\n",
       "Shell weight      float64\n",
       "Rings               int64\n",
       "dtype: object"
      ]
     },
     "execution_count": 38,
     "metadata": {},
     "output_type": "execute_result"
    }
   ],
   "source": [
    "df.dtypes"
   ]
  },
  {
   "cell_type": "code",
   "execution_count": 39,
   "id": "34f91b4b-26a3-4162-b5be-472a6eb110bc",
   "metadata": {},
   "outputs": [],
   "source": [
    "abalone_features = df.copy()\n",
    "abalone_labels = abalone_features.pop(\"Rings\")"
   ]
  },
  {
   "cell_type": "code",
   "execution_count": 40,
   "id": "e61a4c21-e079-4c4f-b727-a46330ebeb6c",
   "metadata": {},
   "outputs": [],
   "source": [
    "abalone_features = np.array(abalone_features)"
   ]
  },
  {
   "cell_type": "code",
   "execution_count": 41,
   "id": "7e9ec21b-5b05-4f3c-80ba-cc6580b1b857",
   "metadata": {},
   "outputs": [
    {
     "data": {
      "text/plain": [
       "array([[    0.   ,     0.   ,     0.55 , ...,     0.329,     0.146,\n",
       "            0.24 ],\n",
       "       [    1.   ,     0.   ,     0.63 , ...,     0.458,     0.277,\n",
       "            0.32 ],\n",
       "       [    2.   ,     1.   ,     0.16 , ...,     0.005,     0.003,\n",
       "            0.005],\n",
       "       ...,\n",
       "       [90612.   ,     1.   ,     0.435, ...,     0.151,     0.079,\n",
       "            0.082],\n",
       "       [90613.   ,     1.   ,     0.345, ...,     0.098,     0.049,\n",
       "            0.07 ],\n",
       "       [90614.   ,     1.   ,     0.425, ...,     0.152,     0.079,\n",
       "            0.105]])"
      ]
     },
     "execution_count": 41,
     "metadata": {},
     "output_type": "execute_result"
    }
   ],
   "source": [
    "abalone_features"
   ]
  },
  {
   "cell_type": "code",
   "execution_count": 42,
   "id": "5c564019-6065-4b43-ab28-ee4d131982d1",
   "metadata": {},
   "outputs": [],
   "source": [
    "abalone_model = tf.keras.Sequential([\n",
    "    layers.Dense(64, activation=\"relu\"),\n",
    "    layers.Dense(1)\n",
    "])"
   ]
  },
  {
   "cell_type": "code",
   "execution_count": 48,
   "id": "807908aa-d94c-44e2-8308-a0b8d8662544",
   "metadata": {},
   "outputs": [],
   "source": [
    "abalone_model.compile(loss=tf.keras.losses.MeanAbsoluteError(),\n",
    "                     optimizer=tf.keras.optimizers.Adam())"
   ]
  },
  {
   "cell_type": "code",
   "execution_count": 50,
   "id": "0666a854-3043-4465-912e-ff31e8a84f74",
   "metadata": {},
   "outputs": [
    {
     "name": "stdout",
     "output_type": "stream",
     "text": [
      "Epoch 1/10\n",
      "2832/2832 [==============================] - 23s 8ms/step - loss: 32.7585\n",
      "Epoch 2/10\n",
      "2832/2832 [==============================] - 22s 8ms/step - loss: 32.3564\n",
      "Epoch 3/10\n",
      "2832/2832 [==============================] - 22s 8ms/step - loss: 30.3958\n",
      "Epoch 4/10\n",
      "2832/2832 [==============================] - 22s 8ms/step - loss: 26.7489\n",
      "Epoch 5/10\n",
      "2832/2832 [==============================] - 22s 8ms/step - loss: 30.7466\n",
      "Epoch 6/10\n",
      "2832/2832 [==============================] - 22s 8ms/step - loss: 26.2035\n",
      "Epoch 7/10\n",
      "2832/2832 [==============================] - 22s 8ms/step - loss: 25.9444\n",
      "Epoch 8/10\n",
      "2832/2832 [==============================] - 22s 8ms/step - loss: 25.9090\n",
      "Epoch 9/10\n",
      "2832/2832 [==============================] - 20s 7ms/step - loss: 25.6254\n",
      "Epoch 10/10\n",
      "2832/2832 [==============================] - 22s 8ms/step - loss: 26.2696\n"
     ]
    }
   ],
   "source": [
    "history = abalone_model.fit(abalone_features, abalone_labels, epochs=10)"
   ]
  },
  {
   "cell_type": "code",
   "execution_count": 52,
   "id": "15f9ea0b-da22-4abb-893b-b9cfa4f910f0",
   "metadata": {},
   "outputs": [
    {
     "name": "stdout",
     "output_type": "stream",
     "text": [
      "dict_keys(['loss'])\n"
     ]
    }
   ],
   "source": [
    "print(history.history.keys())"
   ]
  },
  {
   "cell_type": "code",
   "execution_count": null,
   "id": "b031f87c-7822-4c24-918b-3bd25b9ca3e0",
   "metadata": {},
   "outputs": [],
   "source": []
  }
 ],
 "metadata": {
  "kernelspec": {
   "display_name": "Python 3 (ipykernel)",
   "language": "python",
   "name": "python3"
  },
  "language_info": {
   "codemirror_mode": {
    "name": "ipython",
    "version": 3
   },
   "file_extension": ".py",
   "mimetype": "text/x-python",
   "name": "python",
   "nbconvert_exporter": "python",
   "pygments_lexer": "ipython3",
   "version": "3.9.18"
  }
 },
 "nbformat": 4,
 "nbformat_minor": 5
}
