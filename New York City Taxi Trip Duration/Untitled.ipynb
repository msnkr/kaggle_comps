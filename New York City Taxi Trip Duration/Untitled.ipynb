{
 "cells": [
  {
   "cell_type": "markdown",
   "id": "a3f314d6-c901-4caf-950f-3ea7c16a2abe",
   "metadata": {},
   "source": [
    "### Jupyter Notebook Description: Taxi Trip Duration Prediction\n",
    "\n",
    "---\n",
    "\n",
    "#### Dataset Description\n",
    "\n",
    "This Jupyter notebook analyzes a dataset containing information about taxi trips, aiming to predict the duration of each trip. The dataset includes the following features:\n",
    "\n",
    "- **id**: A unique identifier for each trip.\n",
    "- **vendor_id**: A code indicating the provider associated with the trip record.\n",
    "- **pickup_datetime**: Date and time when the meter was engaged.\n",
    "- **dropoff_datetime**: Date and time when the meter was disengaged.\n",
    "- **passenger_count**: Number of passengers in the vehicle (driver entered value).\n",
    "- **pickup_longitude**: Longitude where the meter was engaged.\n",
    "- **pickup_latitude**: Latitude where the meter was engaged.\n",
    "- **dropoff_longitude**: Longitude where the meter was disengaged.\n",
    "- **dropoff_latitude**: Latitude where the meter was disengaged.\n",
    "- **store_and_fwd_flag**: This flag indicates whether the trip record was held in vehicle memory before sending to the vendor because the vehicle did not have a connection to the server.\n",
    "  - Y = store and forward\n",
    "  - N = not a store and forward trip\n",
    "- **trip_duration**: Duration of the trip in seconds.\n",
    "\n",
    "#### Objective\n",
    "\n",
    "The goal of this notebook is to build a predictive model for estimating the trip duration based on the provided features. The evaluation metric for this competition is Root Mean Squared Logarithmic Error (RMSLE).\n",
    "\n",
    "#### Contents\n",
    "\n",
    "1. **Data Loading and Exploration**\n",
    "   - Loading the dataset\n",
    "   - Exploring the structure of the dataset\n",
    "   - Checking for missing values and data types\n",
    "   \n",
    "2. **Data Preprocessing and Feature Engineering**\n",
    "   - Handling datetime features (pickup_datetime, dropoff_datetime)\n",
    "   - Calculating distance between pickup and dropoff points\n",
    "   - Encoding categorical variables (vendor_id, store_and_fwd_flag)\n",
    "   - Visualizing distributions and correlations\n",
    "   \n",
    "3. **Model Building**\n",
    "   - Splitting data into training and validation sets\n",
    "   - Selecting appropriate models for regression\n",
    "   - Training models and evaluating performance using RMSLE\n",
    "   \n",
    "4. **Model Tuning and Optimization**\n",
    "   - Fine-tuning model parameters using cross-validation\n",
    "   - Addressing overfitting and underfitting\n",
    "   \n",
    "5. **Prediction and Submission**\n",
    "   - Generating predictions on test dataset\n",
    "   - Preparing submission file for competition\n",
    "   \n",
    "6. **Conclusion**\n",
    "   - Summary of findings and potential improvements\n",
    "\n",
    "#### Tools and Libraries\n",
    "\n",
    "- Python\n",
    "- Pandas, NumPy for data manipulation\n",
    "- Matplotlib, Seaborn for data visualization\n",
    "- Scikit-learn for model building and evaluation\n",
    "- CatboostRegressor for model building\n",
    "- Optuna for tuning hyperparameters\n",
    "\n",
    "This notebook serves as a comprehensive guide to understanding the process of predicting taxi trip durations using machine learning techniques, with a focus on achieving optimal performance according to the RMSLE metric."
   ]
  },
  {
   "cell_type": "code",
   "execution_count": 27,
   "id": "808437d9-a989-4788-99bb-37b4f3f7bd02",
   "metadata": {},
   "outputs": [],
   "source": [
    "import pandas as pd\n",
    "import numpy as np\n",
    "\n",
    "from sklearn.model_selection import train_test_split\n",
    "from sklearn.metrics import mean_squared_log_error\n",
    "import optuna\n",
    "from catboost import CatBoostRegressor\n",
    "\n",
    "import matplotlib.pyplot as plt\n",
    "import seaborn as sns"
   ]
  },
  {
   "cell_type": "code",
   "execution_count": 2,
   "id": "19759462-c0ae-47cb-9b1c-18620b1a6ecb",
   "metadata": {},
   "outputs": [],
   "source": [
    "df = pd.read_csv(\"../data/New York City Taxi Trip Duration/train.csv\", parse_dates=[\"dropoff_datetime\", \"pickup_datetime\"])"
   ]
  },
  {
   "cell_type": "code",
   "execution_count": 3,
   "id": "d9e50eb9-fe31-444b-9e41-6efcc6d495e9",
   "metadata": {},
   "outputs": [
    {
     "data": {
      "text/html": [
       "<div>\n",
       "<style scoped>\n",
       "    .dataframe tbody tr th:only-of-type {\n",
       "        vertical-align: middle;\n",
       "    }\n",
       "\n",
       "    .dataframe tbody tr th {\n",
       "        vertical-align: top;\n",
       "    }\n",
       "\n",
       "    .dataframe thead th {\n",
       "        text-align: right;\n",
       "    }\n",
       "</style>\n",
       "<table border=\"1\" class=\"dataframe\">\n",
       "  <thead>\n",
       "    <tr style=\"text-align: right;\">\n",
       "      <th></th>\n",
       "      <th>id</th>\n",
       "      <th>vendor_id</th>\n",
       "      <th>pickup_datetime</th>\n",
       "      <th>dropoff_datetime</th>\n",
       "      <th>passenger_count</th>\n",
       "      <th>pickup_longitude</th>\n",
       "      <th>pickup_latitude</th>\n",
       "      <th>dropoff_longitude</th>\n",
       "      <th>dropoff_latitude</th>\n",
       "      <th>store_and_fwd_flag</th>\n",
       "      <th>trip_duration</th>\n",
       "    </tr>\n",
       "  </thead>\n",
       "  <tbody>\n",
       "    <tr>\n",
       "      <th>0</th>\n",
       "      <td>id2875421</td>\n",
       "      <td>2</td>\n",
       "      <td>2016-03-14 17:24:55</td>\n",
       "      <td>2016-03-14 17:32:30</td>\n",
       "      <td>1</td>\n",
       "      <td>-73.982155</td>\n",
       "      <td>40.767937</td>\n",
       "      <td>-73.964630</td>\n",
       "      <td>40.765602</td>\n",
       "      <td>N</td>\n",
       "      <td>455</td>\n",
       "    </tr>\n",
       "    <tr>\n",
       "      <th>1</th>\n",
       "      <td>id2377394</td>\n",
       "      <td>1</td>\n",
       "      <td>2016-06-12 00:43:35</td>\n",
       "      <td>2016-06-12 00:54:38</td>\n",
       "      <td>1</td>\n",
       "      <td>-73.980415</td>\n",
       "      <td>40.738564</td>\n",
       "      <td>-73.999481</td>\n",
       "      <td>40.731152</td>\n",
       "      <td>N</td>\n",
       "      <td>663</td>\n",
       "    </tr>\n",
       "    <tr>\n",
       "      <th>2</th>\n",
       "      <td>id3858529</td>\n",
       "      <td>2</td>\n",
       "      <td>2016-01-19 11:35:24</td>\n",
       "      <td>2016-01-19 12:10:48</td>\n",
       "      <td>1</td>\n",
       "      <td>-73.979027</td>\n",
       "      <td>40.763939</td>\n",
       "      <td>-74.005333</td>\n",
       "      <td>40.710087</td>\n",
       "      <td>N</td>\n",
       "      <td>2124</td>\n",
       "    </tr>\n",
       "    <tr>\n",
       "      <th>3</th>\n",
       "      <td>id3504673</td>\n",
       "      <td>2</td>\n",
       "      <td>2016-04-06 19:32:31</td>\n",
       "      <td>2016-04-06 19:39:40</td>\n",
       "      <td>1</td>\n",
       "      <td>-74.010040</td>\n",
       "      <td>40.719971</td>\n",
       "      <td>-74.012268</td>\n",
       "      <td>40.706718</td>\n",
       "      <td>N</td>\n",
       "      <td>429</td>\n",
       "    </tr>\n",
       "    <tr>\n",
       "      <th>4</th>\n",
       "      <td>id2181028</td>\n",
       "      <td>2</td>\n",
       "      <td>2016-03-26 13:30:55</td>\n",
       "      <td>2016-03-26 13:38:10</td>\n",
       "      <td>1</td>\n",
       "      <td>-73.973053</td>\n",
       "      <td>40.793209</td>\n",
       "      <td>-73.972923</td>\n",
       "      <td>40.782520</td>\n",
       "      <td>N</td>\n",
       "      <td>435</td>\n",
       "    </tr>\n",
       "  </tbody>\n",
       "</table>\n",
       "</div>"
      ],
      "text/plain": [
       "          id  vendor_id     pickup_datetime    dropoff_datetime  \\\n",
       "0  id2875421          2 2016-03-14 17:24:55 2016-03-14 17:32:30   \n",
       "1  id2377394          1 2016-06-12 00:43:35 2016-06-12 00:54:38   \n",
       "2  id3858529          2 2016-01-19 11:35:24 2016-01-19 12:10:48   \n",
       "3  id3504673          2 2016-04-06 19:32:31 2016-04-06 19:39:40   \n",
       "4  id2181028          2 2016-03-26 13:30:55 2016-03-26 13:38:10   \n",
       "\n",
       "   passenger_count  pickup_longitude  pickup_latitude  dropoff_longitude  \\\n",
       "0                1        -73.982155        40.767937         -73.964630   \n",
       "1                1        -73.980415        40.738564         -73.999481   \n",
       "2                1        -73.979027        40.763939         -74.005333   \n",
       "3                1        -74.010040        40.719971         -74.012268   \n",
       "4                1        -73.973053        40.793209         -73.972923   \n",
       "\n",
       "   dropoff_latitude store_and_fwd_flag  trip_duration  \n",
       "0         40.765602                  N            455  \n",
       "1         40.731152                  N            663  \n",
       "2         40.710087                  N           2124  \n",
       "3         40.706718                  N            429  \n",
       "4         40.782520                  N            435  "
      ]
     },
     "execution_count": 3,
     "metadata": {},
     "output_type": "execute_result"
    }
   ],
   "source": [
    "df.head()"
   ]
  },
  {
   "cell_type": "markdown",
   "id": "ec9e191a-9dc2-4c9e-83b3-4c3683749820",
   "metadata": {},
   "source": [
    "### Let me fix the data"
   ]
  },
  {
   "cell_type": "code",
   "execution_count": 4,
   "id": "1515ea9c-6feb-488d-a756-d6acf4483f9e",
   "metadata": {},
   "outputs": [
    {
     "data": {
      "text/plain": [
       "id                    0.0\n",
       "vendor_id             0.0\n",
       "pickup_datetime       0.0\n",
       "dropoff_datetime      0.0\n",
       "passenger_count       0.0\n",
       "pickup_longitude      0.0\n",
       "pickup_latitude       0.0\n",
       "dropoff_longitude     0.0\n",
       "dropoff_latitude      0.0\n",
       "store_and_fwd_flag    0.0\n",
       "trip_duration         0.0\n",
       "dtype: float64"
      ]
     },
     "execution_count": 4,
     "metadata": {},
     "output_type": "execute_result"
    }
   ],
   "source": [
    "df.isna().mean()"
   ]
  },
  {
   "cell_type": "markdown",
   "id": "aaedcf78-73d9-4b80-b2a5-238ccff39939",
   "metadata": {},
   "source": [
    "No missing values"
   ]
  },
  {
   "cell_type": "code",
   "execution_count": 5,
   "id": "977fcc2b-81eb-4ec7-b28a-ee24c724eab5",
   "metadata": {},
   "outputs": [
    {
     "data": {
      "text/plain": [
       "id                            object\n",
       "vendor_id                      int64\n",
       "pickup_datetime       datetime64[ns]\n",
       "dropoff_datetime      datetime64[ns]\n",
       "passenger_count                int64\n",
       "pickup_longitude             float64\n",
       "pickup_latitude              float64\n",
       "dropoff_longitude            float64\n",
       "dropoff_latitude             float64\n",
       "store_and_fwd_flag            object\n",
       "trip_duration                  int64\n",
       "dtype: object"
      ]
     },
     "execution_count": 5,
     "metadata": {},
     "output_type": "execute_result"
    }
   ],
   "source": [
    "df.dtypes"
   ]
  },
  {
   "cell_type": "code",
   "execution_count": 6,
   "id": "06b8f0c0-a769-4adc-ace5-41140818e8b3",
   "metadata": {},
   "outputs": [],
   "source": [
    "def fix_times(df):\n",
    "    df[\"DayOfPickup\"] = df[\"pickup_datetime\"].dt.day\n",
    "    df[\"HourOfPickup\"] = df[\"pickup_datetime\"].dt.hour\n",
    "    df[\"MinuteOfPickup\"] = df[\"pickup_datetime\"].dt.minute\n",
    "    df[\"SecondOfPickup\"] = df[\"pickup_datetime\"].dt.second\n",
    "    df[\"DayOfDrop\"] = df[\"dropoff_datetime\"].dt.day\n",
    "    df[\"HourOfDrop\"] = df[\"dropoff_datetime\"].dt.hour\n",
    "    df[\"MinuteOfDrop\"] = df[\"dropoff_datetime\"].dt.minute\n",
    "    df[\"SecondOfDrop\"] = df[\"dropoff_datetime\"].dt.second\n",
    "\n",
    "    df.drop([\"pickup_datetime\", \"dropoff_datetime\"], axis=1, inplace=True)\n",
    "\n",
    "    return df"
   ]
  },
  {
   "cell_type": "code",
   "execution_count": 7,
   "id": "943ef402-f515-4595-9503-03d3720d106f",
   "metadata": {},
   "outputs": [],
   "source": [
    "df = fix_times(df)"
   ]
  },
  {
   "cell_type": "code",
   "execution_count": 8,
   "id": "2b07d506-f040-4dfb-b937-c934d6c4c414",
   "metadata": {},
   "outputs": [
    {
     "data": {
      "text/html": [
       "<div>\n",
       "<style scoped>\n",
       "    .dataframe tbody tr th:only-of-type {\n",
       "        vertical-align: middle;\n",
       "    }\n",
       "\n",
       "    .dataframe tbody tr th {\n",
       "        vertical-align: top;\n",
       "    }\n",
       "\n",
       "    .dataframe thead th {\n",
       "        text-align: right;\n",
       "    }\n",
       "</style>\n",
       "<table border=\"1\" class=\"dataframe\">\n",
       "  <thead>\n",
       "    <tr style=\"text-align: right;\">\n",
       "      <th></th>\n",
       "      <th>id</th>\n",
       "      <th>vendor_id</th>\n",
       "      <th>passenger_count</th>\n",
       "      <th>pickup_longitude</th>\n",
       "      <th>pickup_latitude</th>\n",
       "      <th>dropoff_longitude</th>\n",
       "      <th>dropoff_latitude</th>\n",
       "      <th>store_and_fwd_flag</th>\n",
       "      <th>trip_duration</th>\n",
       "      <th>DayOfPickup</th>\n",
       "      <th>HourOfPickup</th>\n",
       "      <th>MinuteOfPickup</th>\n",
       "      <th>SecondOfPickup</th>\n",
       "      <th>DayOfDrop</th>\n",
       "      <th>HourOfDrop</th>\n",
       "      <th>MinuteOfDrop</th>\n",
       "      <th>SecondOfDrop</th>\n",
       "    </tr>\n",
       "  </thead>\n",
       "  <tbody>\n",
       "    <tr>\n",
       "      <th>0</th>\n",
       "      <td>id2875421</td>\n",
       "      <td>2</td>\n",
       "      <td>1</td>\n",
       "      <td>-73.982155</td>\n",
       "      <td>40.767937</td>\n",
       "      <td>-73.964630</td>\n",
       "      <td>40.765602</td>\n",
       "      <td>N</td>\n",
       "      <td>455</td>\n",
       "      <td>14</td>\n",
       "      <td>17</td>\n",
       "      <td>24</td>\n",
       "      <td>55</td>\n",
       "      <td>14</td>\n",
       "      <td>17</td>\n",
       "      <td>32</td>\n",
       "      <td>30</td>\n",
       "    </tr>\n",
       "    <tr>\n",
       "      <th>1</th>\n",
       "      <td>id2377394</td>\n",
       "      <td>1</td>\n",
       "      <td>1</td>\n",
       "      <td>-73.980415</td>\n",
       "      <td>40.738564</td>\n",
       "      <td>-73.999481</td>\n",
       "      <td>40.731152</td>\n",
       "      <td>N</td>\n",
       "      <td>663</td>\n",
       "      <td>12</td>\n",
       "      <td>0</td>\n",
       "      <td>43</td>\n",
       "      <td>35</td>\n",
       "      <td>12</td>\n",
       "      <td>0</td>\n",
       "      <td>54</td>\n",
       "      <td>38</td>\n",
       "    </tr>\n",
       "    <tr>\n",
       "      <th>2</th>\n",
       "      <td>id3858529</td>\n",
       "      <td>2</td>\n",
       "      <td>1</td>\n",
       "      <td>-73.979027</td>\n",
       "      <td>40.763939</td>\n",
       "      <td>-74.005333</td>\n",
       "      <td>40.710087</td>\n",
       "      <td>N</td>\n",
       "      <td>2124</td>\n",
       "      <td>19</td>\n",
       "      <td>11</td>\n",
       "      <td>35</td>\n",
       "      <td>24</td>\n",
       "      <td>19</td>\n",
       "      <td>12</td>\n",
       "      <td>10</td>\n",
       "      <td>48</td>\n",
       "    </tr>\n",
       "    <tr>\n",
       "      <th>3</th>\n",
       "      <td>id3504673</td>\n",
       "      <td>2</td>\n",
       "      <td>1</td>\n",
       "      <td>-74.010040</td>\n",
       "      <td>40.719971</td>\n",
       "      <td>-74.012268</td>\n",
       "      <td>40.706718</td>\n",
       "      <td>N</td>\n",
       "      <td>429</td>\n",
       "      <td>6</td>\n",
       "      <td>19</td>\n",
       "      <td>32</td>\n",
       "      <td>31</td>\n",
       "      <td>6</td>\n",
       "      <td>19</td>\n",
       "      <td>39</td>\n",
       "      <td>40</td>\n",
       "    </tr>\n",
       "    <tr>\n",
       "      <th>4</th>\n",
       "      <td>id2181028</td>\n",
       "      <td>2</td>\n",
       "      <td>1</td>\n",
       "      <td>-73.973053</td>\n",
       "      <td>40.793209</td>\n",
       "      <td>-73.972923</td>\n",
       "      <td>40.782520</td>\n",
       "      <td>N</td>\n",
       "      <td>435</td>\n",
       "      <td>26</td>\n",
       "      <td>13</td>\n",
       "      <td>30</td>\n",
       "      <td>55</td>\n",
       "      <td>26</td>\n",
       "      <td>13</td>\n",
       "      <td>38</td>\n",
       "      <td>10</td>\n",
       "    </tr>\n",
       "  </tbody>\n",
       "</table>\n",
       "</div>"
      ],
      "text/plain": [
       "          id  vendor_id  passenger_count  pickup_longitude  pickup_latitude  \\\n",
       "0  id2875421          2                1        -73.982155        40.767937   \n",
       "1  id2377394          1                1        -73.980415        40.738564   \n",
       "2  id3858529          2                1        -73.979027        40.763939   \n",
       "3  id3504673          2                1        -74.010040        40.719971   \n",
       "4  id2181028          2                1        -73.973053        40.793209   \n",
       "\n",
       "   dropoff_longitude  dropoff_latitude store_and_fwd_flag  trip_duration  \\\n",
       "0         -73.964630         40.765602                  N            455   \n",
       "1         -73.999481         40.731152                  N            663   \n",
       "2         -74.005333         40.710087                  N           2124   \n",
       "3         -74.012268         40.706718                  N            429   \n",
       "4         -73.972923         40.782520                  N            435   \n",
       "\n",
       "   DayOfPickup  HourOfPickup  MinuteOfPickup  SecondOfPickup  DayOfDrop  \\\n",
       "0           14            17              24              55         14   \n",
       "1           12             0              43              35         12   \n",
       "2           19            11              35              24         19   \n",
       "3            6            19              32              31          6   \n",
       "4           26            13              30              55         26   \n",
       "\n",
       "   HourOfDrop  MinuteOfDrop  SecondOfDrop  \n",
       "0          17            32            30  \n",
       "1           0            54            38  \n",
       "2          12            10            48  \n",
       "3          19            39            40  \n",
       "4          13            38            10  "
      ]
     },
     "execution_count": 8,
     "metadata": {},
     "output_type": "execute_result"
    }
   ],
   "source": [
    "df.head()"
   ]
  },
  {
   "cell_type": "code",
   "execution_count": 9,
   "id": "4c7173ef-19f5-42e5-9283-0e1ffe7a4b63",
   "metadata": {},
   "outputs": [],
   "source": [
    "import geopy.distance"
   ]
  },
  {
   "cell_type": "code",
   "execution_count": 10,
   "id": "5159d08c-6123-49d2-a41d-be8a5da273b4",
   "metadata": {},
   "outputs": [],
   "source": [
    "df[\"pickup_cords\"] = list(zip(df[\"pickup_latitude\"], df[\"pickup_longitude\"]))\n",
    "df[\"dropoff_cords\"] = list(zip(df[\"dropoff_latitude\"], df[\"dropoff_longitude\"]))\n",
    "\n",
    "df.drop([\"pickup_latitude\", \"pickup_longitude\", \"dropoff_latitude\", \"dropoff_longitude\"], axis=1, inplace=True)"
   ]
  },
  {
   "cell_type": "code",
   "execution_count": 11,
   "id": "b4b0cf02-18e2-4e68-b752-634846defa50",
   "metadata": {},
   "outputs": [],
   "source": [
    "distance = geopy.distance.geodesic(df[\"pickup_cords\"][0], df[\"dropoff_cords\"][0]).km"
   ]
  },
  {
   "cell_type": "code",
   "execution_count": 12,
   "id": "947b3652-f011-41aa-9400-afe749d651b8",
   "metadata": {},
   "outputs": [],
   "source": [
    "distance = []\n",
    "for x in range(len(df.pickup_cords)):\n",
    "    distance.append(geopy.distance.geodesic(df[\"pickup_cords\"][x], df[\"dropoff_cords\"][x]).km)"
   ]
  },
  {
   "cell_type": "code",
   "execution_count": 13,
   "id": "36ec0957-f0a7-4d9c-8483-cab55344e963",
   "metadata": {},
   "outputs": [],
   "source": [
    "df.drop([\"pickup_cords\", \"dropoff_cords\"], axis=1, inplace=True)"
   ]
  },
  {
   "cell_type": "code",
   "execution_count": 14,
   "id": "90e20b3f-fc6a-4322-9509-877f2f1fee8f",
   "metadata": {},
   "outputs": [],
   "source": [
    "df[\"distance\"] = pd.Series(distance)"
   ]
  },
  {
   "cell_type": "code",
   "execution_count": 15,
   "id": "c6e21edb-d81a-4c13-af3f-34ea67e84a55",
   "metadata": {},
   "outputs": [
    {
     "data": {
      "text/html": [
       "<div>\n",
       "<style scoped>\n",
       "    .dataframe tbody tr th:only-of-type {\n",
       "        vertical-align: middle;\n",
       "    }\n",
       "\n",
       "    .dataframe tbody tr th {\n",
       "        vertical-align: top;\n",
       "    }\n",
       "\n",
       "    .dataframe thead th {\n",
       "        text-align: right;\n",
       "    }\n",
       "</style>\n",
       "<table border=\"1\" class=\"dataframe\">\n",
       "  <thead>\n",
       "    <tr style=\"text-align: right;\">\n",
       "      <th></th>\n",
       "      <th>id</th>\n",
       "      <th>vendor_id</th>\n",
       "      <th>passenger_count</th>\n",
       "      <th>store_and_fwd_flag</th>\n",
       "      <th>trip_duration</th>\n",
       "      <th>DayOfPickup</th>\n",
       "      <th>HourOfPickup</th>\n",
       "      <th>MinuteOfPickup</th>\n",
       "      <th>SecondOfPickup</th>\n",
       "      <th>DayOfDrop</th>\n",
       "      <th>HourOfDrop</th>\n",
       "      <th>MinuteOfDrop</th>\n",
       "      <th>SecondOfDrop</th>\n",
       "      <th>distance</th>\n",
       "    </tr>\n",
       "  </thead>\n",
       "  <tbody>\n",
       "    <tr>\n",
       "      <th>0</th>\n",
       "      <td>id2875421</td>\n",
       "      <td>2</td>\n",
       "      <td>1</td>\n",
       "      <td>N</td>\n",
       "      <td>455</td>\n",
       "      <td>14</td>\n",
       "      <td>17</td>\n",
       "      <td>24</td>\n",
       "      <td>55</td>\n",
       "      <td>14</td>\n",
       "      <td>17</td>\n",
       "      <td>32</td>\n",
       "      <td>30</td>\n",
       "      <td>1.502172</td>\n",
       "    </tr>\n",
       "    <tr>\n",
       "      <th>1</th>\n",
       "      <td>id2377394</td>\n",
       "      <td>1</td>\n",
       "      <td>1</td>\n",
       "      <td>N</td>\n",
       "      <td>663</td>\n",
       "      <td>12</td>\n",
       "      <td>0</td>\n",
       "      <td>43</td>\n",
       "      <td>35</td>\n",
       "      <td>12</td>\n",
       "      <td>0</td>\n",
       "      <td>54</td>\n",
       "      <td>38</td>\n",
       "      <td>1.808660</td>\n",
       "    </tr>\n",
       "    <tr>\n",
       "      <th>2</th>\n",
       "      <td>id3858529</td>\n",
       "      <td>2</td>\n",
       "      <td>1</td>\n",
       "      <td>N</td>\n",
       "      <td>2124</td>\n",
       "      <td>19</td>\n",
       "      <td>11</td>\n",
       "      <td>35</td>\n",
       "      <td>24</td>\n",
       "      <td>19</td>\n",
       "      <td>12</td>\n",
       "      <td>10</td>\n",
       "      <td>48</td>\n",
       "      <td>6.379687</td>\n",
       "    </tr>\n",
       "    <tr>\n",
       "      <th>3</th>\n",
       "      <td>id3504673</td>\n",
       "      <td>2</td>\n",
       "      <td>1</td>\n",
       "      <td>N</td>\n",
       "      <td>429</td>\n",
       "      <td>6</td>\n",
       "      <td>19</td>\n",
       "      <td>32</td>\n",
       "      <td>31</td>\n",
       "      <td>6</td>\n",
       "      <td>19</td>\n",
       "      <td>39</td>\n",
       "      <td>40</td>\n",
       "      <td>1.483632</td>\n",
       "    </tr>\n",
       "    <tr>\n",
       "      <th>4</th>\n",
       "      <td>id2181028</td>\n",
       "      <td>2</td>\n",
       "      <td>1</td>\n",
       "      <td>N</td>\n",
       "      <td>435</td>\n",
       "      <td>26</td>\n",
       "      <td>13</td>\n",
       "      <td>30</td>\n",
       "      <td>55</td>\n",
       "      <td>26</td>\n",
       "      <td>13</td>\n",
       "      <td>38</td>\n",
       "      <td>10</td>\n",
       "      <td>1.187038</td>\n",
       "    </tr>\n",
       "  </tbody>\n",
       "</table>\n",
       "</div>"
      ],
      "text/plain": [
       "          id  vendor_id  passenger_count store_and_fwd_flag  trip_duration  \\\n",
       "0  id2875421          2                1                  N            455   \n",
       "1  id2377394          1                1                  N            663   \n",
       "2  id3858529          2                1                  N           2124   \n",
       "3  id3504673          2                1                  N            429   \n",
       "4  id2181028          2                1                  N            435   \n",
       "\n",
       "   DayOfPickup  HourOfPickup  MinuteOfPickup  SecondOfPickup  DayOfDrop  \\\n",
       "0           14            17              24              55         14   \n",
       "1           12             0              43              35         12   \n",
       "2           19            11              35              24         19   \n",
       "3            6            19              32              31          6   \n",
       "4           26            13              30              55         26   \n",
       "\n",
       "   HourOfDrop  MinuteOfDrop  SecondOfDrop  distance  \n",
       "0          17            32            30  1.502172  \n",
       "1           0            54            38  1.808660  \n",
       "2          12            10            48  6.379687  \n",
       "3          19            39            40  1.483632  \n",
       "4          13            38            10  1.187038  "
      ]
     },
     "execution_count": 15,
     "metadata": {},
     "output_type": "execute_result"
    }
   ],
   "source": [
    "df.head()"
   ]
  },
  {
   "cell_type": "code",
   "execution_count": 16,
   "id": "b34e0897-54c8-4de6-b2c5-9ddee2040e49",
   "metadata": {},
   "outputs": [],
   "source": [
    "df.drop(\"id\", axis=1, inplace=True)"
   ]
  },
  {
   "cell_type": "code",
   "execution_count": 17,
   "id": "d18ed046-c149-4374-a2ac-3480bf598647",
   "metadata": {},
   "outputs": [
    {
     "data": {
      "text/plain": [
       "vendor_id               int64\n",
       "passenger_count         int64\n",
       "store_and_fwd_flag     object\n",
       "trip_duration           int64\n",
       "DayOfPickup             int32\n",
       "HourOfPickup            int32\n",
       "MinuteOfPickup          int32\n",
       "SecondOfPickup          int32\n",
       "DayOfDrop               int32\n",
       "HourOfDrop              int32\n",
       "MinuteOfDrop            int32\n",
       "SecondOfDrop            int32\n",
       "distance              float64\n",
       "dtype: object"
      ]
     },
     "execution_count": 17,
     "metadata": {},
     "output_type": "execute_result"
    }
   ],
   "source": [
    "df.dtypes"
   ]
  },
  {
   "cell_type": "code",
   "execution_count": 18,
   "id": "0316008a-b5dd-4fb5-81fd-c496478eae3a",
   "metadata": {},
   "outputs": [
    {
     "data": {
      "text/plain": [
       "array(['N', 'Y'], dtype=object)"
      ]
     },
     "execution_count": 18,
     "metadata": {},
     "output_type": "execute_result"
    }
   ],
   "source": [
    "df.store_and_fwd_flag.unique()"
   ]
  },
  {
   "cell_type": "code",
   "execution_count": 19,
   "id": "6e819114-5286-4f3a-8d93-f90c90efe5eb",
   "metadata": {},
   "outputs": [],
   "source": [
    "df[\"store_and_fwd_flag\"].replace({\"Y\": 1, \"N\": 0}, inplace=True)"
   ]
  },
  {
   "cell_type": "code",
   "execution_count": 20,
   "id": "51311162-2cec-4c53-afd0-b1ce8d2ca461",
   "metadata": {},
   "outputs": [
    {
     "data": {
      "text/plain": [
       "vendor_id               int64\n",
       "passenger_count         int64\n",
       "store_and_fwd_flag      int64\n",
       "trip_duration           int64\n",
       "DayOfPickup             int32\n",
       "HourOfPickup            int32\n",
       "MinuteOfPickup          int32\n",
       "SecondOfPickup          int32\n",
       "DayOfDrop               int32\n",
       "HourOfDrop              int32\n",
       "MinuteOfDrop            int32\n",
       "SecondOfDrop            int32\n",
       "distance              float64\n",
       "dtype: object"
      ]
     },
     "execution_count": 20,
     "metadata": {},
     "output_type": "execute_result"
    }
   ],
   "source": [
    "df.dtypes"
   ]
  },
  {
   "cell_type": "code",
   "execution_count": 21,
   "id": "cf8ae816-7a50-4369-8840-845759ce726c",
   "metadata": {},
   "outputs": [],
   "source": [
    "X = df.drop(\"trip_duration\", axis=1)\n",
    "y = df[\"trip_duration\"]"
   ]
  },
  {
   "cell_type": "code",
   "execution_count": 22,
   "id": "cb961eef-ee90-4f14-b3be-29dcfb6e578b",
   "metadata": {},
   "outputs": [
    {
     "data": {
      "text/plain": [
       "(1458644, 1458644)"
      ]
     },
     "execution_count": 22,
     "metadata": {},
     "output_type": "execute_result"
    }
   ],
   "source": [
    "len(X), len(y)"
   ]
  },
  {
   "cell_type": "code",
   "execution_count": 23,
   "id": "172ba06b-42cb-42fc-b4d0-0d9a9cc8edfe",
   "metadata": {},
   "outputs": [],
   "source": [
    "X_train, X_valid, y_train, y_valid = train_test_split(X, y, test_size=0.4)"
   ]
  },
  {
   "cell_type": "code",
   "execution_count": 24,
   "id": "35ed040d-3869-4186-b21c-2c2a45e5e684",
   "metadata": {},
   "outputs": [
    {
     "data": {
      "text/plain": [
       "((875186, 12), (583458, 12), (875186,), (583458,))"
      ]
     },
     "execution_count": 24,
     "metadata": {},
     "output_type": "execute_result"
    }
   ],
   "source": [
    "X_train.shape, X_valid.shape, y_train.shape, y_valid.shape"
   ]
  },
  {
   "cell_type": "code",
   "execution_count": 25,
   "id": "cfbcbd20-2ada-414d-bab3-274df16eb091",
   "metadata": {},
   "outputs": [],
   "source": [
    "regr = CatBoostRegressor()"
   ]
  },
  {
   "cell_type": "code",
   "execution_count": 26,
   "id": "a5895cb6-7b4a-4919-9a67-acdf614aa50c",
   "metadata": {},
   "outputs": [
    {
     "data": {
      "application/vnd.jupyter.widget-view+json": {
       "model_id": "c8c537bf8f2f48a3beb2501c10fdb37e",
       "version_major": 2,
       "version_minor": 0
      },
      "text/plain": [
       "MetricVisualizer(layout=Layout(align_self='stretch', height='500px'))"
      ]
     },
     "metadata": {},
     "output_type": "display_data"
    }
   ],
   "source": [
    "regr.fit(X_train, y_train, verbose=False, plot=True);"
   ]
  },
  {
   "cell_type": "code",
   "execution_count": 28,
   "id": "97dc35af-dbc7-4529-97d8-c47de8932a27",
   "metadata": {},
   "outputs": [],
   "source": [
    "y_preds = regr.predict(X_valid)"
   ]
  },
  {
   "cell_type": "code",
   "execution_count": 30,
   "id": "8f616fc6-d165-4ea8-b9a4-74299fbb1788",
   "metadata": {},
   "outputs": [
    {
     "ename": "ValueError",
     "evalue": "Mean Squared Logarithmic Error cannot be used when targets contain negative values.",
     "output_type": "error",
     "traceback": [
      "\u001b[1;31m---------------------------------------------------------------------------\u001b[0m",
      "\u001b[1;31mValueError\u001b[0m                                Traceback (most recent call last)",
      "Cell \u001b[1;32mIn[30], line 1\u001b[0m\n\u001b[1;32m----> 1\u001b[0m \u001b[43mmean_squared_log_error\u001b[49m\u001b[43m(\u001b[49m\u001b[43my_valid\u001b[49m\u001b[43m,\u001b[49m\u001b[43m \u001b[49m\u001b[43my_preds\u001b[49m\u001b[43m,\u001b[49m\u001b[43m \u001b[49m\u001b[43msquared\u001b[49m\u001b[38;5;241;43m=\u001b[39;49m\u001b[38;5;28;43;01mTrue\u001b[39;49;00m\u001b[43m)\u001b[49m\n",
      "File \u001b[1;32m~\\miniconda3\\envs\\catboost_env\\lib\\site-packages\\sklearn\\utils\\_param_validation.py:211\u001b[0m, in \u001b[0;36mvalidate_params.<locals>.decorator.<locals>.wrapper\u001b[1;34m(*args, **kwargs)\u001b[0m\n\u001b[0;32m    205\u001b[0m \u001b[38;5;28;01mtry\u001b[39;00m:\n\u001b[0;32m    206\u001b[0m     \u001b[38;5;28;01mwith\u001b[39;00m config_context(\n\u001b[0;32m    207\u001b[0m         skip_parameter_validation\u001b[38;5;241m=\u001b[39m(\n\u001b[0;32m    208\u001b[0m             prefer_skip_nested_validation \u001b[38;5;129;01mor\u001b[39;00m global_skip_validation\n\u001b[0;32m    209\u001b[0m         )\n\u001b[0;32m    210\u001b[0m     ):\n\u001b[1;32m--> 211\u001b[0m         \u001b[38;5;28;01mreturn\u001b[39;00m func(\u001b[38;5;241m*\u001b[39margs, \u001b[38;5;241m*\u001b[39m\u001b[38;5;241m*\u001b[39mkwargs)\n\u001b[0;32m    212\u001b[0m \u001b[38;5;28;01mexcept\u001b[39;00m InvalidParameterError \u001b[38;5;28;01mas\u001b[39;00m e:\n\u001b[0;32m    213\u001b[0m     \u001b[38;5;66;03m# When the function is just a wrapper around an estimator, we allow\u001b[39;00m\n\u001b[0;32m    214\u001b[0m     \u001b[38;5;66;03m# the function to delegate validation to the estimator, but we replace\u001b[39;00m\n\u001b[0;32m    215\u001b[0m     \u001b[38;5;66;03m# the name of the estimator by the name of the function in the error\u001b[39;00m\n\u001b[0;32m    216\u001b[0m     \u001b[38;5;66;03m# message to avoid confusion.\u001b[39;00m\n\u001b[0;32m    217\u001b[0m     msg \u001b[38;5;241m=\u001b[39m re\u001b[38;5;241m.\u001b[39msub(\n\u001b[0;32m    218\u001b[0m         \u001b[38;5;124mr\u001b[39m\u001b[38;5;124m\"\u001b[39m\u001b[38;5;124mparameter of \u001b[39m\u001b[38;5;124m\\\u001b[39m\u001b[38;5;124mw+ must be\u001b[39m\u001b[38;5;124m\"\u001b[39m,\n\u001b[0;32m    219\u001b[0m         \u001b[38;5;124mf\u001b[39m\u001b[38;5;124m\"\u001b[39m\u001b[38;5;124mparameter of \u001b[39m\u001b[38;5;132;01m{\u001b[39;00mfunc\u001b[38;5;241m.\u001b[39m\u001b[38;5;18m__qualname__\u001b[39m\u001b[38;5;132;01m}\u001b[39;00m\u001b[38;5;124m must be\u001b[39m\u001b[38;5;124m\"\u001b[39m,\n\u001b[0;32m    220\u001b[0m         \u001b[38;5;28mstr\u001b[39m(e),\n\u001b[0;32m    221\u001b[0m     )\n",
      "File \u001b[1;32m~\\miniconda3\\envs\\catboost_env\\lib\\site-packages\\sklearn\\metrics\\_regression.py:567\u001b[0m, in \u001b[0;36mmean_squared_log_error\u001b[1;34m(y_true, y_pred, sample_weight, multioutput, squared)\u001b[0m\n\u001b[0;32m    564\u001b[0m check_consistent_length(y_true, y_pred, sample_weight)\n\u001b[0;32m    566\u001b[0m \u001b[38;5;28;01mif\u001b[39;00m (y_true \u001b[38;5;241m<\u001b[39m \u001b[38;5;241m0\u001b[39m)\u001b[38;5;241m.\u001b[39many() \u001b[38;5;129;01mor\u001b[39;00m (y_pred \u001b[38;5;241m<\u001b[39m \u001b[38;5;241m0\u001b[39m)\u001b[38;5;241m.\u001b[39many():\n\u001b[1;32m--> 567\u001b[0m     \u001b[38;5;28;01mraise\u001b[39;00m \u001b[38;5;167;01mValueError\u001b[39;00m(\n\u001b[0;32m    568\u001b[0m         \u001b[38;5;124m\"\u001b[39m\u001b[38;5;124mMean Squared Logarithmic Error cannot be used when \u001b[39m\u001b[38;5;124m\"\u001b[39m\n\u001b[0;32m    569\u001b[0m         \u001b[38;5;124m\"\u001b[39m\u001b[38;5;124mtargets contain negative values.\u001b[39m\u001b[38;5;124m\"\u001b[39m\n\u001b[0;32m    570\u001b[0m     )\n\u001b[0;32m    572\u001b[0m \u001b[38;5;28;01mreturn\u001b[39;00m mean_squared_error(\n\u001b[0;32m    573\u001b[0m     np\u001b[38;5;241m.\u001b[39mlog1p(y_true),\n\u001b[0;32m    574\u001b[0m     np\u001b[38;5;241m.\u001b[39mlog1p(y_pred),\n\u001b[1;32m   (...)\u001b[0m\n\u001b[0;32m    577\u001b[0m     squared\u001b[38;5;241m=\u001b[39msquared,\n\u001b[0;32m    578\u001b[0m )\n",
      "\u001b[1;31mValueError\u001b[0m: Mean Squared Logarithmic Error cannot be used when targets contain negative values."
     ]
    }
   ],
   "source": [
    "mean_squared_log_error(y_valid, y_preds, squared=True)"
   ]
  },
  {
   "cell_type": "code",
   "execution_count": null,
   "id": "2c68c3dd-3c03-4038-8b9e-f5b3091ce7b8",
   "metadata": {},
   "outputs": [],
   "source": []
  }
 ],
 "metadata": {
  "kernelspec": {
   "display_name": "Python 3 (ipykernel)",
   "language": "python",
   "name": "python3"
  },
  "language_info": {
   "codemirror_mode": {
    "name": "ipython",
    "version": 3
   },
   "file_extension": ".py",
   "mimetype": "text/x-python",
   "name": "python",
   "nbconvert_exporter": "python",
   "pygments_lexer": "ipython3",
   "version": "3.9.18"
  }
 },
 "nbformat": 4,
 "nbformat_minor": 5
}
